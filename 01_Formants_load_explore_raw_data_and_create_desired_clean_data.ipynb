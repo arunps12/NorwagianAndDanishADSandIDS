{
 "cells": [
  {
   "cell_type": "code",
   "execution_count": 1,
   "metadata": {},
   "outputs": [],
   "source": [
    "import pandas as pd\n",
    "import numpy as np\n",
    "import os"
   ]
  },
  {
   "cell_type": "markdown",
   "metadata": {},
   "source": [
    "# Load Danish and Norwagian Raw Data"
   ]
  },
  {
   "cell_type": "markdown",
   "metadata": {},
   "source": [
    "### Danish"
   ]
  },
  {
   "cell_type": "code",
   "execution_count": 2,
   "metadata": {},
   "outputs": [],
   "source": [
    "da_IDS_base_dir = r'C:\\Users\\arunps\\OneDrive\\Projects\\Scripts\\Python\\NorwagianAndDanishIDSandADS\\Raw_Data\\DanishVowelAnnotationDataCSV\\220922_newformants\\IDS'"
   ]
  },
  {
   "cell_type": "code",
   "execution_count": 3,
   "metadata": {},
   "outputs": [],
   "source": [
    "# store danish IDS raw data in dataframe\n",
    "df_IDS_da = pd.DataFrame()\n",
    "for file in os.listdir(da_IDS_base_dir):\n",
    "    #print(file)\n",
    "    df = pd.read_csv(os.path.join(da_IDS_base_dir, file), encoding='UTF-16')\n",
    "    df = df.dropna()\n",
    "    df_IDS_da = pd.concat([df_IDS_da, df], ignore_index=True)"
   ]
  },
  {
   "cell_type": "code",
   "execution_count": 4,
   "metadata": {},
   "outputs": [],
   "source": [
    "da_ADS_base_dir = r'C:\\Users\\arunps\\OneDrive\\Projects\\Scripts\\Python\\NorwagianAndDanishIDSandADS\\Raw_Data\\DanishVowelAnnotationDataCSV\\220922_newformants\\ADS'"
   ]
  },
  {
   "cell_type": "code",
   "execution_count": 5,
   "metadata": {},
   "outputs": [],
   "source": [
    "# store danish ADS raw data in datframe\n",
    "df_ADS_da = pd.DataFrame()\n",
    "for file in os.listdir(da_ADS_base_dir):\n",
    "    #print(file)\n",
    "    df = pd.read_csv(os.path.join(da_ADS_base_dir, file), encoding='UTF-16')\n",
    "    df = df.dropna()\n",
    "    df_ADS_da = pd.concat([df_ADS_da, df], ignore_index=True)"
   ]
  },
  {
   "cell_type": "markdown",
   "metadata": {},
   "source": [
    "### Norwagian"
   ]
  },
  {
   "cell_type": "code",
   "execution_count": 6,
   "metadata": {},
   "outputs": [],
   "source": [
    "no_ADS_IDS_base_dir = r'C:\\Users\\arunps\\OneDrive\\Projects\\Scripts\\Python\\NorwagianAndDanishIDSandADS\\Raw_Data\\NorwegianDataExcel'"
   ]
  },
  {
   "cell_type": "code",
   "execution_count": 7,
   "metadata": {},
   "outputs": [],
   "source": [
    "# store norwagian ADS and IDS raw data in dataframe \n",
    "df_no = pd.read_excel(os.path.join(no_ADS_IDS_base_dir, '1_FormantsWithFormatCeiling.xlsx'), index_col=[0,1])\n"
   ]
  },
  {
   "cell_type": "code",
   "execution_count": 8,
   "metadata": {},
   "outputs": [],
   "source": [
    "# create separate dataframes for norwagian IDS and ADS raw data\n",
    "\n",
    "#ADS\n",
    "df_ADS_no = df_no[df_no['Register']== 'ADS']\n",
    "\n",
    "#IDS\n",
    "df_IDS_no = df_no[df_no['Register']== 'IDS']"
   ]
  },
  {
   "cell_type": "markdown",
   "metadata": {},
   "source": [
    "# Add age, register, and spkid in the danish dataframes and make uniform columns name across all dataframes. "
   ]
  },
  {
   "cell_type": "markdown",
   "metadata": {},
   "source": [
    "### Danish spkid and register columns"
   ]
  },
  {
   "cell_type": "code",
   "execution_count": 9,
   "metadata": {},
   "outputs": [],
   "source": [
    "#IDS\n",
    "df_IDS_da['spkid'] = df_IDS_da['file'].apply(lambda x: x.split('_')[0])\n",
    "df_IDS_da['Register'] = df_IDS_da['file'].apply(lambda x: x.split('_')[3])\n",
    "\n",
    "#ADS\n",
    "df_ADS_da['spkid'] = df_ADS_da['file'].apply(lambda x: x.split('_')[0])\n",
    "df_ADS_da['Register'] = df_ADS_da['file'].apply(lambda x: x.split('_')[3])\n"
   ]
  },
  {
   "cell_type": "markdown",
   "metadata": {},
   "source": [
    "### Danish child age mapping from the txt file"
   ]
  },
  {
   "cell_type": "code",
   "execution_count": 10,
   "metadata": {},
   "outputs": [],
   "source": [
    "from utils import create_spkid_age_mapping\n",
    "# Load the mapping from the text file\n",
    "file_path = r\"C:\\Users\\arunps\\OneDrive\\Projects\\Scripts\\Python\\NorwagianAndDanishIDSandADS\\Raw_Data\\DanishChildAgeGenderInfo\\Child_data.txt\"\n",
    "spkid_age_mapping = create_spkid_age_mapping(file_path)\n",
    "\n",
    "# Map the AgeInMonth to the Danish IDS and ADS DataFrames\n",
    "df_IDS_da['AgeMonth'] = df_IDS_da['spkid'].map(spkid_age_mapping)\n",
    "df_ADS_da['AgeMonth'] = df_ADS_da['spkid'].map(spkid_age_mapping)\n"
   ]
  },
  {
   "cell_type": "markdown",
   "metadata": {},
   "source": [
    "### Making uniform column names across noragian and danish dataframes"
   ]
  },
  {
   "cell_type": "code",
   "execution_count": 11,
   "metadata": {},
   "outputs": [],
   "source": [
    "# Danish dataframes\n",
    "# droping unrquired columns\n",
    "df_ADS_da.drop(columns=['stressed','short','focused','contentword'], inplace=True)\n",
    "df_IDS_da.drop(columns=['stressed','short','focused','contentword'], inplace=True)\n",
    "\n",
    "# renaming columns to make uniform like norwagian dataframe columns\n",
    "df_ADS_da.rename(columns={'time': 'time_start', 'phoneme':'IPA', 'file': 'file_name'}, inplace=True)\n",
    "df_IDS_da.rename(columns={'time': 'time_start', 'phoneme':'IPA', 'file': 'file_name'}, inplace=True)\n",
    "\n",
    "# Adding Time end column to danish dataframes \n",
    "df_ADS_da['time_end'] = df_ADS_da['time_start'] + df_ADS_da['duration']\n",
    "df_IDS_da['time_end'] = df_IDS_da['time_start'] + df_IDS_da['duration']\n",
    "\n",
    "# Adding duration in ms column in danish dataframes by converting duration column into ms\n",
    "df_ADS_da['duration(ms)'] = df_ADS_da['duration'] * 1000\n",
    "df_ADS_da['duration(ms)'] = df_ADS_da['duration'] * 1000\n",
    "\n",
    "# droping duration column from the both dataframes\n",
    "df_ADS_da.drop(columns='duration', inplace=True)\n",
    "df_IDS_da.drop(columns='duration', inplace=True)\n"
   ]
  },
  {
   "cell_type": "code",
   "execution_count": 12,
   "metadata": {},
   "outputs": [],
   "source": [
    "# Norwagian\n",
    "#reseting index\n",
    "df_ADS_no.reset_index(inplace=True)\n",
    "df_IDS_no.reset_index(inplace=True)\n",
    "\n",
    "#rename columns to make uniform to danish dataframes\n",
    "df_ADS_no = df_ADS_no.copy()\n",
    "df_ADS_no.rename(columns={'f1': 'F1', 'f2':'F2', 'f3': 'F3', 'f4': 'F4'}, inplace=True)\n",
    "df_IDS_no = df_IDS_no.copy()\n",
    "df_IDS_no.rename(columns={'f1': 'F1', 'f2':'F2', 'f3': 'F3', 'f4': 'F4'}, inplace=True)\n",
    "\n",
    "\n",
    "\n",
    "\n"
   ]
  },
  {
   "cell_type": "markdown",
   "metadata": {},
   "source": [
    "# Check all dataframes for NA values and cleaning the data"
   ]
  },
  {
   "cell_type": "code",
   "execution_count": 13,
   "metadata": {},
   "outputs": [
    {
     "data": {
      "text/plain": [
       "file_name       0\n",
       "time_start      0\n",
       "IPA             0\n",
       "F1              0\n",
       "F2              0\n",
       "F3              0\n",
       "spkid           0\n",
       "Register        0\n",
       "AgeMonth        0\n",
       "time_end        0\n",
       "duration(ms)    0\n",
       "dtype: int64"
      ]
     },
     "execution_count": 13,
     "metadata": {},
     "output_type": "execute_result"
    }
   ],
   "source": [
    "# Danish ADS\n",
    "df_ADS_da.isna().sum()"
   ]
  },
  {
   "cell_type": "code",
   "execution_count": 14,
   "metadata": {},
   "outputs": [
    {
     "data": {
      "text/plain": [
       "file_name     0\n",
       "time_start    0\n",
       "IPA           0\n",
       "F1            0\n",
       "F2            0\n",
       "F3            0\n",
       "spkid         0\n",
       "Register      0\n",
       "AgeMonth      0\n",
       "time_end      0\n",
       "dtype: int64"
      ]
     },
     "execution_count": 14,
     "metadata": {},
     "output_type": "execute_result"
    }
   ],
   "source": [
    "# Danish IDS\n",
    "df_IDS_da.isna().sum()"
   ]
  },
  {
   "cell_type": "code",
   "execution_count": 15,
   "metadata": {},
   "outputs": [
    {
     "data": {
      "text/plain": [
       "file_name             0\n",
       "id                    0\n",
       "spkid                 0\n",
       "AgeMonth              0\n",
       "Parent                0\n",
       "Register              0\n",
       "time_start            0\n",
       "time_end              0\n",
       "Duration(ms)          0\n",
       "Word                  2\n",
       "Phoneme               0\n",
       "IPA                   0\n",
       "formantceilling       0\n",
       "F1                 1111\n",
       "F2                 1111\n",
       "F3                 1111\n",
       "F4                 1111\n",
       "dtype: int64"
      ]
     },
     "execution_count": 15,
     "metadata": {},
     "output_type": "execute_result"
    }
   ],
   "source": [
    "# Norwagian ADS\n",
    "df_ADS_no.isna().sum()"
   ]
  },
  {
   "cell_type": "code",
   "execution_count": 16,
   "metadata": {},
   "outputs": [
    {
     "data": {
      "text/plain": [
       "file_name            0\n",
       "id                   0\n",
       "spkid                0\n",
       "AgeMonth             0\n",
       "Parent               0\n",
       "Register             0\n",
       "time_start           0\n",
       "time_end             0\n",
       "Duration(ms)         0\n",
       "Word                 2\n",
       "Phoneme              0\n",
       "IPA                  0\n",
       "formantceilling      0\n",
       "F1                 832\n",
       "F2                 832\n",
       "F3                 832\n",
       "F4                 832\n",
       "dtype: int64"
      ]
     },
     "execution_count": 16,
     "metadata": {},
     "output_type": "execute_result"
    }
   ],
   "source": [
    "# Norwagian IDS\n",
    "df_IDS_no.isna().sum()"
   ]
  },
  {
   "cell_type": "code",
   "execution_count": 17,
   "metadata": {},
   "outputs": [],
   "source": [
    "# droping missing values rows from norwagian dataframes\n",
    "Formant_df_ADS_no = df_ADS_no.dropna()\n",
    "Formant_df_IDS_no = df_IDS_no.dropna()"
   ]
  },
  {
   "cell_type": "code",
   "execution_count": 18,
   "metadata": {},
   "outputs": [],
   "source": [
    "# Danish new dataframes with new names\n",
    "Formant_df_ADS_da = df_ADS_da.copy()\n",
    "Formant_df_IDS_da = df_IDS_da.copy()"
   ]
  },
  {
   "cell_type": "markdown",
   "metadata": {},
   "source": [
    "### Check column datatypes for both norwagian and danish dataframes"
   ]
  },
  {
   "cell_type": "code",
   "execution_count": 19,
   "metadata": {},
   "outputs": [
    {
     "name": "stdout",
     "output_type": "stream",
     "text": [
      "<class 'pandas.core.frame.DataFrame'>\n",
      "RangeIndex: 4538 entries, 0 to 4537\n",
      "Data columns (total 11 columns):\n",
      " #   Column        Non-Null Count  Dtype  \n",
      "---  ------        --------------  -----  \n",
      " 0   file_name     4538 non-null   object \n",
      " 1   time_start    4538 non-null   float64\n",
      " 2   IPA           4538 non-null   object \n",
      " 3   F1            4538 non-null   object \n",
      " 4   F2            4538 non-null   object \n",
      " 5   F3            4538 non-null   object \n",
      " 6   spkid         4538 non-null   object \n",
      " 7   Register      4538 non-null   object \n",
      " 8   AgeMonth      4538 non-null   object \n",
      " 9   time_end      4538 non-null   float64\n",
      " 10  duration(ms)  4538 non-null   float64\n",
      "dtypes: float64(3), object(8)\n",
      "memory usage: 390.1+ KB\n"
     ]
    }
   ],
   "source": [
    "# Danish ADS\n",
    "Formant_df_ADS_da.info()"
   ]
  },
  {
   "cell_type": "code",
   "execution_count": 20,
   "metadata": {},
   "outputs": [],
   "source": [
    "# Convert object columns that contain numeric values to float\n",
    "col_names = ['F1', 'F2', 'F3', 'AgeMonth']\n",
    "Formant_df_ADS_da[col_names] = Formant_df_ADS_da[col_names].apply(pd.to_numeric, errors='coerce')\n"
   ]
  },
  {
   "cell_type": "code",
   "execution_count": 21,
   "metadata": {},
   "outputs": [
    {
     "name": "stdout",
     "output_type": "stream",
     "text": [
      "<class 'pandas.core.frame.DataFrame'>\n",
      "RangeIndex: 4538 entries, 0 to 4537\n",
      "Data columns (total 11 columns):\n",
      " #   Column        Non-Null Count  Dtype  \n",
      "---  ------        --------------  -----  \n",
      " 0   file_name     4538 non-null   object \n",
      " 1   time_start    4538 non-null   float64\n",
      " 2   IPA           4538 non-null   object \n",
      " 3   F1            4538 non-null   float64\n",
      " 4   F2            4538 non-null   float64\n",
      " 5   F3            4538 non-null   float64\n",
      " 6   spkid         4538 non-null   object \n",
      " 7   Register      4538 non-null   object \n",
      " 8   AgeMonth      4538 non-null   int64  \n",
      " 9   time_end      4538 non-null   float64\n",
      " 10  duration(ms)  4538 non-null   float64\n",
      "dtypes: float64(6), int64(1), object(4)\n",
      "memory usage: 390.1+ KB\n"
     ]
    }
   ],
   "source": [
    "Formant_df_ADS_da.info()"
   ]
  },
  {
   "cell_type": "code",
   "execution_count": 22,
   "metadata": {},
   "outputs": [
    {
     "name": "stdout",
     "output_type": "stream",
     "text": [
      "<class 'pandas.core.frame.DataFrame'>\n",
      "RangeIndex: 4784 entries, 0 to 4783\n",
      "Data columns (total 10 columns):\n",
      " #   Column      Non-Null Count  Dtype  \n",
      "---  ------      --------------  -----  \n",
      " 0   file_name   4784 non-null   object \n",
      " 1   time_start  4784 non-null   float64\n",
      " 2   IPA         4784 non-null   object \n",
      " 3   F1          4784 non-null   float64\n",
      " 4   F2          4784 non-null   float64\n",
      " 5   F3          4784 non-null   float64\n",
      " 6   spkid       4784 non-null   object \n",
      " 7   Register    4784 non-null   object \n",
      " 8   AgeMonth    4784 non-null   object \n",
      " 9   time_end    4784 non-null   float64\n",
      "dtypes: float64(5), object(5)\n",
      "memory usage: 373.9+ KB\n"
     ]
    }
   ],
   "source": [
    "# Danish IDS\n",
    "Formant_df_IDS_da.info()"
   ]
  },
  {
   "cell_type": "code",
   "execution_count": 23,
   "metadata": {},
   "outputs": [],
   "source": [
    "Formant_df_IDS_da['AgeMonth'] = Formant_df_IDS_da['AgeMonth'].apply(pd.to_numeric, errors='coerce')"
   ]
  },
  {
   "cell_type": "code",
   "execution_count": 24,
   "metadata": {},
   "outputs": [
    {
     "name": "stdout",
     "output_type": "stream",
     "text": [
      "<class 'pandas.core.frame.DataFrame'>\n",
      "RangeIndex: 4784 entries, 0 to 4783\n",
      "Data columns (total 10 columns):\n",
      " #   Column      Non-Null Count  Dtype  \n",
      "---  ------      --------------  -----  \n",
      " 0   file_name   4784 non-null   object \n",
      " 1   time_start  4784 non-null   float64\n",
      " 2   IPA         4784 non-null   object \n",
      " 3   F1          4784 non-null   float64\n",
      " 4   F2          4784 non-null   float64\n",
      " 5   F3          4784 non-null   float64\n",
      " 6   spkid       4784 non-null   object \n",
      " 7   Register    4784 non-null   object \n",
      " 8   AgeMonth    4784 non-null   int64  \n",
      " 9   time_end    4784 non-null   float64\n",
      "dtypes: float64(5), int64(1), object(4)\n",
      "memory usage: 373.9+ KB\n"
     ]
    }
   ],
   "source": [
    "Formant_df_IDS_da.info()"
   ]
  },
  {
   "cell_type": "code",
   "execution_count": 25,
   "metadata": {},
   "outputs": [
    {
     "name": "stdout",
     "output_type": "stream",
     "text": [
      "<class 'pandas.core.frame.DataFrame'>\n",
      "Index: 27454 entries, 0 to 28565\n",
      "Data columns (total 17 columns):\n",
      " #   Column           Non-Null Count  Dtype  \n",
      "---  ------           --------------  -----  \n",
      " 0   file_name        27454 non-null  object \n",
      " 1   id               27454 non-null  int64  \n",
      " 2   spkid            27454 non-null  object \n",
      " 3   AgeMonth         27454 non-null  int64  \n",
      " 4   Parent           27454 non-null  object \n",
      " 5   Register         27454 non-null  object \n",
      " 6   time_start       27454 non-null  float64\n",
      " 7   time_end         27454 non-null  float64\n",
      " 8   Duration(ms)     27454 non-null  float64\n",
      " 9   Word             27454 non-null  object \n",
      " 10  Phoneme          27454 non-null  object \n",
      " 11  IPA              27454 non-null  object \n",
      " 12  formantceilling  27454 non-null  int64  \n",
      " 13  F1               27454 non-null  float64\n",
      " 14  F2               27454 non-null  float64\n",
      " 15  F3               27454 non-null  float64\n",
      " 16  F4               27454 non-null  float64\n",
      "dtypes: float64(7), int64(3), object(7)\n",
      "memory usage: 3.8+ MB\n"
     ]
    }
   ],
   "source": [
    "# Norwagian ADS\n",
    "Formant_df_ADS_no.info()"
   ]
  },
  {
   "cell_type": "code",
   "execution_count": 26,
   "metadata": {},
   "outputs": [
    {
     "name": "stdout",
     "output_type": "stream",
     "text": [
      "<class 'pandas.core.frame.DataFrame'>\n",
      "Index: 27597 entries, 0 to 28430\n",
      "Data columns (total 17 columns):\n",
      " #   Column           Non-Null Count  Dtype  \n",
      "---  ------           --------------  -----  \n",
      " 0   file_name        27597 non-null  object \n",
      " 1   id               27597 non-null  int64  \n",
      " 2   spkid            27597 non-null  object \n",
      " 3   AgeMonth         27597 non-null  int64  \n",
      " 4   Parent           27597 non-null  object \n",
      " 5   Register         27597 non-null  object \n",
      " 6   time_start       27597 non-null  float64\n",
      " 7   time_end         27597 non-null  float64\n",
      " 8   Duration(ms)     27597 non-null  float64\n",
      " 9   Word             27597 non-null  object \n",
      " 10  Phoneme          27597 non-null  object \n",
      " 11  IPA              27597 non-null  object \n",
      " 12  formantceilling  27597 non-null  int64  \n",
      " 13  F1               27597 non-null  float64\n",
      " 14  F2               27597 non-null  float64\n",
      " 15  F3               27597 non-null  float64\n",
      " 16  F4               27597 non-null  float64\n",
      "dtypes: float64(7), int64(3), object(7)\n",
      "memory usage: 3.8+ MB\n"
     ]
    }
   ],
   "source": [
    "# Norwagian IDS\n",
    "Formant_df_IDS_no.info()"
   ]
  },
  {
   "cell_type": "markdown",
   "metadata": {},
   "source": [
    "# Counting datapoints "
   ]
  },
  {
   "cell_type": "markdown",
   "metadata": {},
   "source": [
    "### Danish "
   ]
  },
  {
   "cell_type": "code",
   "execution_count": 27,
   "metadata": {},
   "outputs": [],
   "source": [
    "da_ADS_count_per_spkid_age_IPA_df = Formant_df_ADS_da.groupby(['spkid','AgeMonth','IPA']).size().reset_index()\n",
    "da_ADS_count_per_spkid_age_IPA_df.rename(columns={0: 'count'}, inplace=True)"
   ]
  },
  {
   "cell_type": "code",
   "execution_count": 28,
   "metadata": {},
   "outputs": [],
   "source": [
    "da_IDS_count_per_spkid_age_IPA_df = Formant_df_IDS_da.groupby(['spkid','AgeMonth','IPA']).size().reset_index()\n",
    "da_IDS_count_per_spkid_age_IPA_df.rename(columns={0: 'count'}, inplace=True)"
   ]
  },
  {
   "cell_type": "markdown",
   "metadata": {},
   "source": [
    "### Norwagian"
   ]
  },
  {
   "cell_type": "code",
   "execution_count": 29,
   "metadata": {},
   "outputs": [],
   "source": [
    "no_ADS_count_per_spkid_age_IPA_df = Formant_df_ADS_no.groupby(['Parent','spkid','AgeMonth','IPA']).size().reset_index()\n",
    "no_ADS_count_per_spkid_age_IPA_df.rename(columns={0: 'count'}, inplace=True)"
   ]
  },
  {
   "cell_type": "code",
   "execution_count": 30,
   "metadata": {},
   "outputs": [],
   "source": [
    "no_IDS_count_per_spkid_age_IPA_df = Formant_df_IDS_no.groupby(['Parent','spkid','AgeMonth','IPA']).size().reset_index()\n",
    "no_IDS_count_per_spkid_age_IPA_df.rename(columns={0: 'count'}, inplace=True)"
   ]
  },
  {
   "cell_type": "markdown",
   "metadata": {},
   "source": [
    "# Saving clean dataframes and count values"
   ]
  },
  {
   "cell_type": "markdown",
   "metadata": {},
   "source": [
    "### Clean dataframes"
   ]
  },
  {
   "cell_type": "code",
   "execution_count": 31,
   "metadata": {},
   "outputs": [],
   "source": [
    "# Danish\n",
    "Formant_df_ADS_da.to_csv(r'C:\\Users\\arunps\\OneDrive\\Projects\\Scripts\\Python\\NorwagianAndDanishIDSandADS\\Clean_data\\Danish\\Formants\\Formant_df_ADS_da.csv')\n",
    "Formant_df_IDS_da.to_csv(r'C:\\Users\\arunps\\OneDrive\\Projects\\Scripts\\Python\\NorwagianAndDanishIDSandADS\\Clean_data\\Danish\\Formants\\Formant_df_IDS_da.csv')"
   ]
  },
  {
   "cell_type": "code",
   "execution_count": 32,
   "metadata": {},
   "outputs": [],
   "source": [
    "# Norwagian\n",
    "Formant_df_ADS_no.to_csv(r'C:\\Users\\arunps\\OneDrive\\Projects\\Scripts\\Python\\NorwagianAndDanishIDSandADS\\Clean_data\\Norwagian\\Formants\\Formant_df_ADS_no.csv')\n",
    "Formant_df_IDS_no.to_csv(r'C:\\Users\\arunps\\OneDrive\\Projects\\Scripts\\Python\\NorwagianAndDanishIDSandADS\\Clean_data\\Norwagian\\Formants\\Formant_df_IDS_no.csv')"
   ]
  },
  {
   "cell_type": "markdown",
   "metadata": {},
   "source": [
    "### Count dataframes\n"
   ]
  },
  {
   "cell_type": "code",
   "execution_count": 34,
   "metadata": {},
   "outputs": [],
   "source": [
    "# Danish\n",
    "da_ADS_count_per_spkid_age_IPA_df.to_excel(r'C:\\Users\\arunps\\OneDrive\\Projects\\Scripts\\Python\\NorwagianAndDanishIDSandADS\\DataCount\\Danish\\da_ADS_count_per_spkid_age_IPA_df..xlsx')\n",
    "da_IDS_count_per_spkid_age_IPA_df.to_excel(r'C:\\Users\\arunps\\OneDrive\\Projects\\Scripts\\Python\\NorwagianAndDanishIDSandADS\\DataCount\\Danish\\da_IDS_count_per_spkid_age_IPA_df..xlsx')"
   ]
  },
  {
   "cell_type": "code",
   "execution_count": 35,
   "metadata": {},
   "outputs": [],
   "source": [
    "# Norwagian\n",
    "no_ADS_count_per_spkid_age_IPA_df.to_excel(r'C:\\Users\\arunps\\OneDrive\\Projects\\Scripts\\Python\\NorwagianAndDanishIDSandADS\\DataCount\\Norwagian\\no_ADS_count_per_spkid_age_IPA_df..xlsx')\n",
    "no_IDS_count_per_spkid_age_IPA_df.to_excel(r'C:\\Users\\arunps\\OneDrive\\Projects\\Scripts\\Python\\NorwagianAndDanishIDSandADS\\DataCount\\Norwagian\\no_IDS_count_per_spkid_age_IPA_df..xlsx')"
   ]
  }
 ],
 "metadata": {
  "kernelspec": {
   "display_name": "base",
   "language": "python",
   "name": "python3"
  },
  "language_info": {
   "codemirror_mode": {
    "name": "ipython",
    "version": 3
   },
   "file_extension": ".py",
   "mimetype": "text/x-python",
   "name": "python",
   "nbconvert_exporter": "python",
   "pygments_lexer": "ipython3",
   "version": "3.10.5"
  }
 },
 "nbformat": 4,
 "nbformat_minor": 2
}
