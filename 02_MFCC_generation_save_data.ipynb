{
 "cells": [
  {
   "cell_type": "code",
   "execution_count": 1,
   "metadata": {},
   "outputs": [],
   "source": [
    "import os\n",
    "import numpy as np\n",
    "import pandas as pd"
   ]
  },
  {
   "cell_type": "markdown",
   "metadata": {},
   "source": [
    "## Loading clean data in a dataframe and extrating target columns"
   ]
  },
  {
   "cell_type": "code",
   "execution_count": 2,
   "metadata": {},
   "outputs": [],
   "source": [
    "# Danish\n",
    "MFCC_df_ADS_da = pd.read_csv(r'C:\\Users\\arunps\\OneDrive\\Projects\\Scripts\\Python\\NorwagianAndDanishIDSandADS\\Clean_data\\Danish\\Formants\\Formant_df_ADS_da.csv')\n",
    "MFCC_df_IDS_da = pd.read_csv(r'C:\\Users\\arunps\\OneDrive\\Projects\\Scripts\\Python\\NorwagianAndDanishIDSandADS\\Clean_data\\Danish\\Formants\\Formant_df_IDS_da.csv')"
   ]
  },
  {
   "cell_type": "code",
   "execution_count": 3,
   "metadata": {},
   "outputs": [],
   "source": [
    "# Norwagian\n",
    "MFCC_df_ADS_no = pd.read_csv(r'C:\\Users\\arunps\\OneDrive\\Projects\\Scripts\\Python\\NorwagianAndDanishIDSandADS\\Clean_data\\Norwagian\\Formants\\Formant_df_ADS_no.csv')\n",
    "MFCC_df_IDS_no = pd.read_csv(r'C:\\Users\\arunps\\OneDrive\\Projects\\Scripts\\Python\\NorwagianAndDanishIDSandADS\\Clean_data\\Norwagian\\Formants\\Formant_df_IDS_no.csv')"
   ]
  },
  {
   "cell_type": "markdown",
   "metadata": {},
   "source": [
    "### Target columns"
   ]
  },
  {
   "cell_type": "code",
   "execution_count": 6,
   "metadata": {},
   "outputs": [],
   "source": [
    "target_columns_da = ['file_name', 'spkid', 'AgeMonth', 'Register', 'time_start', 'time_end', 'IPA']\n",
    "\n",
    "target_columns_no = ['file_name', 'spkid', 'AgeMonth', 'Parent', 'Register', 'time_start', 'time_end', 'IPA']"
   ]
  },
  {
   "cell_type": "code",
   "execution_count": 7,
   "metadata": {},
   "outputs": [],
   "source": [
    "# extract target columns\n",
    "MFCC_df_ADS_no =MFCC_df_ADS_no[target_columns_no].copy()\n",
    "MFCC_df_IDS_no = MFCC_df_IDS_no[target_columns_no].copy()\n",
    "MFCC_df_ADS_da = MFCC_df_ADS_da[target_columns_da].copy()\n",
    "MFCC_df_IDS_da = MFCC_df_IDS_da[target_columns_da].copy()"
   ]
  },
  {
   "cell_type": "markdown",
   "metadata": {},
   "source": [
    "# Extracting MFCC features\n",
    "#### uncomment all below codes if you are extractig new mfcc features"
   ]
  },
  {
   "cell_type": "code",
   "execution_count": 9,
   "metadata": {},
   "outputs": [],
   "source": [
    "# Norwagian wave dir\n",
    "#NO_wav_dir = r'\\\\hypatia.uio.no\\lh-hf-iln-sociocognitivelab\\Research\\BabyLearn\\Working_dir\\wav_files_organized'\n",
    "\n",
    "# Danish wav dir\n",
    "#DA_wav_dir = r'C:\\Users\\arunps\\OneDrive\\Projects\\Danish IDS\\PraatTextGridsAudio'"
   ]
  },
  {
   "cell_type": "markdown",
   "metadata": {},
   "source": [
    "##### Norwagian MFCC"
   ]
  },
  {
   "cell_type": "code",
   "execution_count": 10,
   "metadata": {},
   "outputs": [],
   "source": [
    "#from audio_utils import mfcc\n",
    "#mfcc(MFCC_df_ADS_no, NO_wav_dir)\n",
    "#mfcc(MFCC_df_IDS_no, NO_wav_dir)\n"
   ]
  },
  {
   "cell_type": "markdown",
   "metadata": {},
   "source": [
    "##### Danish MFCC"
   ]
  },
  {
   "cell_type": "code",
   "execution_count": 11,
   "metadata": {},
   "outputs": [],
   "source": [
    "#mfcc(MFCC_df_ADS_da, DA_wav_dir)\n",
    "#mfcc(MFCC_df_IDS_da, DA_wav_dir)"
   ]
  },
  {
   "cell_type": "markdown",
   "metadata": {},
   "source": [
    "### Saving mfcc dataframes"
   ]
  },
  {
   "cell_type": "code",
   "execution_count": 12,
   "metadata": {},
   "outputs": [],
   "source": [
    "# Norwagian\n",
    "#MFCC_df_ADS_no.to_csv(r'C:\\Users\\arunps\\OneDrive\\Projects\\Scripts\\Python\\NorwagianAndDanishIDSandADS\\Clean_data\\Norwagian\\MFCC\\Norwegian_ADS_MFCC.csv')\n",
    "#MFCC_df_IDS_no.to_csv(r'C:\\Users\\arunps\\OneDrive\\Projects\\Scripts\\Python\\NorwagianAndDanishIDSandADS\\Clean_data\\Norwagian\\MFCC\\Norwegian_IDS_MFCC.csv')\n",
    "\n",
    "# Danish\n",
    "#MFCC_df_ADS_da.to_csv(r'C:\\Users\\arunps\\OneDrive\\Projects\\Scripts\\Python\\NorwagianAndDanishIDSandADS\\Clean_data\\Danish\\MFCC\\Danish_ADS_MFCC.csv')\n",
    "#MFCC_df_IDS_da.to_csv(r'C:\\Users\\arunps\\OneDrive\\Projects\\Scripts\\Python\\NorwagianAndDanishIDSandADS\\Clean_data\\Danish\\MFCC\\Danish_IDS_MFCC.csv')\n"
   ]
  }
 ],
 "metadata": {
  "kernelspec": {
   "display_name": "torch",
   "language": "python",
   "name": "python3"
  },
  "language_info": {
   "codemirror_mode": {
    "name": "ipython",
    "version": 3
   },
   "file_extension": ".py",
   "mimetype": "text/x-python",
   "name": "python",
   "nbconvert_exporter": "python",
   "pygments_lexer": "ipython3",
   "version": "3.10.5"
  }
 },
 "nbformat": 4,
 "nbformat_minor": 2
}
