{
 "cells": [
  {
   "cell_type": "code",
   "execution_count": 16,
   "metadata": {},
   "outputs": [],
   "source": [
    "import os\n",
    "import numpy as np\n",
    "import pandas as pd"
   ]
  },
  {
   "cell_type": "code",
   "execution_count": 17,
   "metadata": {},
   "outputs": [],
   "source": [
    "%load_ext autoreload\n",
    "%autoreload 2"
   ]
  },
  {
   "cell_type": "code",
   "execution_count": 341,
   "metadata": {},
   "outputs": [],
   "source": [
    "from RequireFunctions import vowel_space_expansion"
   ]
  },
  {
   "cell_type": "markdown",
   "metadata": {},
   "source": [
    "# six border vowels\n",
    "### Vowel space area \n",
    "##### Formants: area of convex hull\n",
    "##### MFCC: volume of convex hull"
   ]
  },
  {
   "cell_type": "code",
   "execution_count": 18,
   "metadata": {},
   "outputs": [],
   "source": [
    "target_vowels = ['a', 'e', 'i', 'o', 'u', 'æ']"
   ]
  },
  {
   "cell_type": "code",
   "execution_count": 19,
   "metadata": {},
   "outputs": [],
   "source": [
    "# file path Norwegian\n",
    "#formant\n",
    "in_path_formant_no_ADS = r'C:\\Users\\arunps\\OneDrive\\Projects\\Scripts\\Python\\NorwagianAndDanishIDSandADS\\Clean_data\\Norwagian\\Formants\\Formant_df_ADS_no.csv'\n",
    "in_path_formant_no_IDS = r'C:\\Users\\arunps\\OneDrive\\Projects\\Scripts\\Python\\NorwagianAndDanishIDSandADS\\Clean_data\\Norwagian\\Formants\\Formant_df_IDS_no.csv'\n",
    "\n",
    "#MFCC\n",
    "in_path_mfcc_no_ADS = r'C:\\Users\\arunps\\OneDrive\\Projects\\Scripts\\Python\\NorwagianAndDanishIDSandADS\\Clean_data\\Norwagian\\MFCC\\Norwegian_ADS_MFCC.csv'\n",
    "in_path_mfcc_no_IDS = r'C:\\Users\\arunps\\OneDrive\\Projects\\Scripts\\Python\\NorwagianAndDanishIDSandADS\\Clean_data\\Norwagian\\MFCC\\Norwegian_IDS_MFCC.csv'"
   ]
  },
  {
   "cell_type": "code",
   "execution_count": 21,
   "metadata": {},
   "outputs": [],
   "source": [
    "#file path Danish\n",
    "#formant\n",
    "in_path_formant_da_ADS = r'C:\\Users\\arunps\\OneDrive\\Projects\\Scripts\\Python\\NorwagianAndDanishIDSandADS\\Clean_data\\Danish\\Formants\\Formant_df_ADS_da.csv'\n",
    "in_path_formant_da_IDS = r'C:\\Users\\arunps\\OneDrive\\Projects\\Scripts\\Python\\NorwagianAndDanishIDSandADS\\Clean_data\\Danish\\Formants\\Formant_df_IDS_da.csv'\n",
    "\n",
    "#MFCC\n",
    "in_path_mfcc_da_ADS = r'C:\\Users\\arunps\\OneDrive\\Projects\\Scripts\\Python\\NorwagianAndDanishIDSandADS\\Clean_data\\Danish\\MFCC\\Danish_ADS_MFCC.csv'\n",
    "in_path_mfcc_da_IDS = r'C:\\Users\\arunps\\OneDrive\\Projects\\Scripts\\Python\\NorwagianAndDanishIDSandADS\\Clean_data\\Danish\\MFCC\\Danish_IDS_MFCC.csv'"
   ]
  },
  {
   "cell_type": "code",
   "execution_count": 20,
   "metadata": {},
   "outputs": [],
   "source": [
    "#features column names\n",
    "#formant\n",
    "formant_feat_col = ['F1', 'F2']\n",
    "\n",
    "#MFCC\n",
    "mfcc_feat_col = [f'mfcc{i}' for i in range(1, 14)]"
   ]
  },
  {
   "cell_type": "markdown",
   "metadata": {},
   "source": [
    "#### out path where the output Excel file with the convex hull areas will be saved"
   ]
  },
  {
   "cell_type": "code",
   "execution_count": 345,
   "metadata": {},
   "outputs": [],
   "source": [
    "out_dir = r'C:\\Users\\arunps\\OneDrive\\Projects\\Scripts\\Python\\NorwagianAndDanishIDSandADS\\ComputedResults\\Area'"
   ]
  },
  {
   "cell_type": "code",
   "execution_count": 346,
   "metadata": {},
   "outputs": [],
   "source": [
    "# Norwagian\n",
    "# formant\n",
    "out_path_formant_no_ADS = os.path.join(out_dir, str(len(target_vowels)) + '_' + 'bordervowels' + '_' + 'formant_no_ADS')\n",
    "out_path_formant_no_IDS = os.path.join(out_dir, str(len(target_vowels)) + '_' + 'bordervowels' + '_' + 'formant_no_IDS')\n",
    "\n",
    "#MFCC\n",
    "out_path_mfcc_no_ADS = os.path.join(out_dir, str(len(target_vowels)) + '_' + 'bordervowels' + '_' + 'mfcc_no_ADS')\n",
    "out_path_mfcc_no_IDS = os.path.join(out_dir, str(len(target_vowels)) + '_' + 'bordervowels' + '_' + 'mfcc_no_IDS')"
   ]
  },
  {
   "cell_type": "code",
   "execution_count": 347,
   "metadata": {},
   "outputs": [],
   "source": [
    "# Danish\n",
    "#formant\n",
    "out_path_formant_da_ADS = os.path.join(out_dir, str(len(target_vowels)) + '_' + 'bordervowels' + '_' + 'formant_da_ADS')\n",
    "out_path_formant_da_IDS = os.path.join(out_dir, str(len(target_vowels)) + '_' + 'bordervowels' + '_' + 'formant_da_IDS')\n",
    "#MFCC\n",
    "out_path_mfcc_da_ADS = os.path.join(out_dir, str(len(target_vowels)) + '_' + 'bordervowels' + '_' + 'mfcc_da_ADS')\n",
    "out_path_mfcc_da_IDS = os.path.join(out_dir, str(len(target_vowels)) + '_' + 'bordervowels' + '_' + 'mfcc_da_IDS')"
   ]
  },
  {
   "cell_type": "code",
   "execution_count": 348,
   "metadata": {},
   "outputs": [
    {
     "name": "stdout",
     "output_type": "stream",
     "text": [
      "Convex hull areas have been saved\n",
      "Convex hull areas have been saved\n"
     ]
    }
   ],
   "source": [
    "# Area\n",
    "# Norwagian Mother fromant \n",
    "\n",
    "# ADS\n",
    "vowel_space_expansion(in_path_formant_no_ADS, target_vowels, 'ADS', formant_feat_col, out_path_formant_no_ADS, parentgender = 'M')\n",
    "\n",
    "# IDS \n",
    "vowel_space_expansion(in_path_formant_no_IDS, target_vowels, 'IDS', formant_feat_col, out_path_formant_no_IDS, parentgender = 'M')"
   ]
  },
  {
   "cell_type": "code",
   "execution_count": 193,
   "metadata": {},
   "outputs": [
    {
     "name": "stdout",
     "output_type": "stream",
     "text": [
      "Convex hull areas have been saved\n",
      "Convex hull areas have been saved\n"
     ]
    }
   ],
   "source": [
    "# Area\n",
    "# Norwagian Father fromant \n",
    "\n",
    "# ADS\n",
    "vowel_space_expansion(in_path_formant_no_ADS, target_vowels, 'ADS', formant_feat_col, out_path_formant_no_ADS, parentgender = 'F')\n",
    "\n",
    "# IDS \n",
    "vowel_space_expansion(in_path_formant_no_IDS, target_vowels, 'IDS', formant_feat_col, out_path_formant_no_IDS, parentgender = 'F')"
   ]
  },
  {
   "cell_type": "code",
   "execution_count": 194,
   "metadata": {},
   "outputs": [
    {
     "name": "stdout",
     "output_type": "stream",
     "text": [
      "Convex hull areas have been saved\n",
      "Convex hull areas have been saved\n"
     ]
    }
   ],
   "source": [
    "# Area\n",
    "# Danis fromant ADS\n",
    "vowel_space_expansion(in_path_formant_da_ADS, target_vowels, 'ADS', formant_feat_col, out_path_formant_da_ADS)\n",
    "\n",
    "# IDS \n",
    "vowel_space_expansion(in_path_formant_da_IDS, target_vowels, 'IDS', formant_feat_col, out_path_formant_da_IDS)"
   ]
  },
  {
   "cell_type": "markdown",
   "metadata": {},
   "source": [
    "##### MFCC"
   ]
  },
  {
   "cell_type": "code",
   "execution_count": 195,
   "metadata": {},
   "outputs": [
    {
     "name": "stdout",
     "output_type": "stream",
     "text": [
      "Convex hull areas have been saved\n",
      "Convex hull areas have been saved\n"
     ]
    }
   ],
   "source": [
    "# Norwagian mother mfcc\n",
    "#  ADS\n",
    "vowel_space_expansion(in_path_mfcc_no_ADS, target_vowels, 'ADS', mfcc_feat_col, out_path_mfcc_no_ADS, parentgender = 'M')\n",
    "\n",
    "# IDS \n",
    "vowel_space_expansion(in_path_mfcc_no_IDS, target_vowels, 'IDS', mfcc_feat_col, out_path_mfcc_no_IDS, parentgender = 'M')"
   ]
  },
  {
   "cell_type": "code",
   "execution_count": 196,
   "metadata": {},
   "outputs": [
    {
     "name": "stdout",
     "output_type": "stream",
     "text": [
      "Convex hull areas have been saved\n",
      "Convex hull areas have been saved\n"
     ]
    }
   ],
   "source": [
    "# Norwagian Father mfcc\n",
    "#  ADS\n",
    "vowel_space_expansion(in_path_mfcc_no_ADS, target_vowels, 'ADS', mfcc_feat_col, out_path_mfcc_no_ADS, parentgender = 'F')\n",
    "\n",
    "# IDS \n",
    "vowel_space_expansion(in_path_mfcc_no_IDS, target_vowels, 'IDS', mfcc_feat_col, out_path_mfcc_no_IDS, parentgender = 'F')"
   ]
  },
  {
   "cell_type": "code",
   "execution_count": 197,
   "metadata": {},
   "outputs": [
    {
     "name": "stdout",
     "output_type": "stream",
     "text": [
      "Convex hull areas have been saved\n",
      "Convex hull areas have been saved\n"
     ]
    }
   ],
   "source": [
    "# Danish \n",
    "#  ADS\n",
    "vowel_space_expansion(in_path_mfcc_da_ADS, target_vowels, 'ADS', mfcc_feat_col, out_path_mfcc_da_ADS)\n",
    "\n",
    "# IDS \n",
    "vowel_space_expansion(in_path_mfcc_da_IDS, target_vowels, 'IDS', mfcc_feat_col, out_path_mfcc_da_IDS)"
   ]
  },
  {
   "cell_type": "markdown",
   "metadata": {},
   "source": [
    "### Vowel Variability"
   ]
  },
  {
   "cell_type": "code",
   "execution_count": 352,
   "metadata": {},
   "outputs": [],
   "source": [
    "from RequireFunctions import vowel_variability"
   ]
  },
  {
   "cell_type": "code",
   "execution_count": 353,
   "metadata": {},
   "outputs": [],
   "source": [
    "out_dir = r'C:\\Users\\arunps\\OneDrive\\Projects\\Scripts\\Python\\NorwagianAndDanishIDSandADS\\ComputedResults\\Variability'"
   ]
  },
  {
   "cell_type": "code",
   "execution_count": 333,
   "metadata": {},
   "outputs": [],
   "source": [
    "# Norwagian\n",
    "# formant\n",
    "out_path_formant_no_ADS = os.path.join(out_dir, str(len(target_vowels)) + '_' + 'bordervowels' + '_' + 'formant_no_ADS')\n",
    "out_path_formant_no_IDS = os.path.join(out_dir, str(len(target_vowels)) + '_' + 'bordervowels' + '_' + 'formant_no_IDS')\n",
    "\n",
    "#MFCC\n",
    "out_path_mfcc_no_ADS = os.path.join(out_dir, str(len(target_vowels)) + '_' + 'bordervowels' + '_' + 'mfcc_no_ADS')\n",
    "out_path_mfcc_no_IDS = os.path.join(out_dir, str(len(target_vowels)) + '_' + 'bordervowels' + '_' + 'mfcc_no_IDS')"
   ]
  },
  {
   "cell_type": "code",
   "execution_count": 334,
   "metadata": {},
   "outputs": [],
   "source": [
    "# Danish\n",
    "#formant\n",
    "out_path_formant_da_ADS = os.path.join(out_dir, str(len(target_vowels)) + '_' + 'bordervowels' + '_' + 'formant_da_ADS')\n",
    "out_path_formant_da_IDS = os.path.join(out_dir, str(len(target_vowels)) + '_' + 'bordervowels' + '_' + 'formant_da_IDS')\n",
    "#MFCC\n",
    "out_path_mfcc_da_ADS = os.path.join(out_dir, str(len(target_vowels)) + '_' + 'bordervowels' + '_' + 'mfcc_da_ADS')\n",
    "out_path_mfcc_da_IDS = os.path.join(out_dir, str(len(target_vowels)) + '_' + 'bordervowels' + '_' + 'mfcc_da_IDS')"
   ]
  },
  {
   "cell_type": "code",
   "execution_count": 335,
   "metadata": {},
   "outputs": [
    {
     "name": "stdout",
     "output_type": "stream",
     "text": [
      "Variabilities have been saved\n",
      "Variabilities have been saved\n"
     ]
    }
   ],
   "source": [
    "# Norwagian Mother fromant \n",
    "\n",
    "# ADS\n",
    "vowel_variability(in_path_formant_no_ADS, target_vowels, 'ADS', formant_feat_col, out_path_formant_no_ADS, parentgender = 'M')\n",
    "\n",
    "# IDS \n",
    "vowel_variability(in_path_formant_no_IDS, target_vowels, 'IDS', formant_feat_col, out_path_formant_no_IDS, parentgender = 'M')"
   ]
  },
  {
   "cell_type": "code",
   "execution_count": 336,
   "metadata": {},
   "outputs": [
    {
     "name": "stdout",
     "output_type": "stream",
     "text": [
      "Variabilities have been saved\n",
      "Variabilities have been saved\n"
     ]
    }
   ],
   "source": [
    "# Area\n",
    "# Norwagian Father fromant \n",
    "\n",
    "# ADS\n",
    "vowel_variability(in_path_formant_no_ADS, target_vowels, 'ADS', formant_feat_col, out_path_formant_no_ADS, parentgender = 'F')\n",
    "\n",
    "# IDS \n",
    "vowel_variability(in_path_formant_no_IDS, target_vowels, 'IDS', formant_feat_col, out_path_formant_no_IDS, parentgender = 'F')"
   ]
  },
  {
   "cell_type": "code",
   "execution_count": 337,
   "metadata": {},
   "outputs": [
    {
     "name": "stdout",
     "output_type": "stream",
     "text": [
      "Variabilities have been saved\n",
      "Variabilities have been saved\n"
     ]
    }
   ],
   "source": [
    "# Area\n",
    "# Danis fromant ADS\n",
    "vowel_variability(in_path_formant_da_ADS, target_vowels, 'ADS', formant_feat_col, out_path_formant_da_ADS)\n",
    "\n",
    "# IDS \n",
    "vowel_variability(in_path_formant_da_IDS, target_vowels, 'IDS', formant_feat_col, out_path_formant_da_IDS)"
   ]
  },
  {
   "cell_type": "markdown",
   "metadata": {},
   "source": [
    "# MFCC"
   ]
  },
  {
   "cell_type": "code",
   "execution_count": 338,
   "metadata": {},
   "outputs": [
    {
     "name": "stdout",
     "output_type": "stream",
     "text": [
      "Variabilities have been saved\n",
      "Variabilities have been saved\n"
     ]
    }
   ],
   "source": [
    "# Norwagian mother mfcc\n",
    "#  ADS\n",
    "vowel_variability(in_path_mfcc_no_ADS, target_vowels, 'ADS', mfcc_feat_col, out_path_mfcc_no_ADS, parentgender = 'M')\n",
    "\n",
    "# IDS \n",
    "vowel_variability(in_path_mfcc_no_IDS, target_vowels, 'IDS', mfcc_feat_col, out_path_mfcc_no_IDS, parentgender = 'M')"
   ]
  },
  {
   "cell_type": "code",
   "execution_count": 339,
   "metadata": {},
   "outputs": [
    {
     "name": "stdout",
     "output_type": "stream",
     "text": [
      "Variabilities have been saved\n",
      "Variabilities have been saved\n"
     ]
    }
   ],
   "source": [
    "# Norwagian Father mfcc\n",
    "#  ADS\n",
    "vowel_variability(in_path_mfcc_no_ADS, target_vowels, 'ADS', mfcc_feat_col, out_path_mfcc_no_ADS, parentgender = 'F')\n",
    "\n",
    "# IDS \n",
    "vowel_variability(in_path_mfcc_no_IDS, target_vowels, 'IDS', mfcc_feat_col, out_path_mfcc_no_IDS, parentgender = 'F')"
   ]
  },
  {
   "cell_type": "code",
   "execution_count": 340,
   "metadata": {},
   "outputs": [
    {
     "name": "stdout",
     "output_type": "stream",
     "text": [
      "Variabilities have been saved\n",
      "Variabilities have been saved\n"
     ]
    }
   ],
   "source": [
    "# Danish \n",
    "#  ADS\n",
    "vowel_variability(in_path_mfcc_da_ADS, target_vowels, 'ADS', mfcc_feat_col, out_path_mfcc_da_ADS)\n",
    "\n",
    "# IDS \n",
    "vowel_variability(in_path_mfcc_da_IDS, target_vowels, 'IDS', mfcc_feat_col, out_path_mfcc_da_IDS)"
   ]
  },
  {
   "cell_type": "markdown",
   "metadata": {},
   "source": [
    "# Separability "
   ]
  },
  {
   "cell_type": "code",
   "execution_count": 46,
   "metadata": {},
   "outputs": [],
   "source": [
    "from RequireFunctions import separability"
   ]
  },
  {
   "cell_type": "code",
   "execution_count": 23,
   "metadata": {},
   "outputs": [],
   "source": [
    "# Output dir\n",
    "out_dir = r'C:\\Users\\arunps\\OneDrive\\Projects\\Scripts\\Python\\NorwagianAndDanishIDSandADS\\ComputedResults\\Separability'"
   ]
  },
  {
   "cell_type": "code",
   "execution_count": 24,
   "metadata": {},
   "outputs": [],
   "source": [
    "# Norwagian out path\n",
    "# formant\n",
    "out_path_formant_no_ADS = os.path.join(out_dir, str(len(target_vowels)) + '_' + 'bordervowels' + '_' + 'formant_no_ADS')\n",
    "out_path_formant_no_IDS = os.path.join(out_dir, str(len(target_vowels)) + '_' + 'bordervowels' + '_' + 'formant_no_IDS')\n",
    "\n",
    "#MFCC\n",
    "out_path_mfcc_no_ADS = os.path.join(out_dir, str(len(target_vowels)) + '_' + 'bordervowels' + '_' + 'mfcc_no_ADS')\n",
    "out_path_mfcc_no_IDS = os.path.join(out_dir, str(len(target_vowels)) + '_' + 'bordervowels' + '_' + 'mfcc_no_IDS')"
   ]
  },
  {
   "cell_type": "code",
   "execution_count": 25,
   "metadata": {},
   "outputs": [],
   "source": [
    "# Danish out path\n",
    "#formant\n",
    "out_path_formant_da_ADS = os.path.join(out_dir, str(len(target_vowels)) + '_' + 'bordervowels' + '_' + 'formant_da_ADS')\n",
    "out_path_formant_da_IDS = os.path.join(out_dir, str(len(target_vowels)) + '_' + 'bordervowels' + '_' + 'formant_da_IDS')\n",
    "#MFCC\n",
    "out_path_mfcc_da_ADS = os.path.join(out_dir, str(len(target_vowels)) + '_' + 'bordervowels' + '_' + 'mfcc_da_ADS')\n",
    "out_path_mfcc_da_IDS = os.path.join(out_dir, str(len(target_vowels)) + '_' + 'bordervowels' + '_' + 'mfcc_da_IDS')"
   ]
  },
  {
   "cell_type": "markdown",
   "metadata": {},
   "source": [
    "##### Computing pillai score using separability function"
   ]
  },
  {
   "cell_type": "markdown",
   "metadata": {},
   "source": [
    "## Formant"
   ]
  },
  {
   "cell_type": "code",
   "execution_count": 31,
   "metadata": {},
   "outputs": [
    {
     "name": "stdout",
     "output_type": "stream",
     "text": [
      "Pillai scores have been saved\n",
      "MANOVA failed for spkid=MIDS102 at AgeMonth=15 for pair (a, i): zero-size array to reduction operation maximum which has no identity\n",
      "MANOVA failed for spkid=MIDS102 at AgeMonth=15 for pair (e, i): zero-size array to reduction operation maximum which has no identity\n",
      "MANOVA failed for spkid=MIDS102 at AgeMonth=15 for pair (i, o): zero-size array to reduction operation maximum which has no identity\n",
      "MANOVA failed for spkid=MIDS102 at AgeMonth=15 for pair (i, u): zero-size array to reduction operation maximum which has no identity\n",
      "MANOVA failed for spkid=MIDS102 at AgeMonth=15 for pair (i, æ): zero-size array to reduction operation maximum which has no identity\n",
      "MANOVA failed for spkid=MIDS142 at AgeMonth=18 for pair (a, i): zero-size array to reduction operation maximum which has no identity\n",
      "MANOVA failed for spkid=MIDS142 at AgeMonth=18 for pair (a, o): zero-size array to reduction operation maximum which has no identity\n",
      "MANOVA failed for spkid=MIDS142 at AgeMonth=18 for pair (a, u): zero-size array to reduction operation maximum which has no identity\n",
      "MANOVA failed for spkid=MIDS142 at AgeMonth=18 for pair (a, æ): zero-size array to reduction operation maximum which has no identity\n",
      "Pillai scores have been saved\n"
     ]
    }
   ],
   "source": [
    "# Norwagian mother\n",
    "# ADS\n",
    "separability(in_path_formant_no_ADS, target_vowels, 'ADS', formant_feat_col, out_path_formant_no_ADS, parentgender = 'M')\n",
    "\n",
    "# IDS \n",
    "separability(in_path_formant_no_IDS, target_vowels, 'IDS', formant_feat_col, out_path_formant_no_IDS, parentgender = 'M')"
   ]
  },
  {
   "cell_type": "code",
   "execution_count": 32,
   "metadata": {},
   "outputs": [
    {
     "name": "stdout",
     "output_type": "stream",
     "text": [
      "Pillai scores have been saved\n",
      "MANOVA failed for spkid=FIDS167 at AgeMonth=12 for pair (a, i): zero-size array to reduction operation maximum which has no identity\n",
      "MANOVA failed for spkid=FIDS167 at AgeMonth=12 for pair (a, o): zero-size array to reduction operation maximum which has no identity\n",
      "MANOVA failed for spkid=FIDS167 at AgeMonth=12 for pair (a, u): zero-size array to reduction operation maximum which has no identity\n",
      "MANOVA failed for spkid=FIDS167 at AgeMonth=12 for pair (a, æ): zero-size array to reduction operation maximum which has no identity\n",
      "Pillai scores have been saved\n"
     ]
    }
   ],
   "source": [
    "# Norwagian Father Formant features\n",
    "# ADS\n",
    "separability(in_path_formant_no_ADS, target_vowels, 'ADS', formant_feat_col, out_path_formant_no_ADS, parentgender = 'F')\n",
    "\n",
    "# IDS \n",
    "separability(in_path_formant_no_IDS, target_vowels, 'IDS', formant_feat_col, out_path_formant_no_IDS, parentgender = 'F')"
   ]
  },
  {
   "cell_type": "code",
   "execution_count": 33,
   "metadata": {},
   "outputs": [
    {
     "name": "stdout",
     "output_type": "stream",
     "text": [
      "MANOVA failed for spkid=SF at AgeMonth=14 for pair (a, o): zero-size array to reduction operation maximum which has no identity\n",
      "MANOVA failed for spkid=SF at AgeMonth=14 for pair (a, u): zero-size array to reduction operation maximum which has no identity\n",
      "MANOVA failed for spkid=SF at AgeMonth=14 for pair (e, o): zero-size array to reduction operation maximum which has no identity\n",
      "MANOVA failed for spkid=SF at AgeMonth=14 for pair (e, u): zero-size array to reduction operation maximum which has no identity\n",
      "MANOVA failed for spkid=SF at AgeMonth=14 for pair (i, o): zero-size array to reduction operation maximum which has no identity\n",
      "MANOVA failed for spkid=SF at AgeMonth=14 for pair (i, u): zero-size array to reduction operation maximum which has no identity\n",
      "MANOVA failed for spkid=SF at AgeMonth=14 for pair (o, æ): zero-size array to reduction operation maximum which has no identity\n",
      "MANOVA failed for spkid=SF at AgeMonth=14 for pair (u, æ): zero-size array to reduction operation maximum which has no identity\n",
      "MANOVA failed for spkid=SS at AgeMonth=14 for pair (a, o): zero-size array to reduction operation maximum which has no identity\n",
      "MANOVA failed for spkid=SS at AgeMonth=14 for pair (e, o): zero-size array to reduction operation maximum which has no identity\n",
      "MANOVA failed for spkid=SS at AgeMonth=14 for pair (i, o): zero-size array to reduction operation maximum which has no identity\n",
      "MANOVA failed for spkid=SS at AgeMonth=14 for pair (o, æ): zero-size array to reduction operation maximum which has no identity\n",
      "MANOVA failed for spkid=TM at AgeMonth=24 for pair (a, o): zero-size array to reduction operation maximum which has no identity\n",
      "MANOVA failed for spkid=TM at AgeMonth=24 for pair (e, o): zero-size array to reduction operation maximum which has no identity\n",
      "MANOVA failed for spkid=TM at AgeMonth=24 for pair (i, o): zero-size array to reduction operation maximum which has no identity\n",
      "MANOVA failed for spkid=TM at AgeMonth=24 for pair (o, u): zero-size array to reduction operation maximum which has no identity\n",
      "MANOVA failed for spkid=TM at AgeMonth=24 for pair (o, æ): zero-size array to reduction operation maximum which has no identity\n",
      "Pillai scores have been saved\n",
      "MANOVA failed for spkid=JA at AgeMonth=24 for pair (a, o): zero-size array to reduction operation maximum which has no identity\n",
      "MANOVA failed for spkid=JA at AgeMonth=24 for pair (e, o): zero-size array to reduction operation maximum which has no identity\n",
      "MANOVA failed for spkid=JA at AgeMonth=24 for pair (i, o): zero-size array to reduction operation maximum which has no identity\n",
      "MANOVA failed for spkid=JA at AgeMonth=24 for pair (o, u): zero-size array to reduction operation maximum which has no identity\n",
      "MANOVA failed for spkid=JA at AgeMonth=24 for pair (o, æ): zero-size array to reduction operation maximum which has no identity\n",
      "MANOVA failed for spkid=RV at AgeMonth=11 for pair (a, o): zero-size array to reduction operation maximum which has no identity\n",
      "MANOVA failed for spkid=RV at AgeMonth=11 for pair (e, o): zero-size array to reduction operation maximum which has no identity\n",
      "MANOVA failed for spkid=RV at AgeMonth=11 for pair (i, o): zero-size array to reduction operation maximum which has no identity\n",
      "MANOVA failed for spkid=RV at AgeMonth=11 for pair (o, u): zero-size array to reduction operation maximum which has no identity\n",
      "MANOVA failed for spkid=RV at AgeMonth=11 for pair (o, æ): zero-size array to reduction operation maximum which has no identity\n",
      "MANOVA failed for spkid=SS at AgeMonth=14 for pair (a, u): zero-size array to reduction operation maximum which has no identity\n",
      "MANOVA failed for spkid=SS at AgeMonth=14 for pair (e, u): zero-size array to reduction operation maximum which has no identity\n",
      "MANOVA failed for spkid=SS at AgeMonth=14 for pair (i, u): zero-size array to reduction operation maximum which has no identity\n",
      "MANOVA failed for spkid=SS at AgeMonth=14 for pair (o, u): zero-size array to reduction operation maximum which has no identity\n",
      "MANOVA failed for spkid=SS at AgeMonth=14 for pair (u, æ): zero-size array to reduction operation maximum which has no identity\n",
      "Pillai scores have been saved\n"
     ]
    }
   ],
   "source": [
    "# Danis formant ADS\n",
    "separability(in_path_formant_da_ADS, target_vowels, 'ADS', formant_feat_col, out_path_formant_da_ADS)\n",
    "\n",
    "# IDS \n",
    "separability(in_path_formant_da_IDS, target_vowels, 'IDS', formant_feat_col, out_path_formant_da_IDS)"
   ]
  },
  {
   "cell_type": "markdown",
   "metadata": {},
   "source": [
    "### MFCC"
   ]
  },
  {
   "cell_type": "code",
   "execution_count": 34,
   "metadata": {},
   "outputs": [
    {
     "name": "stdout",
     "output_type": "stream",
     "text": [
      "Pillai scores have been saved\n",
      "MANOVA failed for spkid=MIDS102 at AgeMonth=9 for pair (e, æ): Singular matrix\n",
      "MANOVA failed for spkid=MIDS102 at AgeMonth=15 for pair (a, i): zero-size array to reduction operation maximum which has no identity\n",
      "MANOVA failed for spkid=MIDS102 at AgeMonth=15 for pair (e, i): zero-size array to reduction operation maximum which has no identity\n",
      "MANOVA failed for spkid=MIDS102 at AgeMonth=15 for pair (i, o): zero-size array to reduction operation maximum which has no identity\n",
      "MANOVA failed for spkid=MIDS102 at AgeMonth=15 for pair (i, u): zero-size array to reduction operation maximum which has no identity\n",
      "MANOVA failed for spkid=MIDS102 at AgeMonth=15 for pair (i, æ): zero-size array to reduction operation maximum which has no identity\n",
      "MANOVA failed for spkid=MIDS142 at AgeMonth=18 for pair (a, i): zero-size array to reduction operation maximum which has no identity\n",
      "MANOVA failed for spkid=MIDS142 at AgeMonth=18 for pair (a, o): zero-size array to reduction operation maximum which has no identity\n",
      "MANOVA failed for spkid=MIDS142 at AgeMonth=18 for pair (a, u): Singular matrix\n",
      "MANOVA failed for spkid=MIDS142 at AgeMonth=18 for pair (a, æ): zero-size array to reduction operation maximum which has no identity\n",
      "MANOVA failed for spkid=MIDS142 at AgeMonth=18 for pair (e, æ): Singular matrix\n",
      "MANOVA failed for spkid=MIDS148 at AgeMonth=18 for pair (e, o): Singular matrix\n",
      "Pillai scores have been saved\n"
     ]
    }
   ],
   "source": [
    "# Norwagian mother mfcc\n",
    "#  ADS\n",
    "separability(in_path_mfcc_no_ADS, target_vowels, 'ADS', mfcc_feat_col, out_path_mfcc_no_ADS, parentgender = 'M')\n",
    "\n",
    "# IDS \n",
    "separability(in_path_mfcc_no_IDS, target_vowels, 'IDS', mfcc_feat_col, out_path_mfcc_no_IDS, parentgender = 'M')"
   ]
  },
  {
   "cell_type": "code",
   "execution_count": 35,
   "metadata": {},
   "outputs": [
    {
     "name": "stdout",
     "output_type": "stream",
     "text": [
      "MANOVA failed for spkid=FADS151 at AgeMonth=15 for pair (i, æ): Singular matrix\n",
      "Pillai scores have been saved\n",
      "MANOVA failed for spkid=FIDS127 at AgeMonth=12 for pair (a, i): Singular matrix\n",
      "MANOVA failed for spkid=FIDS145 at AgeMonth=15 for pair (e, æ): Singular matrix\n",
      "MANOVA failed for spkid=FIDS166 at AgeMonth=9 for pair (a, o): Singular matrix\n",
      "MANOVA failed for spkid=FIDS167 at AgeMonth=12 for pair (a, i): Singular matrix\n",
      "MANOVA failed for spkid=FIDS167 at AgeMonth=12 for pair (a, o): zero-size array to reduction operation maximum which has no identity\n",
      "MANOVA failed for spkid=FIDS167 at AgeMonth=12 for pair (a, u): zero-size array to reduction operation maximum which has no identity\n",
      "MANOVA failed for spkid=FIDS167 at AgeMonth=12 for pair (a, æ): zero-size array to reduction operation maximum which has no identity\n",
      "MANOVA failed for spkid=FIDS167 at AgeMonth=12 for pair (o, u): Singular matrix\n",
      "MANOVA failed for spkid=FIDS167 at AgeMonth=12 for pair (u, æ): Singular matrix\n",
      "Pillai scores have been saved\n"
     ]
    }
   ],
   "source": [
    "# Norwagian father mfcc\n",
    "#  ADS\n",
    "separability(in_path_mfcc_no_ADS, target_vowels, 'ADS', mfcc_feat_col, out_path_mfcc_no_ADS, parentgender = 'F')\n",
    "\n",
    "# IDS \n",
    "separability(in_path_mfcc_no_IDS, target_vowels, 'IDS', mfcc_feat_col, out_path_mfcc_no_IDS, parentgender = 'F')"
   ]
  },
  {
   "cell_type": "code",
   "execution_count": 47,
   "metadata": {},
   "outputs": [
    {
     "name": "stdout",
     "output_type": "stream",
     "text": [
      "MANOVA failed for spkid=KV at AgeMonth=16 for pair (u, æ): Singular matrix\n",
      "MANOVA failed for spkid=LV at AgeMonth=16 for pair (u, æ): Singular matrix\n",
      "MANOVA failed for spkid=SA at AgeMonth=15 for pair (i, o): Singular matrix\n",
      "MANOVA failed for spkid=SA at AgeMonth=15 for pair (o, æ): Singular matrix\n",
      "MANOVA failed for spkid=SF at AgeMonth=14 for pair (a, o): zero-size array to reduction operation maximum which has no identity\n",
      "MANOVA failed for spkid=SF at AgeMonth=14 for pair (a, u): zero-size array to reduction operation maximum which has no identity\n",
      "MANOVA failed for spkid=SF at AgeMonth=14 for pair (e, o): zero-size array to reduction operation maximum which has no identity\n",
      "MANOVA failed for spkid=SF at AgeMonth=14 for pair (e, u): zero-size array to reduction operation maximum which has no identity\n",
      "MANOVA failed for spkid=SF at AgeMonth=14 for pair (i, o): zero-size array to reduction operation maximum which has no identity\n",
      "MANOVA failed for spkid=SF at AgeMonth=14 for pair (i, u): zero-size array to reduction operation maximum which has no identity\n",
      "MANOVA failed for spkid=SF at AgeMonth=14 for pair (o, æ): zero-size array to reduction operation maximum which has no identity\n",
      "MANOVA failed for spkid=SF at AgeMonth=14 for pair (u, æ): zero-size array to reduction operation maximum which has no identity\n",
      "MANOVA failed for spkid=SS at AgeMonth=14 for pair (a, o): zero-size array to reduction operation maximum which has no identity\n",
      "MANOVA failed for spkid=SS at AgeMonth=14 for pair (e, o): zero-size array to reduction operation maximum which has no identity\n",
      "MANOVA failed for spkid=SS at AgeMonth=14 for pair (i, o): zero-size array to reduction operation maximum which has no identity\n",
      "MANOVA failed for spkid=SS at AgeMonth=14 for pair (o, æ): zero-size array to reduction operation maximum which has no identity\n",
      "MANOVA failed for spkid=SS at AgeMonth=14 for pair (u, æ): Singular matrix\n",
      "MANOVA failed for spkid=TL at AgeMonth=11 for pair (o, u): Singular matrix\n",
      "MANOVA failed for spkid=TM at AgeMonth=24 for pair (a, o): zero-size array to reduction operation maximum which has no identity\n",
      "MANOVA failed for spkid=TM at AgeMonth=24 for pair (e, o): zero-size array to reduction operation maximum which has no identity\n",
      "MANOVA failed for spkid=TM at AgeMonth=24 for pair (i, o): zero-size array to reduction operation maximum which has no identity\n",
      "MANOVA failed for spkid=TM at AgeMonth=24 for pair (o, u): Singular matrix\n",
      "MANOVA failed for spkid=TM at AgeMonth=24 for pair (o, æ): zero-size array to reduction operation maximum which has no identity\n",
      "Pillai scores have been saved\n",
      "MANOVA failed for spkid=JA at AgeMonth=24 for pair (a, o): zero-size array to reduction operation maximum which has no identity\n",
      "MANOVA failed for spkid=JA at AgeMonth=24 for pair (e, o): zero-size array to reduction operation maximum which has no identity\n",
      "MANOVA failed for spkid=JA at AgeMonth=24 for pair (i, o): zero-size array to reduction operation maximum which has no identity\n",
      "MANOVA failed for spkid=JA at AgeMonth=24 for pair (o, u): zero-size array to reduction operation maximum which has no identity\n",
      "MANOVA failed for spkid=JA at AgeMonth=24 for pair (o, æ): zero-size array to reduction operation maximum which has no identity\n",
      "MANOVA failed for spkid=KV at AgeMonth=16 for pair (o, æ): Singular matrix\n",
      "MANOVA failed for spkid=MA at AgeMonth=23 for pair (o, u): Singular matrix\n",
      "MANOVA failed for spkid=MPS at AgeMonth=14 for pair (u, æ): Singular matrix\n",
      "MANOVA failed for spkid=MV at AgeMonth=16 for pair (o, u): Singular matrix\n",
      "MANOVA failed for spkid=RV at AgeMonth=11 for pair (a, o): zero-size array to reduction operation maximum which has no identity\n",
      "MANOVA failed for spkid=RV at AgeMonth=11 for pair (e, o): zero-size array to reduction operation maximum which has no identity\n",
      "MANOVA failed for spkid=RV at AgeMonth=11 for pair (i, o): zero-size array to reduction operation maximum which has no identity\n",
      "MANOVA failed for spkid=RV at AgeMonth=11 for pair (o, u): Singular matrix\n",
      "MANOVA failed for spkid=RV at AgeMonth=11 for pair (o, æ): zero-size array to reduction operation maximum which has no identity\n",
      "MANOVA failed for spkid=SA at AgeMonth=15 for pair (o, u): Singular matrix\n",
      "MANOVA failed for spkid=SS at AgeMonth=14 for pair (a, u): zero-size array to reduction operation maximum which has no identity\n",
      "MANOVA failed for spkid=SS at AgeMonth=14 for pair (e, u): zero-size array to reduction operation maximum which has no identity\n",
      "MANOVA failed for spkid=SS at AgeMonth=14 for pair (i, u): zero-size array to reduction operation maximum which has no identity\n",
      "MANOVA failed for spkid=SS at AgeMonth=14 for pair (o, u): zero-size array to reduction operation maximum which has no identity\n",
      "MANOVA failed for spkid=SS at AgeMonth=14 for pair (u, æ): zero-size array to reduction operation maximum which has no identity\n",
      "MANOVA failed for spkid=TM at AgeMonth=24 for pair (u, æ): Singular matrix\n",
      "Pillai scores have been saved\n"
     ]
    }
   ],
   "source": [
    "# Danish \n",
    "#  ADS\n",
    "separability(in_path_mfcc_da_ADS, target_vowels, 'ADS', mfcc_feat_col, out_path_mfcc_da_ADS)\n",
    "\n",
    "# IDS \n",
    "separability(in_path_mfcc_da_IDS, target_vowels, 'IDS', mfcc_feat_col, out_path_mfcc_da_IDS)"
   ]
  },
  {
   "cell_type": "markdown",
   "metadata": {},
   "source": [
    " # 3 corner vowels\n",
    " ### Area"
   ]
  },
  {
   "cell_type": "code",
   "execution_count": 48,
   "metadata": {},
   "outputs": [],
   "source": [
    "target_vowels = ['a', 'i', 'u']"
   ]
  },
  {
   "cell_type": "markdown",
   "metadata": {},
   "source": [
    "##### OutPath for 3 corner vowels results"
   ]
  },
  {
   "cell_type": "code",
   "execution_count": 49,
   "metadata": {},
   "outputs": [],
   "source": [
    "# Norwagian\n",
    "# formant\n",
    "out_path_formant_no_ADS = os.path.join(out_dir, str(len(target_vowels)) + '_' + 'bordervowels' + '_' + 'formant_no_ADS')\n",
    "out_path_formant_no_IDS = os.path.join(out_dir, str(len(target_vowels)) + '_' + 'bordervowels' + '_' + 'formant_no_IDS')\n",
    "\n",
    "#MFCC\n",
    "out_path_mfcc_no_ADS = os.path.join(out_dir, str(len(target_vowels)) + '_' + 'bordervowels' + '_' + 'mfcc_no_ADS')\n",
    "out_path_mfcc_no_IDS = os.path.join(out_dir, str(len(target_vowels)) + '_' + 'bordervowels' + '_' + 'mfcc_no_IDS')"
   ]
  },
  {
   "cell_type": "code",
   "execution_count": 50,
   "metadata": {},
   "outputs": [],
   "source": [
    "# Danish\n",
    "#formant\n",
    "out_path_formant_da_ADS = os.path.join(out_dir, str(len(target_vowels)) + '_' + 'bordervowels' + '_' + 'formant_da_ADS')\n",
    "out_path_formant_da_IDS = os.path.join(out_dir, str(len(target_vowels)) + '_' + 'bordervowels' + '_' + 'formant_da_IDS')\n",
    "#MFCC\n",
    "out_path_mfcc_da_ADS = os.path.join(out_dir, str(len(target_vowels)) + '_' + 'bordervowels' + '_' + 'mfcc_da_ADS')\n",
    "out_path_mfcc_da_IDS = os.path.join(out_dir, str(len(target_vowels)) + '_' + 'bordervowels' + '_' + 'mfcc_da_IDS')"
   ]
  },
  {
   "cell_type": "markdown",
   "metadata": {},
   "source": [
    "# Vowel space expnasion"
   ]
  },
  {
   "cell_type": "markdown",
   "metadata": {},
   "source": [
    "#### Formant"
   ]
  },
  {
   "cell_type": "code",
   "execution_count": 201,
   "metadata": {},
   "outputs": [
    {
     "name": "stdout",
     "output_type": "stream",
     "text": [
      "Convex hull areas have been saved\n",
      "Convex hull areas have been saved\n"
     ]
    }
   ],
   "source": [
    "# Area\n",
    "# Norwagian Mother fromant \n",
    "\n",
    "# ADS\n",
    "vowel_space_expansion(in_path_formant_no_ADS, target_vowels, 'ADS', formant_feat_col, out_path_formant_no_ADS, parentgender = 'M')\n",
    "\n",
    "# IDS \n",
    "vowel_space_expansion(in_path_formant_no_IDS, target_vowels, 'IDS', formant_feat_col, out_path_formant_no_IDS, parentgender = 'M')"
   ]
  },
  {
   "cell_type": "code",
   "execution_count": 202,
   "metadata": {},
   "outputs": [
    {
     "name": "stdout",
     "output_type": "stream",
     "text": [
      "Convex hull areas have been saved\n",
      "Convex hull areas have been saved\n"
     ]
    }
   ],
   "source": [
    "# Area\n",
    "# Norwagian Father fromant \n",
    "\n",
    "# ADS\n",
    "vowel_space_expansion(in_path_formant_no_ADS, target_vowels, 'ADS', formant_feat_col, out_path_formant_no_ADS, parentgender = 'F')\n",
    "\n",
    "# IDS \n",
    "vowel_space_expansion(in_path_formant_no_IDS, target_vowels, 'IDS', formant_feat_col, out_path_formant_no_IDS, parentgender = 'F')"
   ]
  },
  {
   "cell_type": "code",
   "execution_count": 203,
   "metadata": {},
   "outputs": [
    {
     "name": "stdout",
     "output_type": "stream",
     "text": [
      "Convex hull areas have been saved\n",
      "Convex hull areas have been saved\n"
     ]
    }
   ],
   "source": [
    "# Area\n",
    "# Danis fromant ADS\n",
    "vowel_space_expansion(in_path_formant_da_ADS, target_vowels, 'ADS', formant_feat_col, out_path_formant_da_ADS)\n",
    "\n",
    "# IDS \n",
    "vowel_space_expansion(in_path_formant_da_IDS, target_vowels, 'IDS', formant_feat_col, out_path_formant_da_IDS)"
   ]
  },
  {
   "cell_type": "markdown",
   "metadata": {},
   "source": [
    "# MFCC"
   ]
  },
  {
   "cell_type": "code",
   "execution_count": 204,
   "metadata": {},
   "outputs": [
    {
     "name": "stdout",
     "output_type": "stream",
     "text": [
      "Convex hull areas have been saved\n",
      "Convex hull areas have been saved\n"
     ]
    }
   ],
   "source": [
    "# Norwagian mother mfcc\n",
    "#  ADS\n",
    "vowel_space_expansion(in_path_mfcc_no_ADS, target_vowels, 'ADS', mfcc_feat_col, out_path_mfcc_no_ADS, parentgender = 'M')\n",
    "\n",
    "# IDS \n",
    "vowel_space_expansion(in_path_mfcc_no_IDS, target_vowels, 'IDS', mfcc_feat_col, out_path_mfcc_no_IDS, parentgender = 'M')"
   ]
  },
  {
   "cell_type": "code",
   "execution_count": 205,
   "metadata": {},
   "outputs": [
    {
     "name": "stdout",
     "output_type": "stream",
     "text": [
      "Convex hull areas have been saved\n",
      "Convex hull areas have been saved\n"
     ]
    }
   ],
   "source": [
    "# Norwagian Father mfcc\n",
    "#  ADS\n",
    "vowel_space_expansion(in_path_mfcc_no_ADS, target_vowels, 'ADS', mfcc_feat_col, out_path_mfcc_no_ADS, parentgender = 'F')\n",
    "\n",
    "# IDS \n",
    "vowel_space_expansion(in_path_mfcc_no_IDS, target_vowels, 'IDS', mfcc_feat_col, out_path_mfcc_no_IDS, parentgender = 'F')"
   ]
  },
  {
   "cell_type": "code",
   "execution_count": 321,
   "metadata": {},
   "outputs": [
    {
     "name": "stdout",
     "output_type": "stream",
     "text": [
      "Convex hull areas have been saved\n",
      "Convex hull areas have been saved\n"
     ]
    }
   ],
   "source": [
    "# Danish \n",
    "#  ADS\n",
    "vowel_space_expansion(in_path_mfcc_da_ADS, target_vowels, 'ADS', mfcc_feat_col, out_path_mfcc_da_ADS)\n",
    "\n",
    "# IDS \n",
    "vowel_space_expansion(in_path_mfcc_da_IDS, target_vowels, 'IDS', mfcc_feat_col, out_path_mfcc_da_IDS)"
   ]
  },
  {
   "cell_type": "markdown",
   "metadata": {},
   "source": [
    "# Vowel Variability"
   ]
  },
  {
   "cell_type": "markdown",
   "metadata": {},
   "source": [
    "#### Formant"
   ]
  },
  {
   "cell_type": "code",
   "execution_count": 354,
   "metadata": {},
   "outputs": [
    {
     "name": "stdout",
     "output_type": "stream",
     "text": [
      "Variabilities have been saved\n",
      "Variabilities have been saved\n"
     ]
    }
   ],
   "source": [
    "# Norwagian Mother fromant \n",
    "\n",
    "# ADS\n",
    "vowel_variability(in_path_formant_no_ADS, target_vowels, 'ADS', formant_feat_col, out_path_formant_no_ADS, parentgender = 'M')\n",
    "\n",
    "# IDS \n",
    "vowel_variability(in_path_formant_no_IDS, target_vowels, 'IDS', formant_feat_col, out_path_formant_no_IDS, parentgender = 'M')"
   ]
  },
  {
   "cell_type": "code",
   "execution_count": 355,
   "metadata": {},
   "outputs": [
    {
     "name": "stdout",
     "output_type": "stream",
     "text": [
      "Variabilities have been saved\n",
      "Variabilities have been saved\n"
     ]
    }
   ],
   "source": [
    "# Norwagian Father fromant \n",
    "\n",
    "# ADS\n",
    "vowel_variability(in_path_formant_no_ADS, target_vowels, 'ADS', formant_feat_col, out_path_formant_no_ADS, parentgender = 'F')\n",
    "\n",
    "# IDS \n",
    "vowel_variability(in_path_formant_no_IDS, target_vowels, 'IDS', formant_feat_col, out_path_formant_no_IDS, parentgender = 'F')"
   ]
  },
  {
   "cell_type": "code",
   "execution_count": 356,
   "metadata": {},
   "outputs": [
    {
     "name": "stdout",
     "output_type": "stream",
     "text": [
      "Variabilities have been saved\n",
      "Variabilities have been saved\n"
     ]
    }
   ],
   "source": [
    "# Danis fromant ADS\n",
    "vowel_variability(in_path_formant_da_ADS, target_vowels, 'ADS', formant_feat_col, out_path_formant_da_ADS)\n",
    "\n",
    "# IDS \n",
    "vowel_variability(in_path_formant_da_IDS, target_vowels, 'IDS', formant_feat_col, out_path_formant_da_IDS)"
   ]
  },
  {
   "cell_type": "markdown",
   "metadata": {},
   "source": [
    "#### MFCC"
   ]
  },
  {
   "cell_type": "code",
   "execution_count": 357,
   "metadata": {},
   "outputs": [
    {
     "name": "stdout",
     "output_type": "stream",
     "text": [
      "Variabilities have been saved\n",
      "Variabilities have been saved\n"
     ]
    }
   ],
   "source": [
    "# Norwagian mother mfcc\n",
    "#  ADS\n",
    "vowel_variability(in_path_mfcc_no_ADS, target_vowels, 'ADS', mfcc_feat_col, out_path_mfcc_no_ADS, parentgender = 'M')\n",
    "\n",
    "# IDS \n",
    "vowel_variability(in_path_mfcc_no_IDS, target_vowels, 'IDS', mfcc_feat_col, out_path_mfcc_no_IDS, parentgender = 'M')"
   ]
  },
  {
   "cell_type": "code",
   "execution_count": 358,
   "metadata": {},
   "outputs": [
    {
     "name": "stdout",
     "output_type": "stream",
     "text": [
      "Variabilities have been saved\n",
      "Variabilities have been saved\n"
     ]
    }
   ],
   "source": [
    "# Norwagian Father mfcc\n",
    "#  ADS\n",
    "vowel_variability(in_path_mfcc_no_ADS, target_vowels, 'ADS', mfcc_feat_col, out_path_mfcc_no_ADS, parentgender = 'F')\n",
    "\n",
    "# IDS \n",
    "vowel_variability(in_path_mfcc_no_IDS, target_vowels, 'IDS', mfcc_feat_col, out_path_mfcc_no_IDS, parentgender = 'F')"
   ]
  },
  {
   "cell_type": "code",
   "execution_count": 359,
   "metadata": {},
   "outputs": [
    {
     "name": "stdout",
     "output_type": "stream",
     "text": [
      "Variabilities have been saved\n",
      "Variabilities have been saved\n"
     ]
    }
   ],
   "source": [
    "# Danish \n",
    "#  ADS\n",
    "vowel_variability(in_path_mfcc_da_ADS, target_vowels, 'ADS', mfcc_feat_col, out_path_mfcc_da_ADS)\n",
    "\n",
    "# IDS \n",
    "vowel_variability(in_path_mfcc_da_IDS, target_vowels, 'IDS', mfcc_feat_col, out_path_mfcc_da_IDS)"
   ]
  },
  {
   "cell_type": "markdown",
   "metadata": {},
   "source": [
    "# Separability"
   ]
  },
  {
   "cell_type": "markdown",
   "metadata": {},
   "source": [
    "#### Formant"
   ]
  },
  {
   "cell_type": "code",
   "execution_count": 51,
   "metadata": {},
   "outputs": [
    {
     "name": "stdout",
     "output_type": "stream",
     "text": [
      "Pillai scores have been saved\n",
      "MANOVA failed for spkid=MIDS102 at AgeMonth=15 for pair (a, i): zero-size array to reduction operation maximum which has no identity\n",
      "MANOVA failed for spkid=MIDS102 at AgeMonth=15 for pair (i, u): zero-size array to reduction operation maximum which has no identity\n",
      "MANOVA failed for spkid=MIDS142 at AgeMonth=18 for pair (a, i): zero-size array to reduction operation maximum which has no identity\n",
      "MANOVA failed for spkid=MIDS142 at AgeMonth=18 for pair (a, u): zero-size array to reduction operation maximum which has no identity\n",
      "Pillai scores have been saved\n"
     ]
    }
   ],
   "source": [
    "# Norwagian Mother\n",
    "\n",
    "# ADS\n",
    "separability(in_path_formant_no_ADS, target_vowels, 'ADS', formant_feat_col, out_path_formant_no_ADS, parentgender = 'M')\n",
    "\n",
    "# IDS \n",
    "separability(in_path_formant_no_IDS, target_vowels, 'IDS', formant_feat_col, out_path_formant_no_IDS, parentgender = 'M')"
   ]
  },
  {
   "cell_type": "code",
   "execution_count": 52,
   "metadata": {},
   "outputs": [
    {
     "name": "stdout",
     "output_type": "stream",
     "text": [
      "Pillai scores have been saved\n",
      "MANOVA failed for spkid=FIDS167 at AgeMonth=12 for pair (a, i): zero-size array to reduction operation maximum which has no identity\n",
      "MANOVA failed for spkid=FIDS167 at AgeMonth=12 for pair (a, u): zero-size array to reduction operation maximum which has no identity\n",
      "Pillai scores have been saved\n"
     ]
    }
   ],
   "source": [
    "# Norwagian Father\n",
    "\n",
    "# ADS\n",
    "separability(in_path_formant_no_ADS, target_vowels, 'ADS', formant_feat_col, out_path_formant_no_ADS, parentgender = 'F')\n",
    "\n",
    "# IDS \n",
    "separability(in_path_formant_no_IDS, target_vowels, 'IDS', formant_feat_col, out_path_formant_no_IDS, parentgender = 'F')"
   ]
  },
  {
   "cell_type": "code",
   "execution_count": 53,
   "metadata": {},
   "outputs": [
    {
     "name": "stdout",
     "output_type": "stream",
     "text": [
      "MANOVA failed for spkid=SF at AgeMonth=14 for pair (a, u): zero-size array to reduction operation maximum which has no identity\n",
      "MANOVA failed for spkid=SF at AgeMonth=14 for pair (i, u): zero-size array to reduction operation maximum which has no identity\n",
      "Pillai scores have been saved\n",
      "MANOVA failed for spkid=SS at AgeMonth=14 for pair (a, u): zero-size array to reduction operation maximum which has no identity\n",
      "MANOVA failed for spkid=SS at AgeMonth=14 for pair (i, u): zero-size array to reduction operation maximum which has no identity\n",
      "Pillai scores have been saved\n"
     ]
    }
   ],
   "source": [
    "# Danish\n",
    "\n",
    "# ADS\n",
    "separability(in_path_formant_da_ADS, target_vowels, 'ADS', formant_feat_col, out_path_formant_da_ADS)\n",
    "\n",
    "# IDS \n",
    "separability(in_path_formant_da_IDS, target_vowels, 'IDS', formant_feat_col, out_path_formant_da_IDS)"
   ]
  },
  {
   "cell_type": "markdown",
   "metadata": {},
   "source": [
    "#### MFCC"
   ]
  },
  {
   "cell_type": "code",
   "execution_count": 54,
   "metadata": {},
   "outputs": [
    {
     "name": "stdout",
     "output_type": "stream",
     "text": [
      "Pillai scores have been saved\n",
      "MANOVA failed for spkid=MIDS102 at AgeMonth=15 for pair (a, i): zero-size array to reduction operation maximum which has no identity\n",
      "MANOVA failed for spkid=MIDS102 at AgeMonth=15 for pair (i, u): zero-size array to reduction operation maximum which has no identity\n",
      "MANOVA failed for spkid=MIDS142 at AgeMonth=18 for pair (a, i): zero-size array to reduction operation maximum which has no identity\n",
      "MANOVA failed for spkid=MIDS142 at AgeMonth=18 for pair (a, u): Singular matrix\n",
      "Pillai scores have been saved\n"
     ]
    }
   ],
   "source": [
    "# Norwagian mother\n",
    "#  ADS\n",
    "separability(in_path_mfcc_no_ADS, target_vowels, 'ADS', mfcc_feat_col, out_path_mfcc_no_ADS, parentgender = 'M')\n",
    "\n",
    "# IDS \n",
    "separability(in_path_mfcc_no_IDS, target_vowels, 'IDS', mfcc_feat_col, out_path_mfcc_no_IDS, parentgender = 'M')"
   ]
  },
  {
   "cell_type": "code",
   "execution_count": 55,
   "metadata": {},
   "outputs": [
    {
     "name": "stdout",
     "output_type": "stream",
     "text": [
      "Pillai scores have been saved\n",
      "MANOVA failed for spkid=FIDS127 at AgeMonth=12 for pair (a, i): Singular matrix\n",
      "MANOVA failed for spkid=FIDS167 at AgeMonth=12 for pair (a, i): Singular matrix\n",
      "MANOVA failed for spkid=FIDS167 at AgeMonth=12 for pair (a, u): zero-size array to reduction operation maximum which has no identity\n",
      "Pillai scores have been saved\n"
     ]
    }
   ],
   "source": [
    "# Norwagian father\n",
    "#  ADS\n",
    "separability(in_path_mfcc_no_ADS, target_vowels, 'ADS', mfcc_feat_col, out_path_mfcc_no_ADS, parentgender = 'F')\n",
    "\n",
    "# IDS \n",
    "separability(in_path_mfcc_no_IDS, target_vowels, 'IDS', mfcc_feat_col, out_path_mfcc_no_IDS, parentgender = 'F')"
   ]
  },
  {
   "cell_type": "code",
   "execution_count": 56,
   "metadata": {},
   "outputs": [
    {
     "name": "stdout",
     "output_type": "stream",
     "text": [
      "MANOVA failed for spkid=SF at AgeMonth=14 for pair (a, u): zero-size array to reduction operation maximum which has no identity\n",
      "MANOVA failed for spkid=SF at AgeMonth=14 for pair (i, u): zero-size array to reduction operation maximum which has no identity\n",
      "Pillai scores have been saved\n",
      "MANOVA failed for spkid=SS at AgeMonth=14 for pair (a, u): zero-size array to reduction operation maximum which has no identity\n",
      "MANOVA failed for spkid=SS at AgeMonth=14 for pair (i, u): zero-size array to reduction operation maximum which has no identity\n",
      "Pillai scores have been saved\n"
     ]
    }
   ],
   "source": [
    "# Danish\n",
    "#  ADS\n",
    "separability(in_path_mfcc_da_ADS, target_vowels, 'ADS', mfcc_feat_col, out_path_mfcc_da_ADS)\n",
    "\n",
    "# IDS \n",
    "separability(in_path_mfcc_da_IDS, target_vowels, 'IDS', mfcc_feat_col, out_path_mfcc_da_IDS)"
   ]
  }
 ],
 "metadata": {
  "kernelspec": {
   "display_name": "torch",
   "language": "python",
   "name": "python3"
  },
  "language_info": {
   "codemirror_mode": {
    "name": "ipython",
    "version": 3
   },
   "file_extension": ".py",
   "mimetype": "text/x-python",
   "name": "python",
   "nbconvert_exporter": "python",
   "pygments_lexer": "ipython3",
   "version": "3.10.5"
  }
 },
 "nbformat": 4,
 "nbformat_minor": 2
}
