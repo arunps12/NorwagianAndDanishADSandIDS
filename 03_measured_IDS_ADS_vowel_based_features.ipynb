{
 "cells": [
  {
   "cell_type": "code",
   "execution_count": 27,
   "metadata": {},
   "outputs": [],
   "source": [
    "import os\n",
    "import numpy as np\n",
    "import pandas as pd"
   ]
  },
  {
   "cell_type": "code",
   "execution_count": 24,
   "metadata": {},
   "outputs": [
    {
     "name": "stdout",
     "output_type": "stream",
     "text": [
      "The autoreload extension is already loaded. To reload it, use:\n",
      "  %reload_ext autoreload\n"
     ]
    }
   ],
   "source": [
    "%load_ext autoreload\n",
    "%autoreload 2"
   ]
  },
  {
   "cell_type": "code",
   "execution_count": 130,
   "metadata": {},
   "outputs": [],
   "source": [
    "from RequireFunctions import vowel_space_expansion"
   ]
  },
  {
   "cell_type": "markdown",
   "metadata": {},
   "source": [
    "# Vowel space area six border vowels\n",
    "##### Formants: area of convex hull\n",
    "##### MFCC: volume of convex hull"
   ]
  },
  {
   "cell_type": "code",
   "execution_count": 131,
   "metadata": {},
   "outputs": [],
   "source": [
    "target_vowels = ['a', 'e', 'i', 'o', 'u', 'æ']"
   ]
  },
  {
   "cell_type": "code",
   "execution_count": 132,
   "metadata": {},
   "outputs": [],
   "source": [
    "# file path Norwegian\n",
    "#formant\n",
    "in_path_formant_no_ADS = r'C:\\Users\\arunps\\OneDrive\\Projects\\Scripts\\Python\\NorwagianAndDanishIDSandADS\\Clean_data\\Norwagian\\Formants\\Formant_df_ADS_no.csv'\n",
    "in_path_formant_no_IDS = r'C:\\Users\\arunps\\OneDrive\\Projects\\Scripts\\Python\\NorwagianAndDanishIDSandADS\\Clean_data\\Norwagian\\Formants\\Formant_df_IDS_no.csv'\n",
    "\n",
    "#MFCC\n",
    "in_path_mfcc_no_ADS = r'C:\\Users\\arunps\\OneDrive\\Projects\\Scripts\\Python\\NorwagianAndDanishIDSandADS\\Clean_data\\Norwagian\\MFCC\\Norwegian_ADS_MFCC.csv'\n",
    "in_path_mfcc_no_IDS = r'C:\\Users\\arunps\\OneDrive\\Projects\\Scripts\\Python\\NorwagianAndDanishIDSandADS\\Clean_data\\Norwagian\\MFCC\\Norwegian_IDS_MFCC.csv'"
   ]
  },
  {
   "cell_type": "code",
   "execution_count": 133,
   "metadata": {},
   "outputs": [],
   "source": [
    "#file path Danish\n",
    "#formant\n",
    "in_path_formant_da_ADS = r'C:\\Users\\arunps\\OneDrive\\Projects\\Scripts\\Python\\NorwagianAndDanishIDSandADS\\Clean_data\\Danish\\Formants\\Formant_df_ADS_da.csv'\n",
    "in_path_formant_da_IDS = r'C:\\Users\\arunps\\OneDrive\\Projects\\Scripts\\Python\\NorwagianAndDanishIDSandADS\\Clean_data\\Danish\\Formants\\Formant_df_IDS_da.csv'\n",
    "\n",
    "#MFCC\n",
    "in_path_mfcc_da_ADS = r'C:\\Users\\arunps\\OneDrive\\Projects\\Scripts\\Python\\NorwagianAndDanishIDSandADS\\Clean_data\\Danish\\MFCC\\Danish_ADS_MFCC.csv'\n",
    "in_path_mfcc_da_IDS = r'C:\\Users\\arunps\\OneDrive\\Projects\\Scripts\\Python\\NorwagianAndDanishIDSandADS\\Clean_data\\Danish\\MFCC\\Danish_IDS_MFCC.csv'"
   ]
  },
  {
   "cell_type": "code",
   "execution_count": 134,
   "metadata": {},
   "outputs": [],
   "source": [
    "#features column names\n",
    "#formant\n",
    "formant_feat_col = ['F1', 'F2']\n",
    "\n",
    "#MFCC\n",
    "mfcc_feat_col = ['1', '2', '3', '4', '5', '6', '7', '8', '9', '10', '11', '12', '13']"
   ]
  },
  {
   "cell_type": "markdown",
   "metadata": {},
   "source": [
    "#### out path where the output Excel file with the convex hull areas will be saved"
   ]
  },
  {
   "cell_type": "code",
   "execution_count": 135,
   "metadata": {},
   "outputs": [],
   "source": [
    "out_dir = r'C:\\Users\\arunps\\OneDrive\\Projects\\Scripts\\Python\\NorwagianAndDanishIDSandADS\\ComputedResults\\Area'"
   ]
  },
  {
   "cell_type": "code",
   "execution_count": 136,
   "metadata": {},
   "outputs": [],
   "source": [
    "# Norwagian\n",
    "# formant\n",
    "out_path_formant_no_ADS = os.path.join(out_dir, str(len(target_vowels)) + '_' + 'bordervowels' + '_' + 'formant_no_ADS')\n",
    "out_path_formant_no_IDS = os.path.join(out_dir, str(len(target_vowels)) + '_' + 'bordervowels' + '_' + 'formant_no_IDS')\n",
    "\n",
    "#MFCC\n",
    "out_path_mfcc_no_ADS = os.path.join(out_dir, str(len(target_vowels)) + '_' + 'bordervowels' + '_' + 'mfcc_no_ADS')\n",
    "out_path_mfcc_no_IDS = os.path.join(out_dir, str(len(target_vowels)) + '_' + 'bordervowels' + '_' + 'mfcc_no_IDS')"
   ]
  },
  {
   "cell_type": "code",
   "execution_count": 137,
   "metadata": {},
   "outputs": [],
   "source": [
    "# Danish\n",
    "#formant\n",
    "out_path_formant_da_ADS = os.path.join(out_dir, str(len(target_vowels)) + '_' + 'bordervowels' + '_' + 'formant_da_ADS')\n",
    "out_path_formant_da_IDS = os.path.join(out_dir, str(len(target_vowels)) + '_' + 'bordervowels' + '_' + 'formant_da_IDS')\n",
    "#MFCC\n",
    "out_path_mfcc_da_ADS = os.path.join(out_dir, str(len(target_vowels)) + '_' + 'bordervowels' + '_' + 'mfcc_da_ADS')\n",
    "out_path_mfcc_da_IDS = os.path.join(out_dir, str(len(target_vowels)) + '_' + 'bordervowels' + '_' + 'mfcc_da_IDS')"
   ]
  },
  {
   "cell_type": "code",
   "execution_count": 141,
   "metadata": {},
   "outputs": [
    {
     "name": "stdout",
     "output_type": "stream",
     "text": [
      "Convex hull areas have been saved\n",
      "Convex hull areas have been saved\n"
     ]
    }
   ],
   "source": [
    "# Area\n",
    "# Norwagian Mother fromant \n",
    "\n",
    "# ADS\n",
    "vowel_space_expansion(in_path_formant_no_ADS, target_vowels, 'ADS', formant_feat_col, out_path_formant_no_ADS, parentgender = 'M')\n",
    "\n",
    "# IDS \n",
    "vowel_space_expansion(in_path_formant_no_IDS, target_vowels, 'IDS', formant_feat_col, out_path_formant_no_IDS, parentgender = 'M')"
   ]
  },
  {
   "cell_type": "code",
   "execution_count": 142,
   "metadata": {},
   "outputs": [
    {
     "name": "stdout",
     "output_type": "stream",
     "text": [
      "Convex hull areas have been saved\n",
      "Convex hull areas have been saved\n"
     ]
    }
   ],
   "source": [
    "# Area\n",
    "# Norwagian Father fromant \n",
    "\n",
    "# ADS\n",
    "vowel_space_expansion(in_path_formant_no_ADS, target_vowels, 'ADS', formant_feat_col, out_path_formant_no_ADS, parentgender = 'F')\n",
    "\n",
    "# IDS \n",
    "vowel_space_expansion(in_path_formant_no_IDS, target_vowels, 'IDS', formant_feat_col, out_path_formant_no_IDS, parentgender = 'F')"
   ]
  },
  {
   "cell_type": "code",
   "execution_count": 143,
   "metadata": {},
   "outputs": [
    {
     "name": "stdout",
     "output_type": "stream",
     "text": [
      "Convex hull areas have been saved\n",
      "Convex hull areas have been saved\n"
     ]
    }
   ],
   "source": [
    "# Area\n",
    "# Danis fromant ADS\n",
    "vowel_space_expansion(in_path_formant_da_ADS, target_vowels, 'ADS', formant_feat_col, out_path_formant_da_ADS)\n",
    "\n",
    "# IDS \n",
    "vowel_space_expansion(in_path_formant_da_IDS, target_vowels, 'IDS', formant_feat_col, out_path_formant_da_IDS)"
   ]
  },
  {
   "cell_type": "markdown",
   "metadata": {},
   "source": [
    "##### Area MFCC"
   ]
  },
  {
   "cell_type": "code",
   "execution_count": 144,
   "metadata": {},
   "outputs": [
    {
     "name": "stdout",
     "output_type": "stream",
     "text": [
      "Convex hull areas have been saved\n",
      "Convex hull areas have been saved\n"
     ]
    }
   ],
   "source": [
    "# Norwagian mother mfcc\n",
    "#  ADS\n",
    "vowel_space_expansion(in_path_mfcc_no_ADS, target_vowels, 'ADS', mfcc_feat_col, out_path_mfcc_no_ADS, parentgender = 'M')\n",
    "\n",
    "# IDS \n",
    "vowel_space_expansion(in_path_mfcc_no_IDS, target_vowels, 'IDS', mfcc_feat_col, out_path_mfcc_no_IDS, parentgender = 'M')"
   ]
  },
  {
   "cell_type": "code",
   "execution_count": 145,
   "metadata": {},
   "outputs": [
    {
     "name": "stdout",
     "output_type": "stream",
     "text": [
      "Convex hull areas have been saved\n",
      "Convex hull areas have been saved\n"
     ]
    }
   ],
   "source": [
    "# Norwagian Father mfcc\n",
    "#  ADS\n",
    "vowel_space_expansion(in_path_mfcc_no_ADS, target_vowels, 'ADS', mfcc_feat_col, out_path_mfcc_no_ADS, parentgender = 'F')\n",
    "\n",
    "# IDS \n",
    "vowel_space_expansion(in_path_mfcc_no_IDS, target_vowels, 'IDS', mfcc_feat_col, out_path_mfcc_no_IDS, parentgender = 'F')"
   ]
  },
  {
   "cell_type": "code",
   "execution_count": 146,
   "metadata": {},
   "outputs": [
    {
     "name": "stdout",
     "output_type": "stream",
     "text": [
      "Convex hull areas have been saved\n",
      "Convex hull areas have been saved\n"
     ]
    }
   ],
   "source": [
    "# Danish \n",
    "#  ADS\n",
    "vowel_space_expansion(in_path_mfcc_da_ADS, target_vowels, 'ADS', mfcc_feat_col, out_path_mfcc_da_ADS)\n",
    "\n",
    "# IDS \n",
    "vowel_space_expansion(in_path_mfcc_da_IDS, target_vowels, 'IDS', mfcc_feat_col, out_path_mfcc_da_IDS)"
   ]
  },
  {
   "cell_type": "markdown",
   "metadata": {},
   "source": [
    "# Area 3 corner vowels"
   ]
  },
  {
   "cell_type": "code",
   "execution_count": 147,
   "metadata": {},
   "outputs": [],
   "source": [
    "target_vowels = ['a', 'i', 'u']"
   ]
  },
  {
   "cell_type": "markdown",
   "metadata": {},
   "source": [
    "##### OutPath for 3 corner vowels results"
   ]
  },
  {
   "cell_type": "code",
   "execution_count": 148,
   "metadata": {},
   "outputs": [],
   "source": [
    "# Norwagian\n",
    "# formant\n",
    "out_path_formant_no_ADS = os.path.join(out_dir, str(len(target_vowels)) + '_' + 'bordervowels' + '_' + 'formant_no_ADS')\n",
    "out_path_formant_no_IDS = os.path.join(out_dir, str(len(target_vowels)) + '_' + 'bordervowels' + '_' + 'formant_no_IDS')\n",
    "\n",
    "#MFCC\n",
    "out_path_mfcc_no_ADS = os.path.join(out_dir, str(len(target_vowels)) + '_' + 'bordervowels' + '_' + 'mfcc_no_ADS')\n",
    "out_path_mfcc_no_IDS = os.path.join(out_dir, str(len(target_vowels)) + '_' + 'bordervowels' + '_' + 'mfcc_no_IDS')"
   ]
  },
  {
   "cell_type": "code",
   "execution_count": 149,
   "metadata": {},
   "outputs": [],
   "source": [
    "# Danish\n",
    "#formant\n",
    "out_path_formant_da_ADS = os.path.join(out_dir, str(len(target_vowels)) + '_' + 'bordervowels' + '_' + 'formant_da_ADS')\n",
    "out_path_formant_da_IDS = os.path.join(out_dir, str(len(target_vowels)) + '_' + 'bordervowels' + '_' + 'formant_da_IDS')\n",
    "#MFCC\n",
    "out_path_mfcc_da_ADS = os.path.join(out_dir, str(len(target_vowels)) + '_' + 'bordervowels' + '_' + 'mfcc_da_ADS')\n",
    "out_path_mfcc_da_IDS = os.path.join(out_dir, str(len(target_vowels)) + '_' + 'bordervowels' + '_' + 'mfcc_da_IDS')"
   ]
  },
  {
   "cell_type": "markdown",
   "metadata": {},
   "source": [
    "# Formant"
   ]
  },
  {
   "cell_type": "code",
   "execution_count": 150,
   "metadata": {},
   "outputs": [
    {
     "name": "stdout",
     "output_type": "stream",
     "text": [
      "Convex hull areas have been saved\n",
      "Convex hull areas have been saved\n"
     ]
    }
   ],
   "source": [
    "# Area\n",
    "# Norwagian Mother fromant \n",
    "\n",
    "# ADS\n",
    "vowel_space_expansion(in_path_formant_no_ADS, target_vowels, 'ADS', formant_feat_col, out_path_formant_no_ADS, parentgender = 'M')\n",
    "\n",
    "# IDS \n",
    "vowel_space_expansion(in_path_formant_no_IDS, target_vowels, 'IDS', formant_feat_col, out_path_formant_no_IDS, parentgender = 'M')"
   ]
  },
  {
   "cell_type": "code",
   "execution_count": 151,
   "metadata": {},
   "outputs": [
    {
     "name": "stdout",
     "output_type": "stream",
     "text": [
      "Convex hull areas have been saved\n",
      "Convex hull areas have been saved\n"
     ]
    }
   ],
   "source": [
    "# Area\n",
    "# Norwagian Father fromant \n",
    "\n",
    "# ADS\n",
    "vowel_space_expansion(in_path_formant_no_ADS, target_vowels, 'ADS', formant_feat_col, out_path_formant_no_ADS, parentgender = 'F')\n",
    "\n",
    "# IDS \n",
    "vowel_space_expansion(in_path_formant_no_IDS, target_vowels, 'IDS', formant_feat_col, out_path_formant_no_IDS, parentgender = 'F')"
   ]
  },
  {
   "cell_type": "code",
   "execution_count": 152,
   "metadata": {},
   "outputs": [
    {
     "name": "stdout",
     "output_type": "stream",
     "text": [
      "Convex hull areas have been saved\n",
      "Convex hull areas have been saved\n"
     ]
    }
   ],
   "source": [
    "# Area\n",
    "# Danis fromant ADS\n",
    "vowel_space_expansion(in_path_formant_da_ADS, target_vowels, 'ADS', formant_feat_col, out_path_formant_da_ADS)\n",
    "\n",
    "# IDS \n",
    "vowel_space_expansion(in_path_formant_da_IDS, target_vowels, 'IDS', formant_feat_col, out_path_formant_da_IDS)"
   ]
  },
  {
   "cell_type": "markdown",
   "metadata": {},
   "source": [
    "# MFCC"
   ]
  },
  {
   "cell_type": "code",
   "execution_count": 153,
   "metadata": {},
   "outputs": [
    {
     "name": "stdout",
     "output_type": "stream",
     "text": [
      "Convex hull areas have been saved\n",
      "Convex hull areas have been saved\n"
     ]
    }
   ],
   "source": [
    "# Norwagian mother mfcc\n",
    "#  ADS\n",
    "vowel_space_expansion(in_path_mfcc_no_ADS, target_vowels, 'ADS', mfcc_feat_col, out_path_mfcc_no_ADS, parentgender = 'M')\n",
    "\n",
    "# IDS \n",
    "vowel_space_expansion(in_path_mfcc_no_IDS, target_vowels, 'IDS', mfcc_feat_col, out_path_mfcc_no_IDS, parentgender = 'M')"
   ]
  },
  {
   "cell_type": "code",
   "execution_count": 154,
   "metadata": {},
   "outputs": [
    {
     "name": "stdout",
     "output_type": "stream",
     "text": [
      "Convex hull areas have been saved\n",
      "Convex hull areas have been saved\n"
     ]
    }
   ],
   "source": [
    "# Norwagian Father mfcc\n",
    "#  ADS\n",
    "vowel_space_expansion(in_path_mfcc_no_ADS, target_vowels, 'ADS', mfcc_feat_col, out_path_mfcc_no_ADS, parentgender = 'F')\n",
    "\n",
    "# IDS \n",
    "vowel_space_expansion(in_path_mfcc_no_IDS, target_vowels, 'IDS', mfcc_feat_col, out_path_mfcc_no_IDS, parentgender = 'F')"
   ]
  },
  {
   "cell_type": "code",
   "execution_count": 155,
   "metadata": {},
   "outputs": [
    {
     "name": "stdout",
     "output_type": "stream",
     "text": [
      "Convex hull areas have been saved\n",
      "Convex hull areas have been saved\n"
     ]
    }
   ],
   "source": [
    "# Danish \n",
    "#  ADS\n",
    "vowel_space_expansion(in_path_mfcc_da_ADS, target_vowels, 'ADS', mfcc_feat_col, out_path_mfcc_da_ADS)\n",
    "\n",
    "# IDS \n",
    "vowel_space_expansion(in_path_mfcc_da_IDS, target_vowels, 'IDS', mfcc_feat_col, out_path_mfcc_da_IDS)"
   ]
  }
 ],
 "metadata": {
  "kernelspec": {
   "display_name": "torch",
   "language": "python",
   "name": "python3"
  },
  "language_info": {
   "codemirror_mode": {
    "name": "ipython",
    "version": 3
   },
   "file_extension": ".py",
   "mimetype": "text/x-python",
   "name": "python",
   "nbconvert_exporter": "python",
   "pygments_lexer": "ipython3",
   "version": "3.10.5"
  }
 },
 "nbformat": 4,
 "nbformat_minor": 2
}
