{
 "cells": [
  {
   "cell_type": "code",
   "execution_count": 1,
   "metadata": {},
   "outputs": [],
   "source": [
    "%load_ext autoreload\n",
    "%autoreload 2"
   ]
  },
  {
   "cell_type": "code",
   "execution_count": 2,
   "metadata": {},
   "outputs": [],
   "source": [
    "import sys\n",
    "import os\n",
    "sys.path.append(os.path.abspath(os.path.join('..')))"
   ]
  },
  {
   "cell_type": "code",
   "execution_count": 22,
   "metadata": {},
   "outputs": [],
   "source": [
    "import pandas as pd\n",
    "import numpy as np\n",
    "\n",
    "from paths import *"
   ]
  },
  {
   "cell_type": "markdown",
   "metadata": {},
   "source": [
    "# Load Metadata"
   ]
  },
  {
   "cell_type": "markdown",
   "metadata": {},
   "source": [
    "### Danish"
   ]
  },
  {
   "cell_type": "code",
   "execution_count": 5,
   "metadata": {},
   "outputs": [],
   "source": [
    "# load danish IDS metadata in dataframe\n",
    "df_IDS_da = pd.read_csv(path_meta_df_IDS_da)"
   ]
  },
  {
   "cell_type": "code",
   "execution_count": 6,
   "metadata": {},
   "outputs": [],
   "source": [
    "# load danish ADS metadata in datframe\n",
    "df_ADS_da = pd.read_csv(path_meta_df_ADS_da)"
   ]
  },
  {
   "cell_type": "markdown",
   "metadata": {},
   "source": [
    "### Norwagian"
   ]
  },
  {
   "cell_type": "code",
   "execution_count": 7,
   "metadata": {},
   "outputs": [],
   "source": [
    "# load danish IDS metadata in dataframe\n",
    "df_IDS_no = pd.read_csv(path_meta_df_IDS_no)"
   ]
  },
  {
   "cell_type": "code",
   "execution_count": 8,
   "metadata": {},
   "outputs": [],
   "source": [
    "# load danish ADS metadata in datframe\n",
    "df_ADS_no = pd.read_csv(path_meta_df_ADS_no)"
   ]
  },
  {
   "cell_type": "markdown",
   "metadata": {},
   "source": [
    "# Check all dataframes for NA values and cleaning the data"
   ]
  },
  {
   "cell_type": "code",
   "execution_count": 9,
   "metadata": {},
   "outputs": [
    {
     "data": {
      "text/plain": [
       "Unnamed: 0    0\n",
       "file_name     0\n",
       "spkid         0\n",
       "AgeMonth      0\n",
       "Register      0\n",
       "time_start    0\n",
       "time_end      0\n",
       "IPA           0\n",
       "dtype: int64"
      ]
     },
     "execution_count": 9,
     "metadata": {},
     "output_type": "execute_result"
    }
   ],
   "source": [
    "# Danish ADS\n",
    "df_ADS_da.isna().sum()"
   ]
  },
  {
   "cell_type": "code",
   "execution_count": 10,
   "metadata": {},
   "outputs": [
    {
     "data": {
      "text/plain": [
       "Unnamed: 0    0\n",
       "file_name     0\n",
       "spkid         0\n",
       "AgeMonth      0\n",
       "Register      0\n",
       "time_start    0\n",
       "time_end      0\n",
       "IPA           0\n",
       "dtype: int64"
      ]
     },
     "execution_count": 10,
     "metadata": {},
     "output_type": "execute_result"
    }
   ],
   "source": [
    "# Danish IDS\n",
    "df_IDS_da.isna().sum()"
   ]
  },
  {
   "cell_type": "code",
   "execution_count": 11,
   "metadata": {},
   "outputs": [
    {
     "data": {
      "text/plain": [
       "Unnamed: 0    0\n",
       "file_name     0\n",
       "spkid         0\n",
       "AgeMonth      0\n",
       "Parent        0\n",
       "Register      0\n",
       "time_start    0\n",
       "time_end      0\n",
       "IPA           0\n",
       "dtype: int64"
      ]
     },
     "execution_count": 11,
     "metadata": {},
     "output_type": "execute_result"
    }
   ],
   "source": [
    "# Norwagian ADS\n",
    "df_ADS_no.isna().sum()"
   ]
  },
  {
   "cell_type": "code",
   "execution_count": 12,
   "metadata": {},
   "outputs": [
    {
     "data": {
      "text/plain": [
       "Unnamed: 0    0\n",
       "file_name     0\n",
       "spkid         0\n",
       "AgeMonth      0\n",
       "Parent        0\n",
       "Register      0\n",
       "time_start    0\n",
       "time_end      0\n",
       "IPA           0\n",
       "dtype: int64"
      ]
     },
     "execution_count": 12,
     "metadata": {},
     "output_type": "execute_result"
    }
   ],
   "source": [
    "# Norwagian IDS\n",
    "df_IDS_no.isna().sum()"
   ]
  },
  {
   "cell_type": "markdown",
   "metadata": {},
   "source": [
    "### Check column datatypes for both norwagian and danish dataframes"
   ]
  },
  {
   "cell_type": "code",
   "execution_count": 13,
   "metadata": {},
   "outputs": [
    {
     "name": "stdout",
     "output_type": "stream",
     "text": [
      "<class 'pandas.core.frame.DataFrame'>\n",
      "RangeIndex: 4538 entries, 0 to 4537\n",
      "Data columns (total 8 columns):\n",
      " #   Column      Non-Null Count  Dtype  \n",
      "---  ------      --------------  -----  \n",
      " 0   Unnamed: 0  4538 non-null   int64  \n",
      " 1   file_name   4538 non-null   object \n",
      " 2   spkid       4538 non-null   object \n",
      " 3   AgeMonth    4538 non-null   int64  \n",
      " 4   Register    4538 non-null   object \n",
      " 5   time_start  4538 non-null   float64\n",
      " 6   time_end    4538 non-null   float64\n",
      " 7   IPA         4538 non-null   object \n",
      "dtypes: float64(2), int64(2), object(4)\n",
      "memory usage: 283.8+ KB\n"
     ]
    }
   ],
   "source": [
    "# Danish ADS\n",
    "df_ADS_da.info()"
   ]
  },
  {
   "cell_type": "code",
   "execution_count": 14,
   "metadata": {},
   "outputs": [
    {
     "name": "stdout",
     "output_type": "stream",
     "text": [
      "<class 'pandas.core.frame.DataFrame'>\n",
      "RangeIndex: 4784 entries, 0 to 4783\n",
      "Data columns (total 8 columns):\n",
      " #   Column      Non-Null Count  Dtype  \n",
      "---  ------      --------------  -----  \n",
      " 0   Unnamed: 0  4784 non-null   int64  \n",
      " 1   file_name   4784 non-null   object \n",
      " 2   spkid       4784 non-null   object \n",
      " 3   AgeMonth    4784 non-null   int64  \n",
      " 4   Register    4784 non-null   object \n",
      " 5   time_start  4784 non-null   float64\n",
      " 6   time_end    4784 non-null   float64\n",
      " 7   IPA         4784 non-null   object \n",
      "dtypes: float64(2), int64(2), object(4)\n",
      "memory usage: 299.1+ KB\n"
     ]
    }
   ],
   "source": [
    "# Danish IDS\n",
    "df_IDS_da.info()"
   ]
  },
  {
   "cell_type": "code",
   "execution_count": 15,
   "metadata": {},
   "outputs": [
    {
     "name": "stdout",
     "output_type": "stream",
     "text": [
      "<class 'pandas.core.frame.DataFrame'>\n",
      "RangeIndex: 27454 entries, 0 to 27453\n",
      "Data columns (total 9 columns):\n",
      " #   Column      Non-Null Count  Dtype  \n",
      "---  ------      --------------  -----  \n",
      " 0   Unnamed: 0  27454 non-null  int64  \n",
      " 1   file_name   27454 non-null  object \n",
      " 2   spkid       27454 non-null  object \n",
      " 3   AgeMonth    27454 non-null  int64  \n",
      " 4   Parent      27454 non-null  object \n",
      " 5   Register    27454 non-null  object \n",
      " 6   time_start  27454 non-null  float64\n",
      " 7   time_end    27454 non-null  float64\n",
      " 8   IPA         27454 non-null  object \n",
      "dtypes: float64(2), int64(2), object(5)\n",
      "memory usage: 1.9+ MB\n"
     ]
    }
   ],
   "source": [
    "# Norwagian ADS\n",
    "df_ADS_no.info()"
   ]
  },
  {
   "cell_type": "markdown",
   "metadata": {},
   "source": [
    "# Counting datapoints "
   ]
  },
  {
   "cell_type": "markdown",
   "metadata": {},
   "source": [
    "### Danish "
   ]
  },
  {
   "cell_type": "code",
   "execution_count": 16,
   "metadata": {},
   "outputs": [],
   "source": [
    "da_ADS_count_per_spkid_age_IPA_df = df_ADS_da.groupby(['spkid','AgeMonth','IPA']).size().reset_index()\n",
    "da_ADS_count_per_spkid_age_IPA_df.rename(columns={0: 'count'}, inplace=True)"
   ]
  },
  {
   "cell_type": "code",
   "execution_count": 17,
   "metadata": {},
   "outputs": [],
   "source": [
    "da_IDS_count_per_spkid_age_IPA_df = df_IDS_da.groupby(['spkid','AgeMonth','IPA']).size().reset_index()\n",
    "da_IDS_count_per_spkid_age_IPA_df.rename(columns={0: 'count'}, inplace=True)"
   ]
  },
  {
   "cell_type": "markdown",
   "metadata": {},
   "source": [
    "### Norwagian"
   ]
  },
  {
   "cell_type": "code",
   "execution_count": 18,
   "metadata": {},
   "outputs": [],
   "source": [
    "no_ADS_count_per_spkid_age_IPA_df = df_ADS_no.groupby(['Parent','spkid','AgeMonth','IPA']).size().reset_index()\n",
    "no_ADS_count_per_spkid_age_IPA_df.rename(columns={0: 'count'}, inplace=True)"
   ]
  },
  {
   "cell_type": "code",
   "execution_count": 19,
   "metadata": {},
   "outputs": [],
   "source": [
    "no_IDS_count_per_spkid_age_IPA_df = df_IDS_no.groupby(['Parent','spkid','AgeMonth','IPA']).size().reset_index()\n",
    "no_IDS_count_per_spkid_age_IPA_df.rename(columns={0: 'count'}, inplace=True)"
   ]
  },
  {
   "cell_type": "markdown",
   "metadata": {},
   "source": [
    "##### Saving count values Count dataframes"
   ]
  },
  {
   "cell_type": "code",
   "execution_count": 23,
   "metadata": {},
   "outputs": [],
   "source": [
    "# Danish\n",
    "da_ADS_count_per_spkid_age_IPA_df.to_excel(da_ADS_count)\n",
    "da_IDS_count_per_spkid_age_IPA_df.to_excel(da_IDS_count)"
   ]
  },
  {
   "cell_type": "code",
   "execution_count": 24,
   "metadata": {},
   "outputs": [],
   "source": [
    "# Norwagian\n",
    "no_ADS_count_per_spkid_age_IPA_df.to_excel(no_ADS_count)\n",
    "no_IDS_count_per_spkid_age_IPA_df.to_excel(no_IDS_count)"
   ]
  }
 ],
 "metadata": {
  "kernelspec": {
   "display_name": "base",
   "language": "python",
   "name": "python3"
  },
  "language_info": {
   "codemirror_mode": {
    "name": "ipython",
    "version": 3
   },
   "file_extension": ".py",
   "mimetype": "text/x-python",
   "name": "python",
   "nbconvert_exporter": "python",
   "pygments_lexer": "ipython3",
   "version": "3.10.5"
  }
 },
 "nbformat": 4,
 "nbformat_minor": 2
}
