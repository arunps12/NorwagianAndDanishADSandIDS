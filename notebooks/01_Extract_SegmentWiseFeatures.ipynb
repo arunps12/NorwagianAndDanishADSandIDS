{
 "cells": [
  {
   "cell_type": "code",
   "execution_count": 18,
   "metadata": {},
   "outputs": [],
   "source": [
    "import os\n",
    "import numpy as np\n",
    "import pandas as pd"
   ]
  },
  {
   "cell_type": "code",
   "execution_count": 19,
   "metadata": {},
   "outputs": [
    {
     "name": "stdout",
     "output_type": "stream",
     "text": [
      "The autoreload extension is already loaded. To reload it, use:\n",
      "  %reload_ext autoreload\n"
     ]
    }
   ],
   "source": [
    "%load_ext autoreload\n",
    "%autoreload 2"
   ]
  },
  {
   "cell_type": "code",
   "execution_count": 20,
   "metadata": {},
   "outputs": [],
   "source": [
    "import sys\n",
    "sys.path.append(os.path.abspath(os.path.join('..')))"
   ]
  },
  {
   "cell_type": "code",
   "execution_count": 21,
   "metadata": {},
   "outputs": [],
   "source": [
    "from paths import *\n",
    "from audio_utils import *"
   ]
  },
  {
   "cell_type": "markdown",
   "metadata": {},
   "source": [
    "# Segment wise features six border vowels"
   ]
  },
  {
   "cell_type": "code",
   "execution_count": 22,
   "metadata": {},
   "outputs": [],
   "source": [
    "target_vowels = ['a', 'e', 'i', 'o', 'u', 'æ']"
   ]
  },
  {
   "cell_type": "markdown",
   "metadata": {},
   "source": [
    "#### Formants values vowel segments wise"
   ]
  },
  {
   "cell_type": "code",
   "execution_count": 23,
   "metadata": {},
   "outputs": [
    {
     "name": "stdout",
     "output_type": "stream",
     "text": [
      "Formant values have benn saved\n",
      "Formant values have benn saved\n"
     ]
    }
   ],
   "source": [
    "# Norwagian ADS \n",
    "# Mother\n",
    "extract_formants_per_glottal_pulse(path_meta_df_ADS_no, target_vowels, no_wav_dir, 'ADS', out_path_formant_no_ADS_seg, Frame = False, parentgender='M')\n",
    "\n",
    "#Father\n",
    "extract_formants_per_glottal_pulse(path_meta_df_ADS_no, target_vowels, no_wav_dir, 'ADS', out_path_formant_no_ADS_seg, Frame = False, parentgender='F')\n"
   ]
  },
  {
   "cell_type": "code",
   "execution_count": 24,
   "metadata": {},
   "outputs": [
    {
     "name": "stdout",
     "output_type": "stream",
     "text": [
      "Formant values have benn saved\n",
      "Formant values have benn saved\n"
     ]
    }
   ],
   "source": [
    "# Norwagian IDS \n",
    "# Mother\n",
    "extract_formants_per_glottal_pulse(path_meta_df_IDS_no, target_vowels, no_wav_dir, 'IDS', out_path_formant_no_IDS_seg, Frame = False, parentgender='M')\n",
    "\n",
    "#Father\n",
    "extract_formants_per_glottal_pulse(path_meta_df_IDS_no, target_vowels, no_wav_dir, 'IDS', out_path_formant_no_IDS_seg, Frame = False, parentgender='F')\n"
   ]
  },
  {
   "cell_type": "code",
   "execution_count": 25,
   "metadata": {},
   "outputs": [
    {
     "name": "stdout",
     "output_type": "stream",
     "text": [
      "Formant values have benn saved\n",
      "Formant values have benn saved\n"
     ]
    }
   ],
   "source": [
    "# Danish \n",
    "# ADS \n",
    "extract_formants_per_glottal_pulse(path_meta_df_ADS_da, target_vowels, da_wav_dir, 'ADS', out_path_formant_da_ADS_seg, Frame = False)\n",
    "\n",
    "# IDS \n",
    "extract_formants_per_glottal_pulse(path_meta_df_IDS_da, target_vowels, da_wav_dir, 'IDS', out_path_formant_da_IDS_seg, Frame = False)\n"
   ]
  },
  {
   "cell_type": "markdown",
   "metadata": {},
   "source": [
    "### MFCCS values vowel segments wise"
   ]
  },
  {
   "cell_type": "code",
   "execution_count": 26,
   "metadata": {},
   "outputs": [
    {
     "name": "stdout",
     "output_type": "stream",
     "text": [
      "MFCC values have been saved\n",
      "MFCC values have been saved\n"
     ]
    }
   ],
   "source": [
    "# Norwagian ADS \n",
    "# Mother\n",
    "extract_mfcc(path_meta_df_ADS_no, target_vowels, no_wav_dir, 'ADS', out_path_mfcc_no_ADS_seg, Frame = False, parentgender='M')\n",
    "\n",
    "#Father\n",
    "extract_mfcc(path_meta_df_ADS_no, target_vowels, no_wav_dir, 'ADS', out_path_mfcc_no_ADS_seg, Frame = False, parentgender='F')\n"
   ]
  },
  {
   "cell_type": "code",
   "execution_count": 27,
   "metadata": {},
   "outputs": [
    {
     "name": "stdout",
     "output_type": "stream",
     "text": [
      "MFCC values have been saved\n",
      "MFCC values have been saved\n"
     ]
    }
   ],
   "source": [
    "# Norwagian IDS \n",
    "# Mother\n",
    "extract_mfcc(path_meta_df_IDS_no, target_vowels, no_wav_dir, 'IDS', out_path_mfcc_no_IDS_seg, Frame = False, parentgender='M')\n",
    "\n",
    "#Father\n",
    "extract_mfcc(path_meta_df_IDS_no, target_vowels, no_wav_dir, 'IDS', out_path_mfcc_no_IDS_seg, Frame = False, parentgender='F')\n"
   ]
  },
  {
   "cell_type": "code",
   "execution_count": 28,
   "metadata": {},
   "outputs": [
    {
     "name": "stdout",
     "output_type": "stream",
     "text": [
      "MFCC values have been saved\n",
      "MFCC values have been saved\n"
     ]
    }
   ],
   "source": [
    "# Danish \n",
    "# ADS \n",
    "extract_mfcc(path_meta_df_ADS_da, target_vowels, da_wav_dir, 'ADS', out_path_mfcc_da_ADS_seg, Frame = False)\n",
    "\n",
    "# IDS \n",
    "extract_mfcc(path_meta_df_IDS_da, target_vowels, da_wav_dir, 'IDS', out_path_mfcc_da_IDS_seg, Frame = False)"
   ]
  },
  {
   "cell_type": "markdown",
   "metadata": {},
   "source": [
    "## vowel segemnt wise features for Three corner vowels"
   ]
  },
  {
   "cell_type": "code",
   "execution_count": 29,
   "metadata": {},
   "outputs": [],
   "source": [
    "target_vowels = ['a', 'i', 'u']"
   ]
  },
  {
   "cell_type": "markdown",
   "metadata": {},
   "source": [
    "##### Formant"
   ]
  },
  {
   "cell_type": "code",
   "execution_count": 30,
   "metadata": {},
   "outputs": [
    {
     "name": "stdout",
     "output_type": "stream",
     "text": [
      "Formant values have benn saved\n",
      "Formant values have benn saved\n"
     ]
    }
   ],
   "source": [
    "# Norwagian ADS \n",
    "# Mother\n",
    "extract_formants_per_glottal_pulse(path_meta_df_ADS_no, target_vowels, no_wav_dir, 'ADS', out_path_formant_no_ADS_seg, Frame = False, parentgender='M')\n",
    "\n",
    "#Father\n",
    "extract_formants_per_glottal_pulse(path_meta_df_ADS_no, target_vowels, no_wav_dir, 'ADS', out_path_formant_no_ADS_seg, Frame = False, parentgender='F')\n"
   ]
  },
  {
   "cell_type": "code",
   "execution_count": 31,
   "metadata": {},
   "outputs": [
    {
     "name": "stdout",
     "output_type": "stream",
     "text": [
      "Formant values have benn saved\n",
      "Formant values have benn saved\n"
     ]
    }
   ],
   "source": [
    "# Norwagian IDS \n",
    "# Mother\n",
    "extract_formants_per_glottal_pulse(path_meta_df_IDS_no, target_vowels, no_wav_dir, 'IDS', out_path_formant_no_IDS_seg, Frame = False, parentgender='M')\n",
    "\n",
    "#Father\n",
    "extract_formants_per_glottal_pulse(path_meta_df_IDS_no, target_vowels, no_wav_dir, 'IDS', out_path_formant_no_IDS_seg, Frame = False, parentgender='F')\n"
   ]
  },
  {
   "cell_type": "code",
   "execution_count": 32,
   "metadata": {},
   "outputs": [
    {
     "name": "stdout",
     "output_type": "stream",
     "text": [
      "Formant values have benn saved\n",
      "Formant values have benn saved\n"
     ]
    }
   ],
   "source": [
    "# Danish \n",
    "# ADS \n",
    "extract_formants_per_glottal_pulse(path_meta_df_ADS_da, target_vowels, da_wav_dir, 'ADS', out_path_formant_da_ADS_seg, Frame = False)\n",
    "\n",
    "# IDS \n",
    "extract_formants_per_glottal_pulse(path_meta_df_IDS_da, target_vowels, da_wav_dir, 'IDS', out_path_formant_da_IDS_seg, Frame = False)\n"
   ]
  },
  {
   "cell_type": "markdown",
   "metadata": {},
   "source": [
    "#### MFCC"
   ]
  },
  {
   "cell_type": "code",
   "execution_count": 33,
   "metadata": {},
   "outputs": [
    {
     "name": "stdout",
     "output_type": "stream",
     "text": [
      "MFCC values have been saved\n",
      "MFCC values have been saved\n"
     ]
    }
   ],
   "source": [
    "# Norwagian ADS \n",
    "# Mother\n",
    "extract_mfcc(path_meta_df_ADS_no, target_vowels, no_wav_dir, 'ADS', out_path_mfcc_no_ADS_seg, Frame = False, parentgender='M')\n",
    "\n",
    "#Father\n",
    "extract_mfcc(path_meta_df_ADS_no, target_vowels, no_wav_dir, 'ADS', out_path_mfcc_no_ADS_seg, Frame = False, parentgender='F')\n"
   ]
  },
  {
   "cell_type": "code",
   "execution_count": 34,
   "metadata": {},
   "outputs": [
    {
     "name": "stdout",
     "output_type": "stream",
     "text": [
      "MFCC values have been saved\n",
      "MFCC values have been saved\n"
     ]
    }
   ],
   "source": [
    "# Norwagian IDS \n",
    "# Mother\n",
    "extract_mfcc(path_meta_df_IDS_no, target_vowels, no_wav_dir, 'IDS', out_path_mfcc_no_IDS_seg, Frame = False, parentgender='M')\n",
    "\n",
    "#Father\n",
    "extract_mfcc(path_meta_df_IDS_no, target_vowels, no_wav_dir, 'IDS', out_path_mfcc_no_IDS_seg, Frame = False, parentgender='F')\n"
   ]
  },
  {
   "cell_type": "code",
   "execution_count": 35,
   "metadata": {},
   "outputs": [
    {
     "name": "stdout",
     "output_type": "stream",
     "text": [
      "MFCC values have been saved\n",
      "MFCC values have been saved\n"
     ]
    }
   ],
   "source": [
    "# Danish \n",
    "# ADS \n",
    "extract_mfcc(path_meta_df_ADS_da, target_vowels, da_wav_dir, 'ADS', out_path_mfcc_da_ADS_seg, Frame = False)\n",
    "\n",
    "# IDS \n",
    "extract_mfcc(path_meta_df_IDS_da, target_vowels, da_wav_dir, 'IDS', out_path_mfcc_da_IDS_seg, Frame = False)"
   ]
  }
 ],
 "metadata": {
  "kernelspec": {
   "display_name": "torch",
   "language": "python",
   "name": "python3"
  },
  "language_info": {
   "codemirror_mode": {
    "name": "ipython",
    "version": 3
   },
   "file_extension": ".py",
   "mimetype": "text/x-python",
   "name": "python",
   "nbconvert_exporter": "python",
   "pygments_lexer": "ipython3",
   "version": "3.10.5"
  }
 },
 "nbformat": 4,
 "nbformat_minor": 2
}
