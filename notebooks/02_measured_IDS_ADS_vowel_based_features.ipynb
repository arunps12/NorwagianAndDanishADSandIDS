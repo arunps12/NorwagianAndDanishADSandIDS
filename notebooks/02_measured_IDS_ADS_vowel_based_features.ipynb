{
 "cells": [
  {
   "cell_type": "code",
   "execution_count": 79,
   "metadata": {},
   "outputs": [],
   "source": [
    "import os\n",
    "import numpy as np\n",
    "import pandas as pd"
   ]
  },
  {
   "cell_type": "code",
   "execution_count": 80,
   "metadata": {},
   "outputs": [
    {
     "name": "stdout",
     "output_type": "stream",
     "text": [
      "The autoreload extension is already loaded. To reload it, use:\n",
      "  %reload_ext autoreload\n"
     ]
    }
   ],
   "source": [
    "%load_ext autoreload\n",
    "%autoreload 2"
   ]
  },
  {
   "cell_type": "code",
   "execution_count": 81,
   "metadata": {},
   "outputs": [],
   "source": [
    "import sys\n",
    "sys.path.append(os.path.abspath(os.path.join('..')))"
   ]
  },
  {
   "cell_type": "code",
   "execution_count": 82,
   "metadata": {},
   "outputs": [],
   "source": [
    "from paths import *"
   ]
  },
  {
   "cell_type": "code",
   "execution_count": 107,
   "metadata": {},
   "outputs": [],
   "source": [
    "from RequireFunctions import vowel_space_expansion"
   ]
  },
  {
   "cell_type": "code",
   "execution_count": 108,
   "metadata": {},
   "outputs": [],
   "source": [
    "#features column names\n",
    "#formant\n",
    "formant_feat_col = ['F1', 'F2']\n",
    "\n",
    "#MFCC\n",
    "mfcc_feat_col = [f'mfcc{i}' for i in range(1, 14)]"
   ]
  },
  {
   "cell_type": "markdown",
   "metadata": {},
   "source": [
    "### Vowel space Expansion\n",
    "###### Formants: area of convex hull\n",
    "###### MFCC: volume of convex hull"
   ]
  },
  {
   "cell_type": "code",
   "execution_count": 109,
   "metadata": {},
   "outputs": [
    {
     "name": "stdout",
     "output_type": "stream",
     "text": [
      "Convex hull areas have been saved\n",
      "Convex hull areas have been saved\n",
      "Convex hull areas have been saved\n",
      "Convex hull areas have been saved\n",
      "Convex hull areas have been saved\n",
      "Convex hull areas have been saved\n",
      "Convex hull areas have been saved\n",
      "Convex hull areas have been saved\n",
      "Convex hull areas have been saved\n",
      "Convex hull areas have been saved\n",
      "Convex hull areas have been saved\n",
      "Convex hull areas have been saved\n",
      "file name should start with featuer_name\n",
      "file name should start with featuer_name\n",
      "file name should start with featuer_name\n",
      "file name should start with featuer_name\n",
      "file name should start with featuer_name\n",
      "file name should start with featuer_name\n",
      "file name should start with featuer_name\n",
      "file name should start with featuer_name\n",
      "file name should start with featuer_name\n",
      "file name should start with featuer_name\n",
      "file name should start with featuer_name\n",
      "file name should start with featuer_name\n",
      "file name should start with featuer_name\n",
      "file name should start with featuer_name\n",
      "file name should start with featuer_name\n",
      "file name should start with featuer_name\n",
      "file name should start with featuer_name\n",
      "file name should start with featuer_name\n",
      "file name should start with featuer_name\n",
      "file name should start with featuer_name\n",
      "file name should start with featuer_name\n",
      "file name should start with featuer_name\n",
      "file name should start with featuer_name\n",
      "file name should start with featuer_name\n",
      "Convex hull areas have been saved\n",
      "Convex hull areas have been saved\n",
      "Convex hull areas have been saved\n",
      "Convex hull areas have been saved\n",
      "Convex hull areas have been saved\n",
      "Convex hull areas have been saved\n",
      "Convex hull areas have been saved\n",
      "Convex hull areas have been saved\n",
      "Convex hull areas have been saved\n",
      "Convex hull areas have been saved\n",
      "Convex hull areas have been saved\n",
      "Convex hull areas have been saved\n"
     ]
    }
   ],
   "source": [
    "# Vowel space expansion\n",
    "# formants\n",
    "vowel_space_expansion(clean_data_dir, 'formant',formant_feat_col, area)\n",
    "\n",
    "# MFCC\n",
    "vowel_space_expansion(clean_data_dir, 'mfcc', mfcc_feat_col, area)"
   ]
  },
  {
   "cell_type": "markdown",
   "metadata": {},
   "source": [
    "### Vowel Variability"
   ]
  },
  {
   "cell_type": "code",
   "execution_count": 110,
   "metadata": {},
   "outputs": [],
   "source": [
    "from RequireFunctions import vowel_variability"
   ]
  },
  {
   "cell_type": "code",
   "execution_count": 111,
   "metadata": {},
   "outputs": [
    {
     "name": "stdout",
     "output_type": "stream",
     "text": [
      "Variabilities have been saved\n",
      "Variabilities have been saved\n",
      "Variabilities have been saved\n",
      "Variabilities have been saved\n",
      "Variabilities have been saved\n",
      "Variabilities have been saved\n",
      "Variabilities have been saved\n",
      "Variabilities have been saved\n",
      "Variabilities have been saved\n",
      "Variabilities have been saved\n",
      "Variabilities have been saved\n",
      "Variabilities have been saved\n",
      "file name should start with featuer_name\n",
      "file name should start with featuer_name\n",
      "file name should start with featuer_name\n",
      "file name should start with featuer_name\n",
      "file name should start with featuer_name\n",
      "file name should start with featuer_name\n",
      "file name should start with featuer_name\n",
      "file name should start with featuer_name\n",
      "file name should start with featuer_name\n",
      "file name should start with featuer_name\n",
      "file name should start with featuer_name\n",
      "file name should start with featuer_name\n",
      "file name should start with featuer_name\n",
      "file name should start with featuer_name\n",
      "file name should start with featuer_name\n",
      "file name should start with featuer_name\n",
      "file name should start with featuer_name\n",
      "file name should start with featuer_name\n",
      "file name should start with featuer_name\n",
      "file name should start with featuer_name\n",
      "file name should start with featuer_name\n",
      "file name should start with featuer_name\n",
      "file name should start with featuer_name\n",
      "file name should start with featuer_name\n",
      "Variabilities have been saved\n",
      "Variabilities have been saved\n",
      "Variabilities have been saved\n",
      "Variabilities have been saved\n",
      "Variabilities have been saved\n",
      "Variabilities have been saved\n",
      "Variabilities have been saved\n",
      "Variabilities have been saved\n",
      "Variabilities have been saved\n",
      "Variabilities have been saved\n",
      "Variabilities have been saved\n",
      "Variabilities have been saved\n"
     ]
    }
   ],
   "source": [
    "\n",
    "# Formant\n",
    "vowel_variability(clean_data_dir, 'formant',formant_feat_col, variability)\n",
    "\n",
    "# MFCC\n",
    "vowel_variability(clean_data_dir, 'mfcc', mfcc_feat_col, variability)"
   ]
  },
  {
   "cell_type": "markdown",
   "metadata": {},
   "source": [
    "# Separability "
   ]
  },
  {
   "cell_type": "code",
   "execution_count": 114,
   "metadata": {},
   "outputs": [],
   "source": [
    "from RequireFunctions import vowel_separability"
   ]
  },
  {
   "cell_type": "markdown",
   "metadata": {},
   "source": [
    "##### Computing pillai score using vowel_separability function"
   ]
  },
  {
   "cell_type": "code",
   "execution_count": 115,
   "metadata": {},
   "outputs": [
    {
     "name": "stdout",
     "output_type": "stream",
     "text": [
      "Pillai scores have been saved\n",
      "Pillai scores have been saved\n",
      "Pillai scores have been saved\n",
      "Pillai scores have been saved\n",
      "Pillai scores have been saved\n",
      "Pillai scores have been saved\n",
      "Pillai scores have been saved\n",
      "Pillai scores have been saved\n",
      "Pillai scores have been saved\n",
      "Pillai scores have been saved\n",
      "Pillai scores have been saved\n",
      "Pillai scores have been saved\n",
      "file name should start with featuer_name\n",
      "file name should start with featuer_name\n",
      "file name should start with featuer_name\n",
      "file name should start with featuer_name\n",
      "file name should start with featuer_name\n",
      "file name should start with featuer_name\n",
      "file name should start with featuer_name\n",
      "file name should start with featuer_name\n",
      "file name should start with featuer_name\n",
      "file name should start with featuer_name\n",
      "file name should start with featuer_name\n",
      "file name should start with featuer_name\n",
      "file name should start with featuer_name\n",
      "file name should start with featuer_name\n",
      "file name should start with featuer_name\n",
      "file name should start with featuer_name\n",
      "file name should start with featuer_name\n",
      "file name should start with featuer_name\n",
      "file name should start with featuer_name\n",
      "file name should start with featuer_name\n",
      "file name should start with featuer_name\n",
      "file name should start with featuer_name\n",
      "file name should start with featuer_name\n",
      "file name should start with featuer_name\n",
      "Pillai scores have been saved\n",
      "Pillai scores have been saved\n",
      "Pillai scores have been saved\n",
      "Pillai scores have been saved\n",
      "Pillai scores have been saved\n",
      "Pillai scores have been saved\n",
      "Pillai scores have been saved\n",
      "Pillai scores have been saved\n",
      "Pillai scores have been saved\n",
      "Pillai scores have been saved\n",
      "Pillai scores have been saved\n",
      "Pillai scores have been saved\n"
     ]
    }
   ],
   "source": [
    "# Formant\n",
    "vowel_separability(clean_data_dir, 'formant',formant_feat_col, separability)\n",
    "\n",
    "# MFCC\n",
    "vowel_separability(clean_data_dir, 'mfcc', mfcc_feat_col, separability)"
   ]
  }
 ],
 "metadata": {
  "kernelspec": {
   "display_name": "torch",
   "language": "python",
   "name": "python3"
  },
  "language_info": {
   "codemirror_mode": {
    "name": "ipython",
    "version": 3
   },
   "file_extension": ".py",
   "mimetype": "text/x-python",
   "name": "python",
   "nbconvert_exporter": "python",
   "pygments_lexer": "ipython3",
   "version": "3.10.5"
  }
 },
 "nbformat": 4,
 "nbformat_minor": 2
}
