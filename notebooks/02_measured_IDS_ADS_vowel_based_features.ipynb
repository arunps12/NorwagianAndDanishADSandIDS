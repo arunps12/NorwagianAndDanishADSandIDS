{
 "cells": [
  {
   "cell_type": "code",
   "execution_count": 1,
   "metadata": {},
   "outputs": [],
   "source": [
    "import os\n",
    "import numpy as np\n",
    "import pandas as pd"
   ]
  },
  {
   "cell_type": "code",
   "execution_count": 2,
   "metadata": {},
   "outputs": [],
   "source": [
    "%load_ext autoreload\n",
    "%autoreload 2"
   ]
  },
  {
   "cell_type": "code",
   "execution_count": 3,
   "metadata": {},
   "outputs": [],
   "source": [
    "import sys\n",
    "sys.path.append(os.path.abspath(os.path.join('..')))"
   ]
  },
  {
   "cell_type": "code",
   "execution_count": 4,
   "metadata": {},
   "outputs": [],
   "source": [
    "from paths import *"
   ]
  },
  {
   "cell_type": "code",
   "execution_count": 22,
   "metadata": {},
   "outputs": [],
   "source": [
    "from RequireFunctions import vowel_space_expansion"
   ]
  },
  {
   "cell_type": "code",
   "execution_count": 6,
   "metadata": {},
   "outputs": [],
   "source": [
    "#features column names\n",
    "#formant\n",
    "formant_feat_col = ['F1', 'F2']\n",
    "\n",
    "#MFCC\n",
    "mfcc_feat_col = [f'mfcc{i}' for i in range(1, 14)]"
   ]
  },
  {
   "cell_type": "markdown",
   "metadata": {},
   "source": [
    "### Vowel space Expansion\n",
    "###### Formants: area of convex hull\n",
    "###### MFCC: volume of convex hull"
   ]
  },
  {
   "cell_type": "code",
   "execution_count": 24,
   "metadata": {},
   "outputs": [
    {
     "name": "stdout",
     "output_type": "stream",
     "text": [
      "Skipping speaker SF, age 14 due to missing classes.\n",
      "Convex hull areas have been saved\n",
      "Skipping speaker SF, age 14 due to missing classes.\n",
      "Skipping speaker SS, age 14 due to missing classes.\n",
      "Skipping speaker TM, age 24 due to missing classes.\n",
      "Convex hull areas have been saved\n",
      "Skipping speaker SS, age 14 due to missing classes.\n",
      "Convex hull areas have been saved\n",
      "Skipping speaker JA, age 24 due to missing classes.\n",
      "Skipping speaker LK, age 16 due to missing classes.\n",
      "Skipping speaker RV, age 11 due to missing classes.\n",
      "Skipping speaker SS, age 14 due to missing classes.\n",
      "Convex hull areas have been saved\n",
      "Convex hull areas have been saved\n",
      "Convex hull areas have been saved\n",
      "Convex hull areas have been saved\n",
      "Convex hull areas have been saved\n",
      "Skipping speaker FIDS167, age 12 due to missing classes.\n",
      "Convex hull areas have been saved\n",
      "Skipping speaker MIDS102, age 15 due to missing classes.\n",
      "Skipping speaker MIDS142, age 18 due to missing classes.\n",
      "Convex hull areas have been saved\n",
      "Skipping speaker FIDS167, age 12 due to missing classes.\n",
      "Convex hull areas have been saved\n",
      "Skipping speaker MIDS102, age 15 due to missing classes.\n",
      "Skipping speaker MIDS142, age 18 due to missing classes.\n",
      "Convex hull areas have been saved\n",
      "file name should start with featuer_name\n",
      "file name should start with featuer_name\n",
      "file name should start with featuer_name\n",
      "file name should start with featuer_name\n",
      "file name should start with featuer_name\n",
      "file name should start with featuer_name\n",
      "file name should start with featuer_name\n",
      "file name should start with featuer_name\n",
      "file name should start with featuer_name\n",
      "file name should start with featuer_name\n",
      "file name should start with featuer_name\n",
      "file name should start with featuer_name\n",
      "file name should start with featuer_name\n",
      "file name should start with featuer_name\n",
      "file name should start with featuer_name\n",
      "file name should start with featuer_name\n",
      "file name should start with featuer_name\n",
      "file name should start with featuer_name\n",
      "file name should start with featuer_name\n",
      "file name should start with featuer_name\n",
      "file name should start with featuer_name\n",
      "file name should start with featuer_name\n",
      "file name should start with featuer_name\n",
      "file name should start with featuer_name\n",
      "Skipping speaker SF, age 14 due to missing classes.\n",
      "Convex hull areas have been saved\n",
      "Skipping speaker SF, age 14 due to missing classes.\n",
      "Skipping speaker SS, age 14 due to missing classes.\n",
      "Skipping speaker TM, age 24 due to missing classes.\n",
      "Convex hull areas have been saved\n",
      "Skipping speaker SS, age 14 due to missing classes.\n",
      "Convex hull areas have been saved\n",
      "Skipping speaker JA, age 24 due to missing classes.\n",
      "Skipping speaker RV, age 11 due to missing classes.\n",
      "Skipping speaker SS, age 14 due to missing classes.\n",
      "Convex hull areas have been saved\n",
      "Convex hull areas have been saved\n",
      "Convex hull areas have been saved\n",
      "Convex hull areas have been saved\n",
      "Convex hull areas have been saved\n",
      "Skipping speaker FIDS167, age 12 due to missing classes.\n",
      "Convex hull areas have been saved\n",
      "Skipping speaker MIDS102, age 15 due to missing classes.\n",
      "Skipping speaker MIDS142, age 18 due to missing classes.\n",
      "Convex hull areas have been saved\n",
      "Skipping speaker FIDS167, age 12 due to missing classes.\n",
      "Convex hull areas have been saved\n",
      "Skipping speaker MIDS102, age 15 due to missing classes.\n",
      "Skipping speaker MIDS142, age 18 due to missing classes.\n",
      "Convex hull areas have been saved\n"
     ]
    }
   ],
   "source": [
    "# Vowel space expansion\n",
    "# formants\n",
    "vowel_space_expansion(clean_data_dir, 'formant',formant_feat_col, area)\n",
    "\n",
    "# MFCC\n",
    "vowel_space_expansion(clean_data_dir, 'mfcc', mfcc_feat_col, area)"
   ]
  },
  {
   "cell_type": "markdown",
   "metadata": {},
   "source": [
    "### Vowel Variability"
   ]
  },
  {
   "cell_type": "code",
   "execution_count": 20,
   "metadata": {},
   "outputs": [],
   "source": [
    "from RequireFunctions import vowel_variability"
   ]
  },
  {
   "cell_type": "code",
   "execution_count": 21,
   "metadata": {},
   "outputs": [
    {
     "name": "stdout",
     "output_type": "stream",
     "text": [
      "Variabilities have been saved\n",
      "Variabilities have been saved\n",
      "Variabilities have been saved\n",
      "Variabilities have been saved\n",
      "Variabilities have been saved\n",
      "Variabilities have been saved\n",
      "Variabilities have been saved\n",
      "Variabilities have been saved\n",
      "Variabilities have been saved\n",
      "Variabilities have been saved\n",
      "Variabilities have been saved\n",
      "Variabilities have been saved\n",
      "file name should start with featuer_name\n",
      "file name should start with featuer_name\n",
      "file name should start with featuer_name\n",
      "file name should start with featuer_name\n",
      "file name should start with featuer_name\n",
      "file name should start with featuer_name\n",
      "file name should start with featuer_name\n",
      "file name should start with featuer_name\n",
      "file name should start with featuer_name\n",
      "file name should start with featuer_name\n",
      "file name should start with featuer_name\n",
      "file name should start with featuer_name\n",
      "file name should start with featuer_name\n",
      "file name should start with featuer_name\n",
      "file name should start with featuer_name\n",
      "file name should start with featuer_name\n",
      "file name should start with featuer_name\n",
      "file name should start with featuer_name\n",
      "file name should start with featuer_name\n",
      "file name should start with featuer_name\n",
      "file name should start with featuer_name\n",
      "file name should start with featuer_name\n",
      "file name should start with featuer_name\n",
      "file name should start with featuer_name\n",
      "Variabilities have been saved\n",
      "Variabilities have been saved\n",
      "Variabilities have been saved\n",
      "Variabilities have been saved\n",
      "Variabilities have been saved\n",
      "Variabilities have been saved\n",
      "Variabilities have been saved\n",
      "Variabilities have been saved\n",
      "Variabilities have been saved\n",
      "Variabilities have been saved\n",
      "Variabilities have been saved\n",
      "Variabilities have been saved\n"
     ]
    }
   ],
   "source": [
    "\n",
    "# Formant\n",
    "vowel_variability(clean_data_dir, 'formant',formant_feat_col, variability)\n",
    "\n",
    "# MFCC\n",
    "vowel_variability(clean_data_dir, 'mfcc', mfcc_feat_col, variability)"
   ]
  },
  {
   "cell_type": "markdown",
   "metadata": {},
   "source": [
    "# Separability "
   ]
  },
  {
   "cell_type": "code",
   "execution_count": 12,
   "metadata": {},
   "outputs": [],
   "source": [
    "from RequireFunctions import vowel_separability"
   ]
  },
  {
   "cell_type": "markdown",
   "metadata": {},
   "source": [
    "##### Computing pillai score using vowel_separability function"
   ]
  },
  {
   "cell_type": "code",
   "execution_count": 15,
   "metadata": {},
   "outputs": [
    {
     "name": "stdout",
     "output_type": "stream",
     "text": [
      "Skipping speaker SF, age 14 due to missing classes.\n",
      "Pillai scores have been saved\n",
      "Skipping speaker SF, age 14 due to missing classes.\n",
      "Skipping speaker SS, age 14 due to missing classes.\n",
      "Skipping speaker TM, age 24 due to missing classes.\n",
      "Pillai scores have been saved\n",
      "Skipping speaker SS, age 14 due to missing classes.\n",
      "Pillai scores have been saved\n",
      "Skipping speaker JA, age 24 due to missing classes.\n",
      "Skipping speaker LK, age 16 due to missing classes.\n",
      "Skipping speaker RV, age 11 due to missing classes.\n",
      "Skipping speaker SS, age 14 due to missing classes.\n",
      "Pillai scores have been saved\n",
      "Pillai scores have been saved\n",
      "Pillai scores have been saved\n",
      "Pillai scores have been saved\n",
      "Pillai scores have been saved\n",
      "Skipping speaker FIDS167, age 12 due to missing classes.\n",
      "Pillai scores have been saved\n",
      "Skipping speaker MIDS102, age 15 due to missing classes.\n",
      "Skipping speaker MIDS142, age 18 due to missing classes.\n",
      "Pillai scores have been saved\n",
      "Skipping speaker FIDS167, age 12 due to missing classes.\n",
      "Pillai scores have been saved\n",
      "Skipping speaker MIDS102, age 15 due to missing classes.\n",
      "Skipping speaker MIDS142, age 18 due to missing classes.\n",
      "Pillai scores have been saved\n",
      "file name should start with featuer_name\n",
      "file name should start with featuer_name\n",
      "file name should start with featuer_name\n",
      "file name should start with featuer_name\n",
      "file name should start with featuer_name\n",
      "file name should start with featuer_name\n",
      "file name should start with featuer_name\n",
      "file name should start with featuer_name\n",
      "file name should start with featuer_name\n",
      "file name should start with featuer_name\n",
      "file name should start with featuer_name\n",
      "file name should start with featuer_name\n",
      "file name should start with featuer_name\n",
      "file name should start with featuer_name\n",
      "file name should start with featuer_name\n",
      "file name should start with featuer_name\n",
      "file name should start with featuer_name\n",
      "file name should start with featuer_name\n",
      "file name should start with featuer_name\n",
      "file name should start with featuer_name\n",
      "file name should start with featuer_name\n",
      "file name should start with featuer_name\n",
      "file name should start with featuer_name\n",
      "file name should start with featuer_name\n",
      "Skipping speaker SF, age 14 due to missing classes.\n",
      "Pillai scores have been saved\n",
      "Skipping speaker SF, age 14 due to missing classes.\n",
      "Skipping speaker SS, age 14 due to missing classes.\n",
      "Skipping speaker TM, age 24 due to missing classes.\n",
      "Pillai scores have been saved\n",
      "Skipping speaker SS, age 14 due to missing classes.\n",
      "Pillai scores have been saved\n",
      "Skipping speaker JA, age 24 due to missing classes.\n",
      "Skipping speaker RV, age 11 due to missing classes.\n",
      "Skipping speaker SS, age 14 due to missing classes.\n",
      "Pillai scores have been saved\n",
      "Pillai scores have been saved\n",
      "Pillai scores have been saved\n",
      "Pillai scores have been saved\n",
      "Pillai scores have been saved\n",
      "Skipping speaker FIDS167, age 12 due to missing classes.\n",
      "Pillai scores have been saved\n",
      "Skipping speaker MIDS102, age 15 due to missing classes.\n",
      "Skipping speaker MIDS142, age 18 due to missing classes.\n",
      "Pillai scores have been saved\n",
      "Skipping speaker FIDS167, age 12 due to missing classes.\n",
      "Pillai scores have been saved\n",
      "Skipping speaker MIDS102, age 15 due to missing classes.\n",
      "Skipping speaker MIDS142, age 18 due to missing classes.\n",
      "Pillai scores have been saved\n"
     ]
    }
   ],
   "source": [
    "# Formant\n",
    "vowel_separability(clean_data_dir, 'formant',formant_feat_col, separability)\n",
    "\n",
    "# MFCC\n",
    "vowel_separability(clean_data_dir, 'mfcc', mfcc_feat_col, separability)"
   ]
  }
 ],
 "metadata": {
  "kernelspec": {
   "display_name": "torch",
   "language": "python",
   "name": "python3"
  },
  "language_info": {
   "codemirror_mode": {
    "name": "ipython",
    "version": 3
   },
   "file_extension": ".py",
   "mimetype": "text/x-python",
   "name": "python",
   "nbconvert_exporter": "python",
   "pygments_lexer": "ipython3",
   "version": "3.10.5"
  }
 },
 "nbformat": 4,
 "nbformat_minor": 2
}
