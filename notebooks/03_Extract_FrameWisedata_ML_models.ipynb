{
 "cells": [
  {
   "cell_type": "code",
   "execution_count": 1,
   "metadata": {},
   "outputs": [],
   "source": [
    "import os\n",
    "import numpy as np\n",
    "import pandas as pd"
   ]
  },
  {
   "cell_type": "code",
   "execution_count": 2,
   "metadata": {},
   "outputs": [],
   "source": [
    "%load_ext autoreload\n",
    "%autoreload 2"
   ]
  },
  {
   "cell_type": "code",
   "execution_count": 3,
   "metadata": {},
   "outputs": [],
   "source": [
    "import sys\n",
    "sys.path.append(os.path.abspath(os.path.join('..')))"
   ]
  },
  {
   "cell_type": "code",
   "execution_count": 10,
   "metadata": {},
   "outputs": [],
   "source": [
    "from paths import *\n",
    "from audio_utils import *"
   ]
  },
  {
   "cell_type": "markdown",
   "metadata": {},
   "source": [
    "# Frame wise features for ML model for six border vowels"
   ]
  },
  {
   "cell_type": "code",
   "execution_count": 5,
   "metadata": {},
   "outputs": [],
   "source": [
    "target_vowels = ['a', 'e', 'i', 'o', 'u', 'æ']"
   ]
  },
  {
   "cell_type": "markdown",
   "metadata": {},
   "source": [
    "#### Formants delta and delta-delta values frame wise"
   ]
  },
  {
   "cell_type": "code",
   "execution_count": 11,
   "metadata": {},
   "outputs": [
    {
     "name": "stdout",
     "output_type": "stream",
     "text": [
      "Formant values have benn saved\n",
      "Formant values have benn saved\n"
     ]
    }
   ],
   "source": [
    "# Norwagian ADS \n",
    "# Mother\n",
    "extract_formants_per_glottal_pulse(path_meta_df_ADS_no, target_vowels, no_wav_dir, 'ADS', out_path_formant_no_ADS_ML, Frame = True, parentgender='M')\n",
    "\n",
    "#Father\n",
    "extract_formants_per_glottal_pulse(path_meta_df_ADS_no, target_vowels, no_wav_dir, 'ADS', out_path_formant_no_ADS_ML, Frame = True, parentgender='F')\n",
    "\n"
   ]
  },
  {
   "cell_type": "code",
   "execution_count": 12,
   "metadata": {},
   "outputs": [
    {
     "name": "stdout",
     "output_type": "stream",
     "text": [
      "Formant values have benn saved\n",
      "Formant values have benn saved\n"
     ]
    }
   ],
   "source": [
    "# Norwagian IDS \n",
    "# Mother\n",
    "extract_formants_per_glottal_pulse(path_meta_df_IDS_no, target_vowels, no_wav_dir, 'IDS', out_path_formant_no_IDS_ML, Frame = True, parentgender='M')\n",
    "\n",
    "#Father\n",
    "extract_formants_per_glottal_pulse(path_meta_df_IDS_no, target_vowels, no_wav_dir, 'IDS', out_path_formant_no_IDS_ML, Frame = True, parentgender='F')\n"
   ]
  },
  {
   "cell_type": "code",
   "execution_count": 13,
   "metadata": {},
   "outputs": [
    {
     "name": "stdout",
     "output_type": "stream",
     "text": [
      "Formant values have benn saved\n",
      "Formant values have benn saved\n"
     ]
    }
   ],
   "source": [
    "# Danish \n",
    "# ADS \n",
    "extract_formants_per_glottal_pulse(path_meta_df_ADS_da, target_vowels, da_wav_dir, 'ADS', out_path_formant_da_ADS_ML, Frame = True)\n",
    "\n",
    "# IDS \n",
    "extract_formants_per_glottal_pulse(path_meta_df_IDS_da, target_vowels, da_wav_dir, 'IDS', out_path_formant_da_IDS_ML, Frame = True)\n"
   ]
  },
  {
   "cell_type": "markdown",
   "metadata": {},
   "source": [
    "### MFCCS and delta values frame wise"
   ]
  },
  {
   "cell_type": "code",
   "execution_count": 14,
   "metadata": {},
   "outputs": [
    {
     "name": "stdout",
     "output_type": "stream",
     "text": [
      "MFCC values have been saved\n",
      "MFCC values have been saved\n"
     ]
    }
   ],
   "source": [
    "# Norwagian ADS \n",
    "# Mother\n",
    "extract_mfcc(path_meta_df_ADS_no, target_vowels, no_wav_dir, 'ADS', out_path_mfcc_no_ADS_ML, Frame = True, parentgender='M')\n",
    "\n",
    "#Father\n",
    "extract_mfcc(path_meta_df_ADS_no, target_vowels, no_wav_dir, 'ADS', out_path_mfcc_no_ADS_ML, Frame = True, parentgender='F')\n"
   ]
  },
  {
   "cell_type": "code",
   "execution_count": 15,
   "metadata": {},
   "outputs": [
    {
     "name": "stdout",
     "output_type": "stream",
     "text": [
      "MFCC values have been saved\n",
      "MFCC values have been saved\n"
     ]
    }
   ],
   "source": [
    "# Norwagian IDS \n",
    "# Mother\n",
    "extract_mfcc(path_meta_df_IDS_no, target_vowels, no_wav_dir, 'IDS', out_path_mfcc_no_IDS_ML, Frame = True, parentgender='M')\n",
    "\n",
    "#Father\n",
    "extract_mfcc(path_meta_df_IDS_no, target_vowels, no_wav_dir, 'IDS', out_path_mfcc_no_IDS_ML, Frame = True, parentgender='F')\n"
   ]
  },
  {
   "cell_type": "code",
   "execution_count": 16,
   "metadata": {},
   "outputs": [
    {
     "name": "stdout",
     "output_type": "stream",
     "text": [
      "MFCC values have been saved\n",
      "MFCC values have been saved\n"
     ]
    }
   ],
   "source": [
    "# Danish \n",
    "# ADS \n",
    "extract_mfcc(path_meta_df_ADS_da, target_vowels, da_wav_dir, 'ADS', out_path_mfcc_da_ADS_ML, Frame = True)\n",
    "\n",
    "# IDS \n",
    "extract_mfcc(path_meta_df_IDS_da, target_vowels, da_wav_dir, 'IDS', out_path_mfcc_da_IDS_ML, Frame = True)"
   ]
  },
  {
   "cell_type": "markdown",
   "metadata": {},
   "source": [
    "## Frame wise features for ML model for Three corner vowels"
   ]
  },
  {
   "cell_type": "code",
   "execution_count": 17,
   "metadata": {},
   "outputs": [],
   "source": [
    "target_vowels = ['a', 'i', 'u']"
   ]
  },
  {
   "cell_type": "markdown",
   "metadata": {},
   "source": [
    "##### Formant"
   ]
  },
  {
   "cell_type": "code",
   "execution_count": 18,
   "metadata": {},
   "outputs": [
    {
     "name": "stdout",
     "output_type": "stream",
     "text": [
      "Formant values have benn saved\n",
      "Formant values have benn saved\n"
     ]
    }
   ],
   "source": [
    "# Norwagian ADS \n",
    "# Mother\n",
    "extract_formants_per_glottal_pulse(path_meta_df_ADS_no, target_vowels, no_wav_dir, 'ADS', out_path_formant_no_ADS_ML, Frame = True, parentgender='M')\n",
    "\n",
    "#Father\n",
    "extract_formants_per_glottal_pulse(path_meta_df_ADS_no, target_vowels, no_wav_dir, 'ADS', out_path_formant_no_ADS_ML, Frame = True, parentgender='F')\n"
   ]
  },
  {
   "cell_type": "code",
   "execution_count": 19,
   "metadata": {},
   "outputs": [
    {
     "name": "stdout",
     "output_type": "stream",
     "text": [
      "Formant values have benn saved\n",
      "Formant values have benn saved\n"
     ]
    }
   ],
   "source": [
    "# Norwagian IDS \n",
    "# Mother\n",
    "extract_formants_per_glottal_pulse(path_meta_df_IDS_no, target_vowels, no_wav_dir, 'IDS', out_path_formant_no_IDS_ML, Frame = True, parentgender='M')\n",
    "\n",
    "#Father\n",
    "extract_formants_per_glottal_pulse(path_meta_df_IDS_no, target_vowels, no_wav_dir, 'IDS', out_path_formant_no_IDS_ML, Frame = True, parentgender='F')\n"
   ]
  },
  {
   "cell_type": "code",
   "execution_count": 20,
   "metadata": {},
   "outputs": [
    {
     "name": "stdout",
     "output_type": "stream",
     "text": [
      "Formant values have benn saved\n",
      "Formant values have benn saved\n"
     ]
    }
   ],
   "source": [
    "# Danish \n",
    "# ADS \n",
    "extract_formants_per_glottal_pulse(path_meta_df_ADS_da, target_vowels, da_wav_dir, 'ADS', out_path_formant_da_ADS_ML, Frame = True)\n",
    "\n",
    "# IDS \n",
    "extract_formants_per_glottal_pulse(path_meta_df_IDS_da, target_vowels, da_wav_dir, 'IDS', out_path_formant_da_IDS_ML, Frame = True)\n"
   ]
  },
  {
   "cell_type": "markdown",
   "metadata": {},
   "source": [
    "#### MFCC"
   ]
  },
  {
   "cell_type": "code",
   "execution_count": 21,
   "metadata": {},
   "outputs": [
    {
     "name": "stdout",
     "output_type": "stream",
     "text": [
      "MFCC values have been saved\n",
      "MFCC values have been saved\n"
     ]
    }
   ],
   "source": [
    "# Norwagian ADS \n",
    "# Mother\n",
    "extract_mfcc(path_meta_df_ADS_no, target_vowels, no_wav_dir, 'ADS', out_path_mfcc_no_ADS_ML, Frame = True, parentgender='M')\n",
    "\n",
    "#Father\n",
    "extract_mfcc(path_meta_df_ADS_no, target_vowels, no_wav_dir, 'ADS', out_path_mfcc_no_ADS_ML, Frame = True, parentgender='F')\n"
   ]
  },
  {
   "cell_type": "code",
   "execution_count": 22,
   "metadata": {},
   "outputs": [
    {
     "name": "stdout",
     "output_type": "stream",
     "text": [
      "MFCC values have been saved\n",
      "MFCC values have been saved\n"
     ]
    }
   ],
   "source": [
    "# Norwagian IDS \n",
    "# Mother\n",
    "extract_mfcc(path_meta_df_IDS_no, target_vowels, no_wav_dir, 'IDS', out_path_mfcc_no_IDS_ML, Frame = True, parentgender='M')\n",
    "\n",
    "#Father\n",
    "extract_mfcc(path_meta_df_IDS_no, target_vowels, no_wav_dir, 'IDS', out_path_mfcc_no_IDS_ML, Frame = True, parentgender='F')\n"
   ]
  },
  {
   "cell_type": "code",
   "execution_count": 23,
   "metadata": {},
   "outputs": [
    {
     "name": "stdout",
     "output_type": "stream",
     "text": [
      "MFCC values have been saved\n",
      "MFCC values have been saved\n"
     ]
    }
   ],
   "source": [
    "# Danish \n",
    "# ADS \n",
    "extract_mfcc(path_meta_df_ADS_da, target_vowels, da_wav_dir, 'ADS', out_path_mfcc_da_ADS_ML, Frame = True)\n",
    "\n",
    "# IDS \n",
    "extract_mfcc(path_meta_df_IDS_da, target_vowels, da_wav_dir, 'IDS', out_path_mfcc_da_IDS_ML, Frame = True)"
   ]
  }
 ],
 "metadata": {
  "kernelspec": {
   "display_name": "torch",
   "language": "python",
   "name": "python3"
  },
  "language_info": {
   "codemirror_mode": {
    "name": "ipython",
    "version": 3
   },
   "file_extension": ".py",
   "mimetype": "text/x-python",
   "name": "python",
   "nbconvert_exporter": "python",
   "pygments_lexer": "ipython3",
   "version": "3.10.5"
  }
 },
 "nbformat": 4,
 "nbformat_minor": 2
}
