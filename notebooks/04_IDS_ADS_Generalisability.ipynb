{
 "cells": [
  {
   "cell_type": "code",
   "execution_count": 1,
   "metadata": {},
   "outputs": [],
   "source": [
    "import os\n",
    "import numpy as np\n",
    "import pandas as pd"
   ]
  },
  {
   "cell_type": "code",
   "execution_count": 2,
   "metadata": {},
   "outputs": [],
   "source": [
    "import sys\n",
    "sys.path.append(os.path.abspath(os.path.join('..')))"
   ]
  },
  {
   "cell_type": "code",
   "execution_count": 3,
   "metadata": {},
   "outputs": [],
   "source": [
    "%load_ext autoreload\n",
    "%autoreload 2"
   ]
  },
  {
   "cell_type": "code",
   "execution_count": 4,
   "metadata": {},
   "outputs": [],
   "source": [
    "from paths import *\n",
    "from model import *"
   ]
  },
  {
   "cell_type": "markdown",
   "metadata": {},
   "source": [
    "##### XGBOOST model"
   ]
  },
  {
   "cell_type": "code",
   "execution_count": 29,
   "metadata": {},
   "outputs": [],
   "source": [
    "out_dir_path = xgboost_"
   ]
  },
  {
   "cell_type": "code",
   "execution_count": 42,
   "metadata": {},
   "outputs": [
    {
     "name": "stdout",
     "output_type": "stream",
     "text": [
      "formant_da_ADS_3_bordervowels.csv\n",
      "formant_da_ADS_3_bordervowels.csv\n"
     ]
    },
    {
     "name": "stderr",
     "output_type": "stream",
     "text": [
      "C:\\Users\\arunps\\AppData\\Roaming\\Python\\Python310\\site-packages\\sklearn\\model_selection\\_split.py:684: UserWarning: The least populated class in y has only 2 members, which is less than n_splits=3.\n",
      "  warnings.warn(\n"
     ]
    },
    {
     "ename": "KeyboardInterrupt",
     "evalue": "",
     "output_type": "error",
     "traceback": [
      "\u001b[1;31m---------------------------------------------------------------------------\u001b[0m",
      "\u001b[1;31mKeyboardInterrupt\u001b[0m                         Traceback (most recent call last)",
      "Input \u001b[1;32mIn [42]\u001b[0m, in \u001b[0;36m<cell line: 1>\u001b[1;34m()\u001b[0m\n\u001b[0;32m     13\u001b[0m \u001b[38;5;28;01mif\u001b[39;00m file\u001b[38;5;241m.\u001b[39msplit(\u001b[38;5;124m'\u001b[39m\u001b[38;5;124m.csv\u001b[39m\u001b[38;5;124m'\u001b[39m)[\u001b[38;5;241m0\u001b[39m]\u001b[38;5;241m.\u001b[39msplit(\u001b[38;5;124m'\u001b[39m\u001b[38;5;124m_\u001b[39m\u001b[38;5;124m'\u001b[39m)[\u001b[38;5;241m0\u001b[39m] \u001b[38;5;241m==\u001b[39m \u001b[38;5;124m'\u001b[39m\u001b[38;5;124mmfcc\u001b[39m\u001b[38;5;124m'\u001b[39m:\n\u001b[0;32m     14\u001b[0m     feature_column_names \u001b[38;5;241m=\u001b[39m [\u001b[38;5;124mf\u001b[39m\u001b[38;5;124m'\u001b[39m\u001b[38;5;124mmfcc\u001b[39m\u001b[38;5;132;01m{\u001b[39;00mi\u001b[38;5;241m+\u001b[39m\u001b[38;5;241m1\u001b[39m\u001b[38;5;132;01m}\u001b[39;00m\u001b[38;5;124m'\u001b[39m \u001b[38;5;28;01mfor\u001b[39;00m i \u001b[38;5;129;01min\u001b[39;00m \u001b[38;5;28mrange\u001b[39m(\u001b[38;5;241m13\u001b[39m)] \u001b[38;5;241m+\u001b[39m [\u001b[38;5;124mf\u001b[39m\u001b[38;5;124m'\u001b[39m\u001b[38;5;124mdmfcc\u001b[39m\u001b[38;5;132;01m{\u001b[39;00mi\u001b[38;5;241m+\u001b[39m\u001b[38;5;241m1\u001b[39m\u001b[38;5;132;01m}\u001b[39;00m\u001b[38;5;124m'\u001b[39m \u001b[38;5;28;01mfor\u001b[39;00m i \u001b[38;5;129;01min\u001b[39;00m \u001b[38;5;28mrange\u001b[39m(\u001b[38;5;241m13\u001b[39m)]\n\u001b[1;32m---> 15\u001b[0m df \u001b[38;5;241m=\u001b[39m \u001b[43mxgboost_load_data_compute_f1score_for_speaker_age\u001b[49m\u001b[43m(\u001b[49m\u001b[43mtrain_csv_file_path\u001b[49m\u001b[43m,\u001b[49m\u001b[43m \u001b[49m\u001b[43mtest_csv_file_path\u001b[49m\u001b[43m,\u001b[49m\u001b[43m \u001b[49m\u001b[43mfeature_column_names\u001b[49m\u001b[43m,\u001b[49m\u001b[43m \u001b[49m\u001b[38;5;124;43m'\u001b[39;49m\u001b[38;5;124;43mIPA\u001b[39;49m\u001b[38;5;124;43m'\u001b[39;49m\u001b[43m)\u001b[49m\n\u001b[0;32m     16\u001b[0m df[\u001b[38;5;124m'\u001b[39m\u001b[38;5;124mRegister\u001b[39m\u001b[38;5;124m'\u001b[39m] \u001b[38;5;241m=\u001b[39m file\u001b[38;5;241m.\u001b[39msplit(\u001b[38;5;124m'\u001b[39m\u001b[38;5;124m.csv\u001b[39m\u001b[38;5;124m'\u001b[39m)[\u001b[38;5;241m0\u001b[39m]\u001b[38;5;241m.\u001b[39msplit(\u001b[38;5;124m'\u001b[39m\u001b[38;5;124m_\u001b[39m\u001b[38;5;124m'\u001b[39m)[\u001b[38;5;241m2\u001b[39m]\n\u001b[0;32m     17\u001b[0m df[\u001b[38;5;124m'\u001b[39m\u001b[38;5;124mLanguage\u001b[39m\u001b[38;5;124m'\u001b[39m] \u001b[38;5;241m=\u001b[39m file\u001b[38;5;241m.\u001b[39msplit(\u001b[38;5;124m'\u001b[39m\u001b[38;5;124m.csv\u001b[39m\u001b[38;5;124m'\u001b[39m)[\u001b[38;5;241m0\u001b[39m]\u001b[38;5;241m.\u001b[39msplit(\u001b[38;5;124m'\u001b[39m\u001b[38;5;124m_\u001b[39m\u001b[38;5;124m'\u001b[39m)[\u001b[38;5;241m1\u001b[39m]\n",
      "File \u001b[1;32mc:\\Users\\arunps\\OneDrive\\Projects\\Scripts\\Python\\NorwagianAndDanishIDSandADS\\model.py:105\u001b[0m, in \u001b[0;36mxgboost_load_data_compute_f1score_for_speaker_age\u001b[1;34m(train_csv_file_path, test_csv_file_path, feature_column_names, label_column_name)\u001b[0m\n\u001b[0;32m    102\u001b[0m         \u001b[38;5;28;01mcontinue\u001b[39;00m\n\u001b[0;32m    104\u001b[0m     \u001b[38;5;66;03m# Train and test the model\u001b[39;00m\n\u001b[1;32m--> 105\u001b[0m     f1_score_value \u001b[38;5;241m=\u001b[39m \u001b[43mtrain_test_xgboost\u001b[49m\u001b[43m(\u001b[49m\u001b[43mX_train\u001b[49m\u001b[43m,\u001b[49m\u001b[43m \u001b[49m\u001b[43my_train_encoded\u001b[49m\u001b[43m,\u001b[49m\u001b[43m \u001b[49m\u001b[43mX_test\u001b[49m\u001b[43m,\u001b[49m\u001b[43m \u001b[49m\u001b[43my_test_encoded\u001b[49m\u001b[43m,\u001b[49m\u001b[43m \u001b[49m\u001b[43mnum_class\u001b[49m\u001b[43m)\u001b[49m\n\u001b[0;32m    106\u001b[0m     results\u001b[38;5;241m.\u001b[39mappend({\n\u001b[0;32m    107\u001b[0m         \u001b[38;5;124m'\u001b[39m\u001b[38;5;124mspkid\u001b[39m\u001b[38;5;124m'\u001b[39m: spkid,\n\u001b[0;32m    108\u001b[0m         \u001b[38;5;124m'\u001b[39m\u001b[38;5;124mAgeMonth\u001b[39m\u001b[38;5;124m'\u001b[39m: age,\n\u001b[0;32m    109\u001b[0m         \u001b[38;5;124m'\u001b[39m\u001b[38;5;124m#train_samples\u001b[39m\u001b[38;5;124m'\u001b[39m: X_train\u001b[38;5;241m.\u001b[39mshape[\u001b[38;5;241m0\u001b[39m],\n\u001b[0;32m    110\u001b[0m         \u001b[38;5;124m'\u001b[39m\u001b[38;5;124mF1_Score\u001b[39m\u001b[38;5;124m'\u001b[39m: \u001b[38;5;124m\"\u001b[39m\u001b[38;5;132;01m{:.4f}\u001b[39;00m\u001b[38;5;124m\"\u001b[39m\u001b[38;5;241m.\u001b[39mformat(f1_score_value)\n\u001b[0;32m    111\u001b[0m     })\n\u001b[0;32m    113\u001b[0m \u001b[38;5;66;03m# Convert results to DataFrame\u001b[39;00m\n",
      "File \u001b[1;32mc:\\Users\\arunps\\OneDrive\\Projects\\Scripts\\Python\\NorwagianAndDanishIDSandADS\\model.py:47\u001b[0m, in \u001b[0;36mtrain_test_xgboost\u001b[1;34m(X_train, y_train, X_test, y_test, num_class)\u001b[0m\n\u001b[0;32m     44\u001b[0m random_search \u001b[38;5;241m=\u001b[39m RandomizedSearchCV(model, param_distributions\u001b[38;5;241m=\u001b[39mparam_dist, n_iter\u001b[38;5;241m=\u001b[39m\u001b[38;5;241m20\u001b[39m, scoring\u001b[38;5;241m=\u001b[39mf1, cv\u001b[38;5;241m=\u001b[39m\u001b[38;5;241m3\u001b[39m, random_state\u001b[38;5;241m=\u001b[39m\u001b[38;5;241m42\u001b[39m, error_score\u001b[38;5;241m=\u001b[39m\u001b[38;5;124m'\u001b[39m\u001b[38;5;124mraise\u001b[39m\u001b[38;5;124m'\u001b[39m)\n\u001b[0;32m     46\u001b[0m \u001b[38;5;28;01mtry\u001b[39;00m:\n\u001b[1;32m---> 47\u001b[0m     \u001b[43mrandom_search\u001b[49m\u001b[38;5;241;43m.\u001b[39;49m\u001b[43mfit\u001b[49m\u001b[43m(\u001b[49m\u001b[43mX_train\u001b[49m\u001b[43m,\u001b[49m\u001b[43m \u001b[49m\u001b[43my_train\u001b[49m\u001b[43m)\u001b[49m\n\u001b[0;32m     48\u001b[0m \u001b[38;5;28;01mexcept\u001b[39;00m \u001b[38;5;167;01mException\u001b[39;00m \u001b[38;5;28;01mas\u001b[39;00m e:\n\u001b[0;32m     49\u001b[0m     \u001b[38;5;28mprint\u001b[39m(\u001b[38;5;124mf\u001b[39m\u001b[38;5;124m\"\u001b[39m\u001b[38;5;124mError during RandomizedSearchCV: \u001b[39m\u001b[38;5;132;01m{\u001b[39;00me\u001b[38;5;132;01m}\u001b[39;00m\u001b[38;5;124m\"\u001b[39m)\n",
      "File \u001b[1;32m~\\AppData\\Roaming\\Python\\Python310\\site-packages\\sklearn\\model_selection\\_search.py:875\u001b[0m, in \u001b[0;36mBaseSearchCV.fit\u001b[1;34m(self, X, y, groups, **fit_params)\u001b[0m\n\u001b[0;32m    869\u001b[0m     results \u001b[38;5;241m=\u001b[39m \u001b[38;5;28mself\u001b[39m\u001b[38;5;241m.\u001b[39m_format_results(\n\u001b[0;32m    870\u001b[0m         all_candidate_params, n_splits, all_out, all_more_results\n\u001b[0;32m    871\u001b[0m     )\n\u001b[0;32m    873\u001b[0m     \u001b[38;5;28;01mreturn\u001b[39;00m results\n\u001b[1;32m--> 875\u001b[0m \u001b[38;5;28;43mself\u001b[39;49m\u001b[38;5;241;43m.\u001b[39;49m\u001b[43m_run_search\u001b[49m\u001b[43m(\u001b[49m\u001b[43mevaluate_candidates\u001b[49m\u001b[43m)\u001b[49m\n\u001b[0;32m    877\u001b[0m \u001b[38;5;66;03m# multimetric is determined here because in the case of a callable\u001b[39;00m\n\u001b[0;32m    878\u001b[0m \u001b[38;5;66;03m# self.scoring the return type is only known after calling\u001b[39;00m\n\u001b[0;32m    879\u001b[0m first_test_score \u001b[38;5;241m=\u001b[39m all_out[\u001b[38;5;241m0\u001b[39m][\u001b[38;5;124m\"\u001b[39m\u001b[38;5;124mtest_scores\u001b[39m\u001b[38;5;124m\"\u001b[39m]\n",
      "File \u001b[1;32m~\\AppData\\Roaming\\Python\\Python310\\site-packages\\sklearn\\model_selection\\_search.py:1753\u001b[0m, in \u001b[0;36mRandomizedSearchCV._run_search\u001b[1;34m(self, evaluate_candidates)\u001b[0m\n\u001b[0;32m   1751\u001b[0m \u001b[38;5;28;01mdef\u001b[39;00m \u001b[38;5;21m_run_search\u001b[39m(\u001b[38;5;28mself\u001b[39m, evaluate_candidates):\n\u001b[0;32m   1752\u001b[0m     \u001b[38;5;124;03m\"\"\"Search n_iter candidates from param_distributions\"\"\"\u001b[39;00m\n\u001b[1;32m-> 1753\u001b[0m     \u001b[43mevaluate_candidates\u001b[49m\u001b[43m(\u001b[49m\n\u001b[0;32m   1754\u001b[0m \u001b[43m        \u001b[49m\u001b[43mParameterSampler\u001b[49m\u001b[43m(\u001b[49m\n\u001b[0;32m   1755\u001b[0m \u001b[43m            \u001b[49m\u001b[38;5;28;43mself\u001b[39;49m\u001b[38;5;241;43m.\u001b[39;49m\u001b[43mparam_distributions\u001b[49m\u001b[43m,\u001b[49m\u001b[43m \u001b[49m\u001b[38;5;28;43mself\u001b[39;49m\u001b[38;5;241;43m.\u001b[39;49m\u001b[43mn_iter\u001b[49m\u001b[43m,\u001b[49m\u001b[43m \u001b[49m\u001b[43mrandom_state\u001b[49m\u001b[38;5;241;43m=\u001b[39;49m\u001b[38;5;28;43mself\u001b[39;49m\u001b[38;5;241;43m.\u001b[39;49m\u001b[43mrandom_state\u001b[49m\n\u001b[0;32m   1756\u001b[0m \u001b[43m        \u001b[49m\u001b[43m)\u001b[49m\n\u001b[0;32m   1757\u001b[0m \u001b[43m    \u001b[49m\u001b[43m)\u001b[49m\n",
      "File \u001b[1;32m~\\AppData\\Roaming\\Python\\Python310\\site-packages\\sklearn\\model_selection\\_search.py:822\u001b[0m, in \u001b[0;36mBaseSearchCV.fit.<locals>.evaluate_candidates\u001b[1;34m(candidate_params, cv, more_results)\u001b[0m\n\u001b[0;32m    814\u001b[0m \u001b[38;5;28;01mif\u001b[39;00m \u001b[38;5;28mself\u001b[39m\u001b[38;5;241m.\u001b[39mverbose \u001b[38;5;241m>\u001b[39m \u001b[38;5;241m0\u001b[39m:\n\u001b[0;32m    815\u001b[0m     \u001b[38;5;28mprint\u001b[39m(\n\u001b[0;32m    816\u001b[0m         \u001b[38;5;124m\"\u001b[39m\u001b[38;5;124mFitting \u001b[39m\u001b[38;5;132;01m{0}\u001b[39;00m\u001b[38;5;124m folds for each of \u001b[39m\u001b[38;5;132;01m{1}\u001b[39;00m\u001b[38;5;124m candidates,\u001b[39m\u001b[38;5;124m\"\u001b[39m\n\u001b[0;32m    817\u001b[0m         \u001b[38;5;124m\"\u001b[39m\u001b[38;5;124m totalling \u001b[39m\u001b[38;5;132;01m{2}\u001b[39;00m\u001b[38;5;124m fits\u001b[39m\u001b[38;5;124m\"\u001b[39m\u001b[38;5;241m.\u001b[39mformat(\n\u001b[0;32m    818\u001b[0m             n_splits, n_candidates, n_candidates \u001b[38;5;241m*\u001b[39m n_splits\n\u001b[0;32m    819\u001b[0m         )\n\u001b[0;32m    820\u001b[0m     )\n\u001b[1;32m--> 822\u001b[0m out \u001b[38;5;241m=\u001b[39m \u001b[43mparallel\u001b[49m\u001b[43m(\u001b[49m\n\u001b[0;32m    823\u001b[0m \u001b[43m    \u001b[49m\u001b[43mdelayed\u001b[49m\u001b[43m(\u001b[49m\u001b[43m_fit_and_score\u001b[49m\u001b[43m)\u001b[49m\u001b[43m(\u001b[49m\n\u001b[0;32m    824\u001b[0m \u001b[43m        \u001b[49m\u001b[43mclone\u001b[49m\u001b[43m(\u001b[49m\u001b[43mbase_estimator\u001b[49m\u001b[43m)\u001b[49m\u001b[43m,\u001b[49m\n\u001b[0;32m    825\u001b[0m \u001b[43m        \u001b[49m\u001b[43mX\u001b[49m\u001b[43m,\u001b[49m\n\u001b[0;32m    826\u001b[0m \u001b[43m        \u001b[49m\u001b[43my\u001b[49m\u001b[43m,\u001b[49m\n\u001b[0;32m    827\u001b[0m \u001b[43m        \u001b[49m\u001b[43mtrain\u001b[49m\u001b[38;5;241;43m=\u001b[39;49m\u001b[43mtrain\u001b[49m\u001b[43m,\u001b[49m\n\u001b[0;32m    828\u001b[0m \u001b[43m        \u001b[49m\u001b[43mtest\u001b[49m\u001b[38;5;241;43m=\u001b[39;49m\u001b[43mtest\u001b[49m\u001b[43m,\u001b[49m\n\u001b[0;32m    829\u001b[0m \u001b[43m        \u001b[49m\u001b[43mparameters\u001b[49m\u001b[38;5;241;43m=\u001b[39;49m\u001b[43mparameters\u001b[49m\u001b[43m,\u001b[49m\n\u001b[0;32m    830\u001b[0m \u001b[43m        \u001b[49m\u001b[43msplit_progress\u001b[49m\u001b[38;5;241;43m=\u001b[39;49m\u001b[43m(\u001b[49m\u001b[43msplit_idx\u001b[49m\u001b[43m,\u001b[49m\u001b[43m \u001b[49m\u001b[43mn_splits\u001b[49m\u001b[43m)\u001b[49m\u001b[43m,\u001b[49m\n\u001b[0;32m    831\u001b[0m \u001b[43m        \u001b[49m\u001b[43mcandidate_progress\u001b[49m\u001b[38;5;241;43m=\u001b[39;49m\u001b[43m(\u001b[49m\u001b[43mcand_idx\u001b[49m\u001b[43m,\u001b[49m\u001b[43m \u001b[49m\u001b[43mn_candidates\u001b[49m\u001b[43m)\u001b[49m\u001b[43m,\u001b[49m\n\u001b[0;32m    832\u001b[0m \u001b[43m        \u001b[49m\u001b[38;5;241;43m*\u001b[39;49m\u001b[38;5;241;43m*\u001b[39;49m\u001b[43mfit_and_score_kwargs\u001b[49m\u001b[43m,\u001b[49m\n\u001b[0;32m    833\u001b[0m \u001b[43m    \u001b[49m\u001b[43m)\u001b[49m\n\u001b[0;32m    834\u001b[0m \u001b[43m    \u001b[49m\u001b[38;5;28;43;01mfor\u001b[39;49;00m\u001b[43m \u001b[49m\u001b[43m(\u001b[49m\u001b[43mcand_idx\u001b[49m\u001b[43m,\u001b[49m\u001b[43m \u001b[49m\u001b[43mparameters\u001b[49m\u001b[43m)\u001b[49m\u001b[43m,\u001b[49m\u001b[43m \u001b[49m\u001b[43m(\u001b[49m\u001b[43msplit_idx\u001b[49m\u001b[43m,\u001b[49m\u001b[43m \u001b[49m\u001b[43m(\u001b[49m\u001b[43mtrain\u001b[49m\u001b[43m,\u001b[49m\u001b[43m \u001b[49m\u001b[43mtest\u001b[49m\u001b[43m)\u001b[49m\u001b[43m)\u001b[49m\u001b[43m \u001b[49m\u001b[38;5;129;43;01min\u001b[39;49;00m\u001b[43m \u001b[49m\u001b[43mproduct\u001b[49m\u001b[43m(\u001b[49m\n\u001b[0;32m    835\u001b[0m \u001b[43m        \u001b[49m\u001b[38;5;28;43menumerate\u001b[39;49m\u001b[43m(\u001b[49m\u001b[43mcandidate_params\u001b[49m\u001b[43m)\u001b[49m\u001b[43m,\u001b[49m\u001b[43m \u001b[49m\u001b[38;5;28;43menumerate\u001b[39;49m\u001b[43m(\u001b[49m\u001b[43mcv\u001b[49m\u001b[38;5;241;43m.\u001b[39;49m\u001b[43msplit\u001b[49m\u001b[43m(\u001b[49m\u001b[43mX\u001b[49m\u001b[43m,\u001b[49m\u001b[43m \u001b[49m\u001b[43my\u001b[49m\u001b[43m,\u001b[49m\u001b[43m \u001b[49m\u001b[43mgroups\u001b[49m\u001b[43m)\u001b[49m\u001b[43m)\u001b[49m\n\u001b[0;32m    836\u001b[0m \u001b[43m    \u001b[49m\u001b[43m)\u001b[49m\n\u001b[0;32m    837\u001b[0m \u001b[43m\u001b[49m\u001b[43m)\u001b[49m\n\u001b[0;32m    839\u001b[0m \u001b[38;5;28;01mif\u001b[39;00m \u001b[38;5;28mlen\u001b[39m(out) \u001b[38;5;241m<\u001b[39m \u001b[38;5;241m1\u001b[39m:\n\u001b[0;32m    840\u001b[0m     \u001b[38;5;28;01mraise\u001b[39;00m \u001b[38;5;167;01mValueError\u001b[39;00m(\n\u001b[0;32m    841\u001b[0m         \u001b[38;5;124m\"\u001b[39m\u001b[38;5;124mNo fits were performed. \u001b[39m\u001b[38;5;124m\"\u001b[39m\n\u001b[0;32m    842\u001b[0m         \u001b[38;5;124m\"\u001b[39m\u001b[38;5;124mWas the CV iterator empty? \u001b[39m\u001b[38;5;124m\"\u001b[39m\n\u001b[0;32m    843\u001b[0m         \u001b[38;5;124m\"\u001b[39m\u001b[38;5;124mWere there no candidates?\u001b[39m\u001b[38;5;124m\"\u001b[39m\n\u001b[0;32m    844\u001b[0m     )\n",
      "File \u001b[1;32m~\\AppData\\Roaming\\Python\\Python310\\site-packages\\joblib\\parallel.py:1088\u001b[0m, in \u001b[0;36mParallel.__call__\u001b[1;34m(self, iterable)\u001b[0m\n\u001b[0;32m   1085\u001b[0m \u001b[38;5;28;01mif\u001b[39;00m \u001b[38;5;28mself\u001b[39m\u001b[38;5;241m.\u001b[39mdispatch_one_batch(iterator):\n\u001b[0;32m   1086\u001b[0m     \u001b[38;5;28mself\u001b[39m\u001b[38;5;241m.\u001b[39m_iterating \u001b[38;5;241m=\u001b[39m \u001b[38;5;28mself\u001b[39m\u001b[38;5;241m.\u001b[39m_original_iterator \u001b[38;5;129;01mis\u001b[39;00m \u001b[38;5;129;01mnot\u001b[39;00m \u001b[38;5;28;01mNone\u001b[39;00m\n\u001b[1;32m-> 1088\u001b[0m \u001b[38;5;28;01mwhile\u001b[39;00m \u001b[38;5;28;43mself\u001b[39;49m\u001b[38;5;241;43m.\u001b[39;49m\u001b[43mdispatch_one_batch\u001b[49m\u001b[43m(\u001b[49m\u001b[43miterator\u001b[49m\u001b[43m)\u001b[49m:\n\u001b[0;32m   1089\u001b[0m     \u001b[38;5;28;01mpass\u001b[39;00m\n\u001b[0;32m   1091\u001b[0m \u001b[38;5;28;01mif\u001b[39;00m pre_dispatch \u001b[38;5;241m==\u001b[39m \u001b[38;5;124m\"\u001b[39m\u001b[38;5;124mall\u001b[39m\u001b[38;5;124m\"\u001b[39m \u001b[38;5;129;01mor\u001b[39;00m n_jobs \u001b[38;5;241m==\u001b[39m \u001b[38;5;241m1\u001b[39m:\n\u001b[0;32m   1092\u001b[0m     \u001b[38;5;66;03m# The iterable was consumed all at once by the above for loop.\u001b[39;00m\n\u001b[0;32m   1093\u001b[0m     \u001b[38;5;66;03m# No need to wait for async callbacks to trigger to\u001b[39;00m\n\u001b[0;32m   1094\u001b[0m     \u001b[38;5;66;03m# consumption.\u001b[39;00m\n",
      "File \u001b[1;32m~\\AppData\\Roaming\\Python\\Python310\\site-packages\\joblib\\parallel.py:901\u001b[0m, in \u001b[0;36mParallel.dispatch_one_batch\u001b[1;34m(self, iterator)\u001b[0m\n\u001b[0;32m    899\u001b[0m     \u001b[38;5;28;01mreturn\u001b[39;00m \u001b[38;5;28;01mFalse\u001b[39;00m\n\u001b[0;32m    900\u001b[0m \u001b[38;5;28;01melse\u001b[39;00m:\n\u001b[1;32m--> 901\u001b[0m     \u001b[38;5;28;43mself\u001b[39;49m\u001b[38;5;241;43m.\u001b[39;49m\u001b[43m_dispatch\u001b[49m\u001b[43m(\u001b[49m\u001b[43mtasks\u001b[49m\u001b[43m)\u001b[49m\n\u001b[0;32m    902\u001b[0m     \u001b[38;5;28;01mreturn\u001b[39;00m \u001b[38;5;28;01mTrue\u001b[39;00m\n",
      "File \u001b[1;32m~\\AppData\\Roaming\\Python\\Python310\\site-packages\\joblib\\parallel.py:819\u001b[0m, in \u001b[0;36mParallel._dispatch\u001b[1;34m(self, batch)\u001b[0m\n\u001b[0;32m    817\u001b[0m \u001b[38;5;28;01mwith\u001b[39;00m \u001b[38;5;28mself\u001b[39m\u001b[38;5;241m.\u001b[39m_lock:\n\u001b[0;32m    818\u001b[0m     job_idx \u001b[38;5;241m=\u001b[39m \u001b[38;5;28mlen\u001b[39m(\u001b[38;5;28mself\u001b[39m\u001b[38;5;241m.\u001b[39m_jobs)\n\u001b[1;32m--> 819\u001b[0m     job \u001b[38;5;241m=\u001b[39m \u001b[38;5;28;43mself\u001b[39;49m\u001b[38;5;241;43m.\u001b[39;49m\u001b[43m_backend\u001b[49m\u001b[38;5;241;43m.\u001b[39;49m\u001b[43mapply_async\u001b[49m\u001b[43m(\u001b[49m\u001b[43mbatch\u001b[49m\u001b[43m,\u001b[49m\u001b[43m \u001b[49m\u001b[43mcallback\u001b[49m\u001b[38;5;241;43m=\u001b[39;49m\u001b[43mcb\u001b[49m\u001b[43m)\u001b[49m\n\u001b[0;32m    820\u001b[0m     \u001b[38;5;66;03m# A job can complete so quickly than its callback is\u001b[39;00m\n\u001b[0;32m    821\u001b[0m     \u001b[38;5;66;03m# called before we get here, causing self._jobs to\u001b[39;00m\n\u001b[0;32m    822\u001b[0m     \u001b[38;5;66;03m# grow. To ensure correct results ordering, .insert is\u001b[39;00m\n\u001b[0;32m    823\u001b[0m     \u001b[38;5;66;03m# used (rather than .append) in the following line\u001b[39;00m\n\u001b[0;32m    824\u001b[0m     \u001b[38;5;28mself\u001b[39m\u001b[38;5;241m.\u001b[39m_jobs\u001b[38;5;241m.\u001b[39minsert(job_idx, job)\n",
      "File \u001b[1;32m~\\AppData\\Roaming\\Python\\Python310\\site-packages\\joblib\\_parallel_backends.py:208\u001b[0m, in \u001b[0;36mSequentialBackend.apply_async\u001b[1;34m(self, func, callback)\u001b[0m\n\u001b[0;32m    206\u001b[0m \u001b[38;5;28;01mdef\u001b[39;00m \u001b[38;5;21mapply_async\u001b[39m(\u001b[38;5;28mself\u001b[39m, func, callback\u001b[38;5;241m=\u001b[39m\u001b[38;5;28;01mNone\u001b[39;00m):\n\u001b[0;32m    207\u001b[0m     \u001b[38;5;124;03m\"\"\"Schedule a func to be run\"\"\"\u001b[39;00m\n\u001b[1;32m--> 208\u001b[0m     result \u001b[38;5;241m=\u001b[39m \u001b[43mImmediateResult\u001b[49m\u001b[43m(\u001b[49m\u001b[43mfunc\u001b[49m\u001b[43m)\u001b[49m\n\u001b[0;32m    209\u001b[0m     \u001b[38;5;28;01mif\u001b[39;00m callback:\n\u001b[0;32m    210\u001b[0m         callback(result)\n",
      "File \u001b[1;32m~\\AppData\\Roaming\\Python\\Python310\\site-packages\\joblib\\_parallel_backends.py:597\u001b[0m, in \u001b[0;36mImmediateResult.__init__\u001b[1;34m(self, batch)\u001b[0m\n\u001b[0;32m    594\u001b[0m \u001b[38;5;28;01mdef\u001b[39;00m \u001b[38;5;21m__init__\u001b[39m(\u001b[38;5;28mself\u001b[39m, batch):\n\u001b[0;32m    595\u001b[0m     \u001b[38;5;66;03m# Don't delay the application, to avoid keeping the input\u001b[39;00m\n\u001b[0;32m    596\u001b[0m     \u001b[38;5;66;03m# arguments in memory\u001b[39;00m\n\u001b[1;32m--> 597\u001b[0m     \u001b[38;5;28mself\u001b[39m\u001b[38;5;241m.\u001b[39mresults \u001b[38;5;241m=\u001b[39m \u001b[43mbatch\u001b[49m\u001b[43m(\u001b[49m\u001b[43m)\u001b[49m\n",
      "File \u001b[1;32m~\\AppData\\Roaming\\Python\\Python310\\site-packages\\joblib\\parallel.py:288\u001b[0m, in \u001b[0;36mBatchedCalls.__call__\u001b[1;34m(self)\u001b[0m\n\u001b[0;32m    284\u001b[0m \u001b[38;5;28;01mdef\u001b[39;00m \u001b[38;5;21m__call__\u001b[39m(\u001b[38;5;28mself\u001b[39m):\n\u001b[0;32m    285\u001b[0m     \u001b[38;5;66;03m# Set the default nested backend to self._backend but do not set the\u001b[39;00m\n\u001b[0;32m    286\u001b[0m     \u001b[38;5;66;03m# change the default number of processes to -1\u001b[39;00m\n\u001b[0;32m    287\u001b[0m     \u001b[38;5;28;01mwith\u001b[39;00m parallel_backend(\u001b[38;5;28mself\u001b[39m\u001b[38;5;241m.\u001b[39m_backend, n_jobs\u001b[38;5;241m=\u001b[39m\u001b[38;5;28mself\u001b[39m\u001b[38;5;241m.\u001b[39m_n_jobs):\n\u001b[1;32m--> 288\u001b[0m         \u001b[38;5;28;01mreturn\u001b[39;00m [func(\u001b[38;5;241m*\u001b[39margs, \u001b[38;5;241m*\u001b[39m\u001b[38;5;241m*\u001b[39mkwargs)\n\u001b[0;32m    289\u001b[0m                 \u001b[38;5;28;01mfor\u001b[39;00m func, args, kwargs \u001b[38;5;129;01min\u001b[39;00m \u001b[38;5;28mself\u001b[39m\u001b[38;5;241m.\u001b[39mitems]\n",
      "File \u001b[1;32m~\\AppData\\Roaming\\Python\\Python310\\site-packages\\joblib\\parallel.py:288\u001b[0m, in \u001b[0;36m<listcomp>\u001b[1;34m(.0)\u001b[0m\n\u001b[0;32m    284\u001b[0m \u001b[38;5;28;01mdef\u001b[39;00m \u001b[38;5;21m__call__\u001b[39m(\u001b[38;5;28mself\u001b[39m):\n\u001b[0;32m    285\u001b[0m     \u001b[38;5;66;03m# Set the default nested backend to self._backend but do not set the\u001b[39;00m\n\u001b[0;32m    286\u001b[0m     \u001b[38;5;66;03m# change the default number of processes to -1\u001b[39;00m\n\u001b[0;32m    287\u001b[0m     \u001b[38;5;28;01mwith\u001b[39;00m parallel_backend(\u001b[38;5;28mself\u001b[39m\u001b[38;5;241m.\u001b[39m_backend, n_jobs\u001b[38;5;241m=\u001b[39m\u001b[38;5;28mself\u001b[39m\u001b[38;5;241m.\u001b[39m_n_jobs):\n\u001b[1;32m--> 288\u001b[0m         \u001b[38;5;28;01mreturn\u001b[39;00m [func(\u001b[38;5;241m*\u001b[39margs, \u001b[38;5;241m*\u001b[39m\u001b[38;5;241m*\u001b[39mkwargs)\n\u001b[0;32m    289\u001b[0m                 \u001b[38;5;28;01mfor\u001b[39;00m func, args, kwargs \u001b[38;5;129;01min\u001b[39;00m \u001b[38;5;28mself\u001b[39m\u001b[38;5;241m.\u001b[39mitems]\n",
      "File \u001b[1;32m~\\AppData\\Roaming\\Python\\Python310\\site-packages\\sklearn\\utils\\fixes.py:117\u001b[0m, in \u001b[0;36m_FuncWrapper.__call__\u001b[1;34m(self, *args, **kwargs)\u001b[0m\n\u001b[0;32m    115\u001b[0m \u001b[38;5;28;01mdef\u001b[39;00m \u001b[38;5;21m__call__\u001b[39m(\u001b[38;5;28mself\u001b[39m, \u001b[38;5;241m*\u001b[39margs, \u001b[38;5;241m*\u001b[39m\u001b[38;5;241m*\u001b[39mkwargs):\n\u001b[0;32m    116\u001b[0m     \u001b[38;5;28;01mwith\u001b[39;00m config_context(\u001b[38;5;241m*\u001b[39m\u001b[38;5;241m*\u001b[39m\u001b[38;5;28mself\u001b[39m\u001b[38;5;241m.\u001b[39mconfig):\n\u001b[1;32m--> 117\u001b[0m         \u001b[38;5;28;01mreturn\u001b[39;00m \u001b[38;5;28mself\u001b[39m\u001b[38;5;241m.\u001b[39mfunction(\u001b[38;5;241m*\u001b[39margs, \u001b[38;5;241m*\u001b[39m\u001b[38;5;241m*\u001b[39mkwargs)\n",
      "File \u001b[1;32m~\\AppData\\Roaming\\Python\\Python310\\site-packages\\sklearn\\model_selection\\_validation.py:686\u001b[0m, in \u001b[0;36m_fit_and_score\u001b[1;34m(estimator, X, y, scorer, train, test, verbose, parameters, fit_params, return_train_score, return_parameters, return_n_test_samples, return_times, return_estimator, split_progress, candidate_progress, error_score)\u001b[0m\n\u001b[0;32m    684\u001b[0m         estimator\u001b[38;5;241m.\u001b[39mfit(X_train, \u001b[38;5;241m*\u001b[39m\u001b[38;5;241m*\u001b[39mfit_params)\n\u001b[0;32m    685\u001b[0m     \u001b[38;5;28;01melse\u001b[39;00m:\n\u001b[1;32m--> 686\u001b[0m         estimator\u001b[38;5;241m.\u001b[39mfit(X_train, y_train, \u001b[38;5;241m*\u001b[39m\u001b[38;5;241m*\u001b[39mfit_params)\n\u001b[0;32m    688\u001b[0m \u001b[38;5;28;01mexcept\u001b[39;00m \u001b[38;5;167;01mException\u001b[39;00m:\n\u001b[0;32m    689\u001b[0m     \u001b[38;5;66;03m# Note fit time as time until error\u001b[39;00m\n\u001b[0;32m    690\u001b[0m     fit_time \u001b[38;5;241m=\u001b[39m time\u001b[38;5;241m.\u001b[39mtime() \u001b[38;5;241m-\u001b[39m start_time\n",
      "File \u001b[1;32mc:\\Users\\arunps\\.conda\\envs\\torch\\lib\\site-packages\\xgboost\\core.py:726\u001b[0m, in \u001b[0;36mrequire_keyword_args.<locals>.throw_if.<locals>.inner_f\u001b[1;34m(*args, **kwargs)\u001b[0m\n\u001b[0;32m    724\u001b[0m \u001b[38;5;28;01mfor\u001b[39;00m k, arg \u001b[38;5;129;01min\u001b[39;00m \u001b[38;5;28mzip\u001b[39m(sig\u001b[38;5;241m.\u001b[39mparameters, args):\n\u001b[0;32m    725\u001b[0m     kwargs[k] \u001b[38;5;241m=\u001b[39m arg\n\u001b[1;32m--> 726\u001b[0m \u001b[38;5;28;01mreturn\u001b[39;00m func(\u001b[38;5;241m*\u001b[39m\u001b[38;5;241m*\u001b[39mkwargs)\n",
      "File \u001b[1;32mc:\\Users\\arunps\\.conda\\envs\\torch\\lib\\site-packages\\xgboost\\sklearn.py:1531\u001b[0m, in \u001b[0;36mXGBClassifier.fit\u001b[1;34m(self, X, y, sample_weight, base_margin, eval_set, verbose, xgb_model, sample_weight_eval_set, base_margin_eval_set, feature_weights)\u001b[0m\n\u001b[0;32m   1511\u001b[0m model, metric, params \u001b[38;5;241m=\u001b[39m \u001b[38;5;28mself\u001b[39m\u001b[38;5;241m.\u001b[39m_configure_fit(xgb_model, params)\n\u001b[0;32m   1512\u001b[0m train_dmatrix, evals \u001b[38;5;241m=\u001b[39m _wrap_evaluation_matrices(\n\u001b[0;32m   1513\u001b[0m     missing\u001b[38;5;241m=\u001b[39m\u001b[38;5;28mself\u001b[39m\u001b[38;5;241m.\u001b[39mmissing,\n\u001b[0;32m   1514\u001b[0m     X\u001b[38;5;241m=\u001b[39mX,\n\u001b[1;32m   (...)\u001b[0m\n\u001b[0;32m   1528\u001b[0m     feature_types\u001b[38;5;241m=\u001b[39m\u001b[38;5;28mself\u001b[39m\u001b[38;5;241m.\u001b[39mfeature_types,\n\u001b[0;32m   1529\u001b[0m )\n\u001b[1;32m-> 1531\u001b[0m \u001b[38;5;28mself\u001b[39m\u001b[38;5;241m.\u001b[39m_Booster \u001b[38;5;241m=\u001b[39m \u001b[43mtrain\u001b[49m\u001b[43m(\u001b[49m\n\u001b[0;32m   1532\u001b[0m \u001b[43m    \u001b[49m\u001b[43mparams\u001b[49m\u001b[43m,\u001b[49m\n\u001b[0;32m   1533\u001b[0m \u001b[43m    \u001b[49m\u001b[43mtrain_dmatrix\u001b[49m\u001b[43m,\u001b[49m\n\u001b[0;32m   1534\u001b[0m \u001b[43m    \u001b[49m\u001b[38;5;28;43mself\u001b[39;49m\u001b[38;5;241;43m.\u001b[39;49m\u001b[43mget_num_boosting_rounds\u001b[49m\u001b[43m(\u001b[49m\u001b[43m)\u001b[49m\u001b[43m,\u001b[49m\n\u001b[0;32m   1535\u001b[0m \u001b[43m    \u001b[49m\u001b[43mevals\u001b[49m\u001b[38;5;241;43m=\u001b[39;49m\u001b[43mevals\u001b[49m\u001b[43m,\u001b[49m\n\u001b[0;32m   1536\u001b[0m \u001b[43m    \u001b[49m\u001b[43mearly_stopping_rounds\u001b[49m\u001b[38;5;241;43m=\u001b[39;49m\u001b[38;5;28;43mself\u001b[39;49m\u001b[38;5;241;43m.\u001b[39;49m\u001b[43mearly_stopping_rounds\u001b[49m\u001b[43m,\u001b[49m\n\u001b[0;32m   1537\u001b[0m \u001b[43m    \u001b[49m\u001b[43mevals_result\u001b[49m\u001b[38;5;241;43m=\u001b[39;49m\u001b[43mevals_result\u001b[49m\u001b[43m,\u001b[49m\n\u001b[0;32m   1538\u001b[0m \u001b[43m    \u001b[49m\u001b[43mobj\u001b[49m\u001b[38;5;241;43m=\u001b[39;49m\u001b[43mobj\u001b[49m\u001b[43m,\u001b[49m\n\u001b[0;32m   1539\u001b[0m \u001b[43m    \u001b[49m\u001b[43mcustom_metric\u001b[49m\u001b[38;5;241;43m=\u001b[39;49m\u001b[43mmetric\u001b[49m\u001b[43m,\u001b[49m\n\u001b[0;32m   1540\u001b[0m \u001b[43m    \u001b[49m\u001b[43mverbose_eval\u001b[49m\u001b[38;5;241;43m=\u001b[39;49m\u001b[43mverbose\u001b[49m\u001b[43m,\u001b[49m\n\u001b[0;32m   1541\u001b[0m \u001b[43m    \u001b[49m\u001b[43mxgb_model\u001b[49m\u001b[38;5;241;43m=\u001b[39;49m\u001b[43mmodel\u001b[49m\u001b[43m,\u001b[49m\n\u001b[0;32m   1542\u001b[0m \u001b[43m    \u001b[49m\u001b[43mcallbacks\u001b[49m\u001b[38;5;241;43m=\u001b[39;49m\u001b[38;5;28;43mself\u001b[39;49m\u001b[38;5;241;43m.\u001b[39;49m\u001b[43mcallbacks\u001b[49m\u001b[43m,\u001b[49m\n\u001b[0;32m   1543\u001b[0m \u001b[43m\u001b[49m\u001b[43m)\u001b[49m\n\u001b[0;32m   1545\u001b[0m \u001b[38;5;28;01mif\u001b[39;00m \u001b[38;5;129;01mnot\u001b[39;00m callable(\u001b[38;5;28mself\u001b[39m\u001b[38;5;241m.\u001b[39mobjective):\n\u001b[0;32m   1546\u001b[0m     \u001b[38;5;28mself\u001b[39m\u001b[38;5;241m.\u001b[39mobjective \u001b[38;5;241m=\u001b[39m params[\u001b[38;5;124m\"\u001b[39m\u001b[38;5;124mobjective\u001b[39m\u001b[38;5;124m\"\u001b[39m]\n",
      "File \u001b[1;32mc:\\Users\\arunps\\.conda\\envs\\torch\\lib\\site-packages\\xgboost\\core.py:726\u001b[0m, in \u001b[0;36mrequire_keyword_args.<locals>.throw_if.<locals>.inner_f\u001b[1;34m(*args, **kwargs)\u001b[0m\n\u001b[0;32m    724\u001b[0m \u001b[38;5;28;01mfor\u001b[39;00m k, arg \u001b[38;5;129;01min\u001b[39;00m \u001b[38;5;28mzip\u001b[39m(sig\u001b[38;5;241m.\u001b[39mparameters, args):\n\u001b[0;32m    725\u001b[0m     kwargs[k] \u001b[38;5;241m=\u001b[39m arg\n\u001b[1;32m--> 726\u001b[0m \u001b[38;5;28;01mreturn\u001b[39;00m func(\u001b[38;5;241m*\u001b[39m\u001b[38;5;241m*\u001b[39mkwargs)\n",
      "File \u001b[1;32mc:\\Users\\arunps\\.conda\\envs\\torch\\lib\\site-packages\\xgboost\\training.py:181\u001b[0m, in \u001b[0;36mtrain\u001b[1;34m(params, dtrain, num_boost_round, evals, obj, feval, maximize, early_stopping_rounds, evals_result, verbose_eval, xgb_model, callbacks, custom_metric)\u001b[0m\n\u001b[0;32m    179\u001b[0m \u001b[38;5;28;01mif\u001b[39;00m cb_container\u001b[38;5;241m.\u001b[39mbefore_iteration(bst, i, dtrain, evals):\n\u001b[0;32m    180\u001b[0m     \u001b[38;5;28;01mbreak\u001b[39;00m\n\u001b[1;32m--> 181\u001b[0m \u001b[43mbst\u001b[49m\u001b[38;5;241;43m.\u001b[39;49m\u001b[43mupdate\u001b[49m\u001b[43m(\u001b[49m\u001b[43mdtrain\u001b[49m\u001b[43m,\u001b[49m\u001b[43m \u001b[49m\u001b[43miteration\u001b[49m\u001b[38;5;241;43m=\u001b[39;49m\u001b[43mi\u001b[49m\u001b[43m,\u001b[49m\u001b[43m \u001b[49m\u001b[43mfobj\u001b[49m\u001b[38;5;241;43m=\u001b[39;49m\u001b[43mobj\u001b[49m\u001b[43m)\u001b[49m\n\u001b[0;32m    182\u001b[0m \u001b[38;5;28;01mif\u001b[39;00m cb_container\u001b[38;5;241m.\u001b[39mafter_iteration(bst, i, dtrain, evals):\n\u001b[0;32m    183\u001b[0m     \u001b[38;5;28;01mbreak\u001b[39;00m\n",
      "File \u001b[1;32mc:\\Users\\arunps\\.conda\\envs\\torch\\lib\\site-packages\\xgboost\\core.py:2101\u001b[0m, in \u001b[0;36mBooster.update\u001b[1;34m(self, dtrain, iteration, fobj)\u001b[0m\n\u001b[0;32m   2097\u001b[0m \u001b[38;5;28mself\u001b[39m\u001b[38;5;241m.\u001b[39m_assign_dmatrix_features(dtrain)\n\u001b[0;32m   2099\u001b[0m \u001b[38;5;28;01mif\u001b[39;00m fobj \u001b[38;5;129;01mis\u001b[39;00m \u001b[38;5;28;01mNone\u001b[39;00m:\n\u001b[0;32m   2100\u001b[0m     _check_call(\n\u001b[1;32m-> 2101\u001b[0m         \u001b[43m_LIB\u001b[49m\u001b[38;5;241;43m.\u001b[39;49m\u001b[43mXGBoosterUpdateOneIter\u001b[49m\u001b[43m(\u001b[49m\n\u001b[0;32m   2102\u001b[0m \u001b[43m            \u001b[49m\u001b[38;5;28;43mself\u001b[39;49m\u001b[38;5;241;43m.\u001b[39;49m\u001b[43mhandle\u001b[49m\u001b[43m,\u001b[49m\u001b[43m \u001b[49m\u001b[43mctypes\u001b[49m\u001b[38;5;241;43m.\u001b[39;49m\u001b[43mc_int\u001b[49m\u001b[43m(\u001b[49m\u001b[43miteration\u001b[49m\u001b[43m)\u001b[49m\u001b[43m,\u001b[49m\u001b[43m \u001b[49m\u001b[43mdtrain\u001b[49m\u001b[38;5;241;43m.\u001b[39;49m\u001b[43mhandle\u001b[49m\n\u001b[0;32m   2103\u001b[0m \u001b[43m        \u001b[49m\u001b[43m)\u001b[49m\n\u001b[0;32m   2104\u001b[0m     )\n\u001b[0;32m   2105\u001b[0m \u001b[38;5;28;01melse\u001b[39;00m:\n\u001b[0;32m   2106\u001b[0m     pred \u001b[38;5;241m=\u001b[39m \u001b[38;5;28mself\u001b[39m\u001b[38;5;241m.\u001b[39mpredict(dtrain, output_margin\u001b[38;5;241m=\u001b[39m\u001b[38;5;28;01mTrue\u001b[39;00m, training\u001b[38;5;241m=\u001b[39m\u001b[38;5;28;01mTrue\u001b[39;00m)\n",
      "\u001b[1;31mKeyboardInterrupt\u001b[0m: "
     ]
    }
   ],
   "source": [
    "for file in os.listdir(out_dir_ML):\n",
    "    print(file)\n",
    "    train_csv_file_path = os.path.join(out_dir_ML, file)\n",
    "    file_split = file.split('.csv')[0].split('_')\n",
    "    if file.split('.csv')[0].split('_')[1] == 'da':\n",
    "        test_file_name = file_split[0] + '_' + file_split[1] + '_' + 'ADS' + '_' + file_split[3] + '_' + file_split[4] + '.csv'\n",
    "    if file.split('.csv')[0].split('_')[1] == 'no':\n",
    "        test_file_name = file_split[0] + '_' + file_split[1] + '_' + 'ADS' + '_' + file_split[3] + '_' + file_split[4] + '_' + file_split[5] + '.csv'\n",
    "    print(test_file_name)\n",
    "    test_csv_file_path = os.path.join(out_dir_ML, test_file_name)\n",
    "    if file.split('.csv')[0].split('_')[0] == 'formant':\n",
    "        feature_column_names = ['F1', 'F2', 'dF1', 'dF2', 'ddF1', 'ddF2']\n",
    "    if file.split('.csv')[0].split('_')[0] == 'mfcc':\n",
    "        feature_column_names = [f'mfcc{i+1}' for i in range(13)] + [f'dmfcc{i+1}' for i in range(13)]\n",
    "    df = xgboost_load_data_compute_f1score_for_speaker_age(train_csv_file_path, test_csv_file_path, feature_column_names, 'IPA')\n",
    "    df['Register'] = file.split('.csv')[0].split('_')[2]\n",
    "    df['Language'] = file.split('.csv')[0].split('_')[1]\n",
    "    df.to_excel(os.path.join(out_dir_path, file.split('.csv')[0] + '.xlsx'), index=False)"
   ]
  },
  {
   "cell_type": "markdown",
   "metadata": {},
   "source": [
    "CNN model"
   ]
  },
  {
   "cell_type": "code",
   "execution_count": 5,
   "metadata": {},
   "outputs": [],
   "source": [
    "out_dir_path = CNN_"
   ]
  },
  {
   "cell_type": "code",
   "execution_count": 7,
   "metadata": {},
   "outputs": [
    {
     "name": "stdout",
     "output_type": "stream",
     "text": [
      "mfcc_no_ADS_6_bordervowels_F.csv\n",
      "mfcc_no_ADS_6_bordervowels_M.csv\n",
      "mfcc_no_IDS_6_bordervowels_F.csv\n",
      "mfcc_no_ADS_6_bordervowels_F.csv\n"
     ]
    },
    {
     "name": "stderr",
     "output_type": "stream",
     "text": [
      "                                                             \r"
     ]
    },
    {
     "name": "stdout",
     "output_type": "stream",
     "text": [
      "Best trial for speaker FIDS101, age 9: {'batch_size': 32, 'learning_rate': 0.003512704726270845, 'num_epochs': 22, 'conv1_out_channels': 32, 'conv2_out_channels': 64, 'fc_hidden_units': 128}\n",
      "Best F1 score for speaker FIDS101, age 9: 0.5974\n"
     ]
    },
    {
     "name": "stderr",
     "output_type": "stream",
     "text": [
      "                                                             \r"
     ]
    },
    {
     "name": "stdout",
     "output_type": "stream",
     "text": [
      "Best trial for speaker FIDS101, age 18: {'batch_size': 32, 'learning_rate': 0.0005211796039657785, 'num_epochs': 17, 'conv1_out_channels': 64, 'conv2_out_channels': 64, 'fc_hidden_units': 256}\n",
      "Best F1 score for speaker FIDS101, age 18: 0.5423\n"
     ]
    },
    {
     "name": "stderr",
     "output_type": "stream",
     "text": [
      "                                                             \r"
     ]
    },
    {
     "name": "stdout",
     "output_type": "stream",
     "text": [
      "Best trial for speaker FIDS102, age 12: {'batch_size': 16, 'learning_rate': 3.2722003050009365e-05, 'num_epochs': 35, 'conv1_out_channels': 64, 'conv2_out_channels': 32, 'fc_hidden_units': 128}\n",
      "Best F1 score for speaker FIDS102, age 12: 0.6142\n"
     ]
    },
    {
     "name": "stderr",
     "output_type": "stream",
     "text": [
      "                                                             \r"
     ]
    },
    {
     "name": "stdout",
     "output_type": "stream",
     "text": [
      "Best trial for speaker FIDS103, age 15: {'batch_size': 32, 'learning_rate': 0.0002001342062287998, 'num_epochs': 25, 'conv1_out_channels': 32, 'conv2_out_channels': 64, 'fc_hidden_units': 256}\n",
      "Best F1 score for speaker FIDS103, age 15: 0.6602\n"
     ]
    },
    {
     "name": "stderr",
     "output_type": "stream",
     "text": [
      "                                                             \r"
     ]
    },
    {
     "name": "stdout",
     "output_type": "stream",
     "text": [
      "Best trial for speaker FIDS104, age 9: {'batch_size': 32, 'learning_rate': 0.0002001342062287998, 'num_epochs': 25, 'conv1_out_channels': 32, 'conv2_out_channels': 64, 'fc_hidden_units': 256}\n",
      "Best F1 score for speaker FIDS104, age 9: 0.6310\n"
     ]
    },
    {
     "name": "stderr",
     "output_type": "stream",
     "text": [
      "                                                             \r"
     ]
    },
    {
     "name": "stdout",
     "output_type": "stream",
     "text": [
      "Best trial for speaker FIDS104, age 12: {'batch_size': 32, 'learning_rate': 0.00017477167217918788, 'num_epochs': 34, 'conv1_out_channels': 64, 'conv2_out_channels': 32, 'fc_hidden_units': 256}\n",
      "Best F1 score for speaker FIDS104, age 12: 0.5207\n"
     ]
    },
    {
     "name": "stderr",
     "output_type": "stream",
     "text": [
      "                                                             \r"
     ]
    },
    {
     "name": "stdout",
     "output_type": "stream",
     "text": [
      "Best trial for speaker FIDS104, age 15: {'batch_size': 64, 'learning_rate': 2.4593427187380206e-05, 'num_epochs': 18, 'conv1_out_channels': 32, 'conv2_out_channels': 128, 'fc_hidden_units': 256}\n",
      "Best F1 score for speaker FIDS104, age 15: 0.5334\n"
     ]
    },
    {
     "name": "stderr",
     "output_type": "stream",
     "text": [
      "                                                             \r"
     ]
    },
    {
     "name": "stdout",
     "output_type": "stream",
     "text": [
      "Best trial for speaker FIDS105, age 9: {'batch_size': 32, 'learning_rate': 0.000586477422603555, 'num_epochs': 23, 'conv1_out_channels': 32, 'conv2_out_channels': 64, 'fc_hidden_units': 256}\n",
      "Best F1 score for speaker FIDS105, age 9: 0.7035\n"
     ]
    },
    {
     "name": "stderr",
     "output_type": "stream",
     "text": [
      "                                                             \r"
     ]
    },
    {
     "name": "stdout",
     "output_type": "stream",
     "text": [
      "Best trial for speaker FIDS105, age 12: {'batch_size': 32, 'learning_rate': 0.0010320852087630737, 'num_epochs': 34, 'conv1_out_channels': 64, 'conv2_out_channels': 32, 'fc_hidden_units': 128}\n",
      "Best F1 score for speaker FIDS105, age 12: 0.7310\n"
     ]
    },
    {
     "name": "stderr",
     "output_type": "stream",
     "text": [
      "                                                             \r"
     ]
    },
    {
     "name": "stdout",
     "output_type": "stream",
     "text": [
      "Best trial for speaker FIDS105, age 18: {'batch_size': 32, 'learning_rate': 0.0002001342062287998, 'num_epochs': 25, 'conv1_out_channels': 32, 'conv2_out_channels': 64, 'fc_hidden_units': 256}\n",
      "Best F1 score for speaker FIDS105, age 18: 0.7305\n"
     ]
    },
    {
     "name": "stderr",
     "output_type": "stream",
     "text": [
      "                                                             \r"
     ]
    },
    {
     "name": "stdout",
     "output_type": "stream",
     "text": [
      "Best trial for speaker FIDS106, age 9: {'batch_size': 32, 'learning_rate': 0.0011040511903162248, 'num_epochs': 27, 'conv1_out_channels': 64, 'conv2_out_channels': 32, 'fc_hidden_units': 256}\n",
      "Best F1 score for speaker FIDS106, age 9: 0.7478\n"
     ]
    },
    {
     "name": "stderr",
     "output_type": "stream",
     "text": [
      "                                                             \r"
     ]
    },
    {
     "name": "stdout",
     "output_type": "stream",
     "text": [
      "Best trial for speaker FIDS106, age 12: {'batch_size': 32, 'learning_rate': 0.0002001342062287998, 'num_epochs': 25, 'conv1_out_channels': 32, 'conv2_out_channels': 64, 'fc_hidden_units': 256}\n",
      "Best F1 score for speaker FIDS106, age 12: 0.7268\n"
     ]
    },
    {
     "name": "stderr",
     "output_type": "stream",
     "text": [
      "                                                             \r"
     ]
    },
    {
     "name": "stdout",
     "output_type": "stream",
     "text": [
      "Best trial for speaker FIDS107, age 12: {'batch_size': 64, 'learning_rate': 0.003550012525851159, 'num_epochs': 46, 'conv1_out_channels': 64, 'conv2_out_channels': 128, 'fc_hidden_units': 128}\n",
      "Best F1 score for speaker FIDS107, age 12: 0.7169\n"
     ]
    },
    {
     "name": "stderr",
     "output_type": "stream",
     "text": [
      "                                                             \r"
     ]
    },
    {
     "name": "stdout",
     "output_type": "stream",
     "text": [
      "Best trial for speaker FIDS108, age 12: {'batch_size': 32, 'learning_rate': 0.0002001888993887211, 'num_epochs': 33, 'conv1_out_channels': 64, 'conv2_out_channels': 32, 'fc_hidden_units': 256}\n",
      "Best F1 score for speaker FIDS108, age 12: 0.6974\n"
     ]
    },
    {
     "name": "stderr",
     "output_type": "stream",
     "text": [
      "                                                             \r"
     ]
    },
    {
     "name": "stdout",
     "output_type": "stream",
     "text": [
      "Best trial for speaker FIDS108, age 18: {'batch_size': 32, 'learning_rate': 0.003512704726270845, 'num_epochs': 22, 'conv1_out_channels': 32, 'conv2_out_channels': 64, 'fc_hidden_units': 128}\n",
      "Best F1 score for speaker FIDS108, age 18: 0.6682\n"
     ]
    },
    {
     "name": "stderr",
     "output_type": "stream",
     "text": [
      "                                                             \r"
     ]
    },
    {
     "name": "stdout",
     "output_type": "stream",
     "text": [
      "Best trial for speaker FIDS109, age 9: {'batch_size': 64, 'learning_rate': 7.202554321357208e-05, 'num_epochs': 33, 'conv1_out_channels': 16, 'conv2_out_channels': 128, 'fc_hidden_units': 256}\n",
      "Best F1 score for speaker FIDS109, age 9: 0.6824\n"
     ]
    },
    {
     "name": "stderr",
     "output_type": "stream",
     "text": [
      "                                                             \r"
     ]
    },
    {
     "name": "stdout",
     "output_type": "stream",
     "text": [
      "Best trial for speaker FIDS109, age 18: {'batch_size': 64, 'learning_rate': 0.0004330924996427894, 'num_epochs': 16, 'conv1_out_channels': 16, 'conv2_out_channels': 128, 'fc_hidden_units': 128}\n",
      "Best F1 score for speaker FIDS109, age 18: 0.6924\n"
     ]
    },
    {
     "name": "stderr",
     "output_type": "stream",
     "text": [
      "                                                             \r"
     ]
    },
    {
     "name": "stdout",
     "output_type": "stream",
     "text": [
      "Best trial for speaker FIDS110, age 9: {'batch_size': 32, 'learning_rate': 0.0005211796039657785, 'num_epochs': 17, 'conv1_out_channels': 64, 'conv2_out_channels': 64, 'fc_hidden_units': 256}\n",
      "Best F1 score for speaker FIDS110, age 9: 0.7598\n"
     ]
    },
    {
     "name": "stderr",
     "output_type": "stream",
     "text": [
      "                                                             \r"
     ]
    },
    {
     "name": "stdout",
     "output_type": "stream",
     "text": [
      "Best trial for speaker FIDS110, age 15: {'batch_size': 16, 'learning_rate': 0.000844823724060881, 'num_epochs': 26, 'conv1_out_channels': 16, 'conv2_out_channels': 64, 'fc_hidden_units': 256}\n",
      "Best F1 score for speaker FIDS110, age 15: 0.7302\n"
     ]
    },
    {
     "name": "stderr",
     "output_type": "stream",
     "text": [
      "                                                             \r"
     ]
    },
    {
     "name": "stdout",
     "output_type": "stream",
     "text": [
      "Best trial for speaker FIDS111, age 9: {'batch_size': 64, 'learning_rate': 0.00048257563689878497, 'num_epochs': 46, 'conv1_out_channels': 64, 'conv2_out_channels': 128, 'fc_hidden_units': 128}\n",
      "Best F1 score for speaker FIDS111, age 9: 0.4956\n"
     ]
    },
    {
     "name": "stderr",
     "output_type": "stream",
     "text": [
      "                                                             \r"
     ]
    },
    {
     "name": "stdout",
     "output_type": "stream",
     "text": [
      "Best trial for speaker FIDS111, age 12: {'batch_size': 64, 'learning_rate': 0.003550012525851159, 'num_epochs': 46, 'conv1_out_channels': 64, 'conv2_out_channels': 128, 'fc_hidden_units': 128}\n",
      "Best F1 score for speaker FIDS111, age 12: 0.4937\n"
     ]
    },
    {
     "name": "stderr",
     "output_type": "stream",
     "text": [
      "                                                             \r"
     ]
    },
    {
     "name": "stdout",
     "output_type": "stream",
     "text": [
      "Best trial for speaker FIDS111, age 15: {'batch_size': 64, 'learning_rate': 7.154029757369059e-05, 'num_epochs': 43, 'conv1_out_channels': 64, 'conv2_out_channels': 128, 'fc_hidden_units': 128}\n",
      "Best F1 score for speaker FIDS111, age 15: 0.4869\n"
     ]
    },
    {
     "name": "stderr",
     "output_type": "stream",
     "text": [
      "                                                             \r"
     ]
    },
    {
     "name": "stdout",
     "output_type": "stream",
     "text": [
      "Best trial for speaker FIDS112, age 15: {'batch_size': 16, 'learning_rate': 0.0004782536273900284, 'num_epochs': 15, 'conv1_out_channels': 16, 'conv2_out_channels': 64, 'fc_hidden_units': 128}\n",
      "Best F1 score for speaker FIDS112, age 15: 0.6342\n"
     ]
    },
    {
     "name": "stderr",
     "output_type": "stream",
     "text": [
      "                                                             \r"
     ]
    },
    {
     "name": "stdout",
     "output_type": "stream",
     "text": [
      "Best trial for speaker FIDS116, age 12: {'batch_size': 16, 'learning_rate': 7.290743118177655e-05, 'num_epochs': 32, 'conv1_out_channels': 16, 'conv2_out_channels': 32, 'fc_hidden_units': 128}\n",
      "Best F1 score for speaker FIDS116, age 12: 0.7145\n"
     ]
    },
    {
     "name": "stderr",
     "output_type": "stream",
     "text": [
      "                                                             \r"
     ]
    },
    {
     "name": "stdout",
     "output_type": "stream",
     "text": [
      "Best trial for speaker FIDS116, age 15: {'batch_size': 32, 'learning_rate': 0.00010572342944517371, 'num_epochs': 37, 'conv1_out_channels': 16, 'conv2_out_channels': 64, 'fc_hidden_units': 256}\n",
      "Best F1 score for speaker FIDS116, age 15: 0.7299\n"
     ]
    },
    {
     "name": "stderr",
     "output_type": "stream",
     "text": [
      "                                                             \r"
     ]
    },
    {
     "name": "stdout",
     "output_type": "stream",
     "text": [
      "Best trial for speaker FIDS117, age 9: {'batch_size': 64, 'learning_rate': 0.003550012525851159, 'num_epochs': 46, 'conv1_out_channels': 64, 'conv2_out_channels': 128, 'fc_hidden_units': 128}\n",
      "Best F1 score for speaker FIDS117, age 9: 0.5712\n"
     ]
    },
    {
     "name": "stderr",
     "output_type": "stream",
     "text": [
      "                                                             \r"
     ]
    },
    {
     "name": "stdout",
     "output_type": "stream",
     "text": [
      "Best trial for speaker FIDS118, age 12: {'batch_size': 64, 'learning_rate': 4.809461967501571e-05, 'num_epochs': 12, 'conv1_out_channels': 32, 'conv2_out_channels': 128, 'fc_hidden_units': 256}\n",
      "Best F1 score for speaker FIDS118, age 12: 0.6724\n"
     ]
    },
    {
     "name": "stderr",
     "output_type": "stream",
     "text": [
      "                                                             \r"
     ]
    },
    {
     "name": "stdout",
     "output_type": "stream",
     "text": [
      "Best trial for speaker FIDS118, age 15: {'batch_size': 32, 'learning_rate': 0.0002001342062287998, 'num_epochs': 25, 'conv1_out_channels': 32, 'conv2_out_channels': 64, 'fc_hidden_units': 256}\n",
      "Best F1 score for speaker FIDS118, age 15: 0.6483\n"
     ]
    },
    {
     "name": "stderr",
     "output_type": "stream",
     "text": [
      "                                                             \r"
     ]
    },
    {
     "name": "stdout",
     "output_type": "stream",
     "text": [
      "Best trial for speaker FIDS120, age 9: {'batch_size': 32, 'learning_rate': 0.0006225757888845665, 'num_epochs': 45, 'conv1_out_channels': 64, 'conv2_out_channels': 64, 'fc_hidden_units': 128}\n",
      "Best F1 score for speaker FIDS120, age 9: 0.7026\n"
     ]
    },
    {
     "name": "stderr",
     "output_type": "stream",
     "text": [
      "                                                             \r"
     ]
    },
    {
     "name": "stdout",
     "output_type": "stream",
     "text": [
      "Best trial for speaker FIDS120, age 12: {'batch_size': 32, 'learning_rate': 0.0011040511903162248, 'num_epochs': 27, 'conv1_out_channels': 64, 'conv2_out_channels': 32, 'fc_hidden_units': 256}\n",
      "Best F1 score for speaker FIDS120, age 12: 0.7313\n"
     ]
    },
    {
     "name": "stderr",
     "output_type": "stream",
     "text": [
      "                                                             \r"
     ]
    },
    {
     "name": "stdout",
     "output_type": "stream",
     "text": [
      "Best trial for speaker FIDS120, age 18: {'batch_size': 32, 'learning_rate': 0.0002001342062287998, 'num_epochs': 25, 'conv1_out_channels': 32, 'conv2_out_channels': 64, 'fc_hidden_units': 256}\n",
      "Best F1 score for speaker FIDS120, age 18: 0.7466\n"
     ]
    },
    {
     "name": "stderr",
     "output_type": "stream",
     "text": [
      "                                                             \r"
     ]
    },
    {
     "name": "stdout",
     "output_type": "stream",
     "text": [
      "Best trial for speaker FIDS121, age 9: {'batch_size': 64, 'learning_rate': 0.0018700658219883582, 'num_epochs': 24, 'conv1_out_channels': 32, 'conv2_out_channels': 128, 'fc_hidden_units': 128}\n",
      "Best F1 score for speaker FIDS121, age 9: 0.7305\n"
     ]
    },
    {
     "name": "stderr",
     "output_type": "stream",
     "text": [
      "                                                             \r"
     ]
    },
    {
     "name": "stdout",
     "output_type": "stream",
     "text": [
      "Best trial for speaker FIDS121, age 12: {'batch_size': 32, 'learning_rate': 0.0002001342062287998, 'num_epochs': 25, 'conv1_out_channels': 32, 'conv2_out_channels': 64, 'fc_hidden_units': 256}\n",
      "Best F1 score for speaker FIDS121, age 12: 0.7084\n"
     ]
    },
    {
     "name": "stderr",
     "output_type": "stream",
     "text": [
      "                                                             \r"
     ]
    },
    {
     "name": "stdout",
     "output_type": "stream",
     "text": [
      "Best trial for speaker FIDS121, age 15: {'batch_size': 32, 'learning_rate': 9.928065791191443e-05, 'num_epochs': 50, 'conv1_out_channels': 16, 'conv2_out_channels': 64, 'fc_hidden_units': 256}\n",
      "Best F1 score for speaker FIDS121, age 15: 0.6501\n"
     ]
    },
    {
     "name": "stderr",
     "output_type": "stream",
     "text": [
      "                                                             \r"
     ]
    },
    {
     "name": "stdout",
     "output_type": "stream",
     "text": [
      "Best trial for speaker FIDS123, age 9: {'batch_size': 32, 'learning_rate': 0.0011040511903162248, 'num_epochs': 27, 'conv1_out_channels': 64, 'conv2_out_channels': 32, 'fc_hidden_units': 256}\n",
      "Best F1 score for speaker FIDS123, age 9: 0.6241\n"
     ]
    },
    {
     "name": "stderr",
     "output_type": "stream",
     "text": [
      "                                                             \r"
     ]
    },
    {
     "name": "stdout",
     "output_type": "stream",
     "text": [
      "Best trial for speaker FIDS123, age 12: {'batch_size': 32, 'learning_rate': 0.00022842876881114713, 'num_epochs': 24, 'conv1_out_channels': 16, 'conv2_out_channels': 32, 'fc_hidden_units': 256}\n",
      "Best F1 score for speaker FIDS123, age 12: 0.7019\n"
     ]
    },
    {
     "name": "stderr",
     "output_type": "stream",
     "text": [
      "                                                             \r"
     ]
    },
    {
     "name": "stdout",
     "output_type": "stream",
     "text": [
      "Best trial for speaker FIDS123, age 18: {'batch_size': 16, 'learning_rate': 0.0004535777226618242, 'num_epochs': 30, 'conv1_out_channels': 64, 'conv2_out_channels': 32, 'fc_hidden_units': 128}\n",
      "Best F1 score for speaker FIDS123, age 18: 0.7017\n"
     ]
    },
    {
     "name": "stderr",
     "output_type": "stream",
     "text": [
      "                                                             \r"
     ]
    },
    {
     "name": "stdout",
     "output_type": "stream",
     "text": [
      "Best trial for speaker FIDS124, age 9: {'batch_size': 32, 'learning_rate': 0.0011040511903162248, 'num_epochs': 27, 'conv1_out_channels': 64, 'conv2_out_channels': 32, 'fc_hidden_units': 256}\n",
      "Best F1 score for speaker FIDS124, age 9: 0.6382\n"
     ]
    },
    {
     "name": "stderr",
     "output_type": "stream",
     "text": [
      "                                                             \r"
     ]
    },
    {
     "name": "stdout",
     "output_type": "stream",
     "text": [
      "Best trial for speaker FIDS126, age 9: {'batch_size': 32, 'learning_rate': 0.00010572342944517371, 'num_epochs': 37, 'conv1_out_channels': 16, 'conv2_out_channels': 64, 'fc_hidden_units': 256}\n",
      "Best F1 score for speaker FIDS126, age 9: 0.6783\n"
     ]
    },
    {
     "name": "stderr",
     "output_type": "stream",
     "text": [
      "                                                             \r"
     ]
    },
    {
     "name": "stdout",
     "output_type": "stream",
     "text": [
      "Best trial for speaker FIDS126, age 12: {'batch_size': 32, 'learning_rate': 0.0010320852087630737, 'num_epochs': 23, 'conv1_out_channels': 64, 'conv2_out_channels': 32, 'fc_hidden_units': 128}\n",
      "Best F1 score for speaker FIDS126, age 12: 0.7406\n"
     ]
    },
    {
     "name": "stderr",
     "output_type": "stream",
     "text": [
      "                                                             \r"
     ]
    },
    {
     "name": "stdout",
     "output_type": "stream",
     "text": [
      "Best trial for speaker FIDS126, age 15: {'batch_size': 16, 'learning_rate': 0.00029154363360918087, 'num_epochs': 43, 'conv1_out_channels': 64, 'conv2_out_channels': 32, 'fc_hidden_units': 128}\n",
      "Best F1 score for speaker FIDS126, age 15: 0.6314\n"
     ]
    },
    {
     "name": "stderr",
     "output_type": "stream",
     "text": [
      "                                                             \r"
     ]
    },
    {
     "name": "stdout",
     "output_type": "stream",
     "text": [
      "Best trial for speaker FIDS126, age 18: {'batch_size': 32, 'learning_rate': 0.0011040511903162248, 'num_epochs': 27, 'conv1_out_channels': 64, 'conv2_out_channels': 32, 'fc_hidden_units': 256}\n",
      "Best F1 score for speaker FIDS126, age 18: 0.6673\n"
     ]
    },
    {
     "name": "stderr",
     "output_type": "stream",
     "text": [
      "                                                             \r"
     ]
    },
    {
     "name": "stdout",
     "output_type": "stream",
     "text": [
      "Best trial for speaker FIDS127, age 9: {'batch_size': 64, 'learning_rate': 0.00046526291069022, 'num_epochs': 18, 'conv1_out_channels': 16, 'conv2_out_channels': 128, 'fc_hidden_units': 128}\n",
      "Best F1 score for speaker FIDS127, age 9: 0.7059\n"
     ]
    },
    {
     "name": "stderr",
     "output_type": "stream",
     "text": [
      "                                                             \r"
     ]
    },
    {
     "name": "stdout",
     "output_type": "stream",
     "text": [
      "Best trial for speaker FIDS127, age 12: {'batch_size': 32, 'learning_rate': 0.0002598514632265427, 'num_epochs': 32, 'conv1_out_channels': 32, 'conv2_out_channels': 32, 'fc_hidden_units': 256}\n",
      "Best F1 score for speaker FIDS127, age 12: 0.6561\n"
     ]
    },
    {
     "name": "stderr",
     "output_type": "stream",
     "text": [
      "                                                             \r"
     ]
    },
    {
     "name": "stdout",
     "output_type": "stream",
     "text": [
      "Best trial for speaker FIDS128, age 9: {'batch_size': 64, 'learning_rate': 9.68405992202089e-05, 'num_epochs': 44, 'conv1_out_channels': 16, 'conv2_out_channels': 128, 'fc_hidden_units': 128}\n",
      "Best F1 score for speaker FIDS128, age 9: 0.7580\n"
     ]
    },
    {
     "name": "stderr",
     "output_type": "stream",
     "text": [
      "                                                             \r"
     ]
    },
    {
     "name": "stdout",
     "output_type": "stream",
     "text": [
      "Best trial for speaker FIDS128, age 12: {'batch_size': 32, 'learning_rate': 0.0011040511903162248, 'num_epochs': 27, 'conv1_out_channels': 64, 'conv2_out_channels': 32, 'fc_hidden_units': 256}\n",
      "Best F1 score for speaker FIDS128, age 12: 0.7449\n"
     ]
    },
    {
     "name": "stderr",
     "output_type": "stream",
     "text": [
      "                                                             \r"
     ]
    },
    {
     "name": "stdout",
     "output_type": "stream",
     "text": [
      "Best trial for speaker FIDS130, age 9: {'batch_size': 32, 'learning_rate': 1.2155399065169881e-05, 'num_epochs': 27, 'conv1_out_channels': 32, 'conv2_out_channels': 64, 'fc_hidden_units': 256}\n",
      "Best F1 score for speaker FIDS130, age 9: 0.6179\n"
     ]
    },
    {
     "name": "stderr",
     "output_type": "stream",
     "text": [
      "                                                             \r"
     ]
    },
    {
     "name": "stdout",
     "output_type": "stream",
     "text": [
      "Best trial for speaker FIDS130, age 12: {'batch_size': 32, 'learning_rate': 0.0002001342062287998, 'num_epochs': 25, 'conv1_out_channels': 32, 'conv2_out_channels': 64, 'fc_hidden_units': 256}\n",
      "Best F1 score for speaker FIDS130, age 12: 0.6545\n"
     ]
    },
    {
     "name": "stderr",
     "output_type": "stream",
     "text": [
      "                                                             \r"
     ]
    },
    {
     "name": "stdout",
     "output_type": "stream",
     "text": [
      "Best trial for speaker FIDS132, age 9: {'batch_size': 64, 'learning_rate': 0.0002961019985044714, 'num_epochs': 31, 'conv1_out_channels': 32, 'conv2_out_channels': 32, 'fc_hidden_units': 256}\n",
      "Best F1 score for speaker FIDS132, age 9: 0.5518\n"
     ]
    },
    {
     "name": "stderr",
     "output_type": "stream",
     "text": [
      "                                                             \r"
     ]
    },
    {
     "name": "stdout",
     "output_type": "stream",
     "text": [
      "Best trial for speaker FIDS132, age 12: {'batch_size': 64, 'learning_rate': 0.000147554976748068, 'num_epochs': 16, 'conv1_out_channels': 32, 'conv2_out_channels': 64, 'fc_hidden_units': 128}\n",
      "Best F1 score for speaker FIDS132, age 12: 0.6740\n"
     ]
    },
    {
     "name": "stderr",
     "output_type": "stream",
     "text": [
      "                                                             \r"
     ]
    },
    {
     "name": "stdout",
     "output_type": "stream",
     "text": [
      "Best trial for speaker FIDS133, age 9: {'batch_size': 64, 'learning_rate': 0.0004656492842026573, 'num_epochs': 32, 'conv1_out_channels': 16, 'conv2_out_channels': 32, 'fc_hidden_units': 128}\n",
      "Best F1 score for speaker FIDS133, age 9: 0.6620\n"
     ]
    },
    {
     "name": "stderr",
     "output_type": "stream",
     "text": [
      "                                                             \r"
     ]
    },
    {
     "name": "stdout",
     "output_type": "stream",
     "text": [
      "Best trial for speaker FIDS133, age 12: {'batch_size': 64, 'learning_rate': 0.0003210715650814675, 'num_epochs': 37, 'conv1_out_channels': 16, 'conv2_out_channels': 128, 'fc_hidden_units': 128}\n",
      "Best F1 score for speaker FIDS133, age 12: 0.6699\n"
     ]
    },
    {
     "name": "stderr",
     "output_type": "stream",
     "text": [
      "                                                             \r"
     ]
    },
    {
     "name": "stdout",
     "output_type": "stream",
     "text": [
      "Best trial for speaker FIDS134, age 12: {'batch_size': 64, 'learning_rate': 0.003550012525851159, 'num_epochs': 46, 'conv1_out_channels': 64, 'conv2_out_channels': 128, 'fc_hidden_units': 128}\n",
      "Best F1 score for speaker FIDS134, age 12: 0.6605\n"
     ]
    },
    {
     "name": "stderr",
     "output_type": "stream",
     "text": [
      "                                                             \r"
     ]
    },
    {
     "name": "stdout",
     "output_type": "stream",
     "text": [
      "Best trial for speaker FIDS134, age 15: {'batch_size': 32, 'learning_rate': 0.00024261182717134653, 'num_epochs': 35, 'conv1_out_channels': 64, 'conv2_out_channels': 32, 'fc_hidden_units': 128}\n",
      "Best F1 score for speaker FIDS134, age 15: 0.7436\n"
     ]
    },
    {
     "name": "stderr",
     "output_type": "stream",
     "text": [
      "                                                             \r"
     ]
    },
    {
     "name": "stdout",
     "output_type": "stream",
     "text": [
      "Best trial for speaker FIDS134, age 18: {'batch_size': 16, 'learning_rate': 0.00040037169883331636, 'num_epochs': 27, 'conv1_out_channels': 16, 'conv2_out_channels': 64, 'fc_hidden_units': 256}\n",
      "Best F1 score for speaker FIDS134, age 18: 0.7581\n"
     ]
    },
    {
     "name": "stderr",
     "output_type": "stream",
     "text": [
      "                                                             \r"
     ]
    },
    {
     "name": "stdout",
     "output_type": "stream",
     "text": [
      "Best trial for speaker FIDS135, age 12: {'batch_size': 32, 'learning_rate': 0.00010572342944517371, 'num_epochs': 37, 'conv1_out_channels': 16, 'conv2_out_channels': 64, 'fc_hidden_units': 256}\n",
      "Best F1 score for speaker FIDS135, age 12: 0.6883\n"
     ]
    },
    {
     "name": "stderr",
     "output_type": "stream",
     "text": [
      "                                                             \r"
     ]
    },
    {
     "name": "stdout",
     "output_type": "stream",
     "text": [
      "Best trial for speaker FIDS136, age 12: {'batch_size': 32, 'learning_rate': 0.0007434240420985584, 'num_epochs': 28, 'conv1_out_channels': 64, 'conv2_out_channels': 32, 'fc_hidden_units': 128}\n",
      "Best F1 score for speaker FIDS136, age 12: 0.6948\n"
     ]
    },
    {
     "name": "stderr",
     "output_type": "stream",
     "text": [
      "                                                             \r"
     ]
    },
    {
     "name": "stdout",
     "output_type": "stream",
     "text": [
      "Best trial for speaker FIDS137, age 12: {'batch_size': 32, 'learning_rate': 0.00010572342944517371, 'num_epochs': 37, 'conv1_out_channels': 16, 'conv2_out_channels': 64, 'fc_hidden_units': 256}\n",
      "Best F1 score for speaker FIDS137, age 12: 0.6967\n"
     ]
    },
    {
     "name": "stderr",
     "output_type": "stream",
     "text": [
      "                                                             \r"
     ]
    },
    {
     "name": "stdout",
     "output_type": "stream",
     "text": [
      "Best trial for speaker FIDS138, age 12: {'batch_size': 32, 'learning_rate': 0.00043104558178621005, 'num_epochs': 29, 'conv1_out_channels': 64, 'conv2_out_channels': 32, 'fc_hidden_units': 256}\n",
      "Best F1 score for speaker FIDS138, age 12: 0.5990\n"
     ]
    },
    {
     "name": "stderr",
     "output_type": "stream",
     "text": [
      "                                                             \r"
     ]
    },
    {
     "name": "stdout",
     "output_type": "stream",
     "text": [
      "Best trial for speaker FIDS139, age 9: {'batch_size': 16, 'learning_rate': 9.101660306691331e-05, 'num_epochs': 34, 'conv1_out_channels': 16, 'conv2_out_channels': 32, 'fc_hidden_units': 256}\n",
      "Best F1 score for speaker FIDS139, age 9: 0.7351\n"
     ]
    },
    {
     "name": "stderr",
     "output_type": "stream",
     "text": [
      "                                                             \r"
     ]
    },
    {
     "name": "stdout",
     "output_type": "stream",
     "text": [
      "Best trial for speaker FIDS139, age 12: {'batch_size': 32, 'learning_rate': 0.0002614040240647553, 'num_epochs': 34, 'conv1_out_channels': 64, 'conv2_out_channels': 64, 'fc_hidden_units': 64}\n",
      "Best F1 score for speaker FIDS139, age 12: 0.7546\n"
     ]
    },
    {
     "name": "stderr",
     "output_type": "stream",
     "text": [
      "                                                             \r"
     ]
    },
    {
     "name": "stdout",
     "output_type": "stream",
     "text": [
      "Best trial for speaker FIDS139, age 15: {'batch_size': 64, 'learning_rate': 0.0002128162163085282, 'num_epochs': 39, 'conv1_out_channels': 64, 'conv2_out_channels': 32, 'fc_hidden_units': 128}\n",
      "Best F1 score for speaker FIDS139, age 15: 0.7059\n"
     ]
    },
    {
     "name": "stderr",
     "output_type": "stream",
     "text": [
      "                                                             \r"
     ]
    },
    {
     "name": "stdout",
     "output_type": "stream",
     "text": [
      "Best trial for speaker FIDS139, age 18: {'batch_size': 64, 'learning_rate': 4.809461967501571e-05, 'num_epochs': 12, 'conv1_out_channels': 32, 'conv2_out_channels': 128, 'fc_hidden_units': 256}\n",
      "Best F1 score for speaker FIDS139, age 18: 0.6653\n"
     ]
    },
    {
     "name": "stderr",
     "output_type": "stream",
     "text": [
      "                                                             \r"
     ]
    },
    {
     "name": "stdout",
     "output_type": "stream",
     "text": [
      "Best trial for speaker FIDS140, age 9: {'batch_size': 64, 'learning_rate': 0.0001162005469595888, 'num_epochs': 10, 'conv1_out_channels': 16, 'conv2_out_channels': 128, 'fc_hidden_units': 128}\n",
      "Best F1 score for speaker FIDS140, age 9: 0.6879\n"
     ]
    },
    {
     "name": "stderr",
     "output_type": "stream",
     "text": [
      "                                                             \r"
     ]
    },
    {
     "name": "stdout",
     "output_type": "stream",
     "text": [
      "Best trial for speaker FIDS140, age 12: {'batch_size': 32, 'learning_rate': 0.0024810409748678114, 'num_epochs': 16, 'conv1_out_channels': 64, 'conv2_out_channels': 64, 'fc_hidden_units': 64}\n",
      "Best F1 score for speaker FIDS140, age 12: 0.7480\n"
     ]
    },
    {
     "name": "stderr",
     "output_type": "stream",
     "text": [
      "                                                             \r"
     ]
    },
    {
     "name": "stdout",
     "output_type": "stream",
     "text": [
      "Best trial for speaker FIDS140, age 18: {'batch_size': 16, 'learning_rate': 0.0005774178031092002, 'num_epochs': 20, 'conv1_out_channels': 16, 'conv2_out_channels': 128, 'fc_hidden_units': 128}\n",
      "Best F1 score for speaker FIDS140, age 18: 0.7570\n"
     ]
    },
    {
     "name": "stderr",
     "output_type": "stream",
     "text": [
      "                                                             \r"
     ]
    },
    {
     "name": "stdout",
     "output_type": "stream",
     "text": [
      "Best trial for speaker FIDS142, age 9: {'batch_size': 32, 'learning_rate': 0.0002001342062287998, 'num_epochs': 25, 'conv1_out_channels': 32, 'conv2_out_channels': 64, 'fc_hidden_units': 256}\n",
      "Best F1 score for speaker FIDS142, age 9: 0.5998\n"
     ]
    },
    {
     "name": "stderr",
     "output_type": "stream",
     "text": [
      "                                                             \r"
     ]
    },
    {
     "name": "stdout",
     "output_type": "stream",
     "text": [
      "Best trial for speaker FIDS143, age 12: {'batch_size': 32, 'learning_rate': 0.003512704726270845, 'num_epochs': 22, 'conv1_out_channels': 32, 'conv2_out_channels': 64, 'fc_hidden_units': 128}\n",
      "Best F1 score for speaker FIDS143, age 12: 0.5438\n"
     ]
    },
    {
     "name": "stderr",
     "output_type": "stream",
     "text": [
      "                                                             \r"
     ]
    },
    {
     "name": "stdout",
     "output_type": "stream",
     "text": [
      "Best trial for speaker FIDS143, age 15: {'batch_size': 32, 'learning_rate': 0.0002001342062287998, 'num_epochs': 25, 'conv1_out_channels': 32, 'conv2_out_channels': 64, 'fc_hidden_units': 256}\n",
      "Best F1 score for speaker FIDS143, age 15: 0.6084\n"
     ]
    },
    {
     "name": "stderr",
     "output_type": "stream",
     "text": [
      "                                                             \r"
     ]
    },
    {
     "name": "stdout",
     "output_type": "stream",
     "text": [
      "Best trial for speaker FIDS143, age 18: {'batch_size': 16, 'learning_rate': 7.142738195053604e-05, 'num_epochs': 36, 'conv1_out_channels': 64, 'conv2_out_channels': 64, 'fc_hidden_units': 128}\n",
      "Best F1 score for speaker FIDS143, age 18: 0.5825\n"
     ]
    },
    {
     "name": "stderr",
     "output_type": "stream",
     "text": [
      "                                                             \r"
     ]
    },
    {
     "name": "stdout",
     "output_type": "stream",
     "text": [
      "Best trial for speaker FIDS144, age 9: {'batch_size': 32, 'learning_rate': 0.0011040511903162248, 'num_epochs': 27, 'conv1_out_channels': 64, 'conv2_out_channels': 32, 'fc_hidden_units': 256}\n",
      "Best F1 score for speaker FIDS144, age 9: 0.6870\n"
     ]
    },
    {
     "name": "stderr",
     "output_type": "stream",
     "text": [
      "                                                             \r"
     ]
    },
    {
     "name": "stdout",
     "output_type": "stream",
     "text": [
      "Best trial for speaker FIDS144, age 12: {'batch_size': 16, 'learning_rate': 0.0005631773800014079, 'num_epochs': 32, 'conv1_out_channels': 64, 'conv2_out_channels': 32, 'fc_hidden_units': 128}\n",
      "Best F1 score for speaker FIDS144, age 12: 0.7568\n"
     ]
    },
    {
     "name": "stderr",
     "output_type": "stream",
     "text": [
      "                                                             \r"
     ]
    },
    {
     "name": "stdout",
     "output_type": "stream",
     "text": [
      "Best trial for speaker FIDS145, age 12: {'batch_size': 64, 'learning_rate': 0.01073104825301875, 'num_epochs': 24, 'conv1_out_channels': 16, 'conv2_out_channels': 32, 'fc_hidden_units': 64}\n",
      "Best F1 score for speaker FIDS145, age 12: 0.6865\n"
     ]
    },
    {
     "name": "stderr",
     "output_type": "stream",
     "text": [
      "                                                             \r"
     ]
    },
    {
     "name": "stdout",
     "output_type": "stream",
     "text": [
      "Best trial for speaker FIDS145, age 15: {'batch_size': 64, 'learning_rate': 0.003550012525851159, 'num_epochs': 46, 'conv1_out_channels': 64, 'conv2_out_channels': 128, 'fc_hidden_units': 128}\n",
      "Best F1 score for speaker FIDS145, age 15: 0.4946\n"
     ]
    },
    {
     "name": "stderr",
     "output_type": "stream",
     "text": [
      "                                                             \r"
     ]
    },
    {
     "name": "stdout",
     "output_type": "stream",
     "text": [
      "Best trial for speaker FIDS145, age 18: {'batch_size': 32, 'learning_rate': 0.000147554976748068, 'num_epochs': 18, 'conv1_out_channels': 32, 'conv2_out_channels': 128, 'fc_hidden_units': 128}\n",
      "Best F1 score for speaker FIDS145, age 18: 0.6413\n"
     ]
    },
    {
     "name": "stderr",
     "output_type": "stream",
     "text": [
      "                                                             \r"
     ]
    },
    {
     "name": "stdout",
     "output_type": "stream",
     "text": [
      "Best trial for speaker FIDS146, age 9: {'batch_size': 32, 'learning_rate': 0.00010572342944517371, 'num_epochs': 37, 'conv1_out_channels': 16, 'conv2_out_channels': 64, 'fc_hidden_units': 256}\n",
      "Best F1 score for speaker FIDS146, age 9: 0.6804\n"
     ]
    },
    {
     "name": "stderr",
     "output_type": "stream",
     "text": [
      "                                                             \r"
     ]
    },
    {
     "name": "stdout",
     "output_type": "stream",
     "text": [
      "Best trial for speaker FIDS148, age 9: {'batch_size': 16, 'learning_rate': 0.0007434240420985584, 'num_epochs': 42, 'conv1_out_channels': 64, 'conv2_out_channels': 32, 'fc_hidden_units': 256}\n",
      "Best F1 score for speaker FIDS148, age 9: 0.6919\n"
     ]
    },
    {
     "name": "stderr",
     "output_type": "stream",
     "text": [
      "                                                             \r"
     ]
    },
    {
     "name": "stdout",
     "output_type": "stream",
     "text": [
      "Best trial for speaker FIDS148, age 12: {'batch_size': 32, 'learning_rate': 0.0002928879408255178, 'num_epochs': 37, 'conv1_out_channels': 64, 'conv2_out_channels': 64, 'fc_hidden_units': 128}\n",
      "Best F1 score for speaker FIDS148, age 12: 0.7202\n"
     ]
    },
    {
     "name": "stderr",
     "output_type": "stream",
     "text": [
      "                                                             \r"
     ]
    },
    {
     "name": "stdout",
     "output_type": "stream",
     "text": [
      "Best trial for speaker FIDS150, age 9: {'batch_size': 32, 'learning_rate': 0.00016283026570556506, 'num_epochs': 38, 'conv1_out_channels': 16, 'conv2_out_channels': 64, 'fc_hidden_units': 256}\n",
      "Best F1 score for speaker FIDS150, age 9: 0.6975\n"
     ]
    },
    {
     "name": "stderr",
     "output_type": "stream",
     "text": [
      "                                                             \r"
     ]
    },
    {
     "name": "stdout",
     "output_type": "stream",
     "text": [
      "Best trial for speaker FIDS150, age 18: {'batch_size': 32, 'learning_rate': 0.004467752817973905, 'num_epochs': 22, 'conv1_out_channels': 32, 'conv2_out_channels': 32, 'fc_hidden_units': 256}\n",
      "Best F1 score for speaker FIDS150, age 18: 0.7079\n"
     ]
    },
    {
     "name": "stderr",
     "output_type": "stream",
     "text": [
      "                                                             \r"
     ]
    },
    {
     "name": "stdout",
     "output_type": "stream",
     "text": [
      "Best trial for speaker FIDS151, age 9: {'batch_size': 32, 'learning_rate': 0.00036309111715907575, 'num_epochs': 46, 'conv1_out_channels': 16, 'conv2_out_channels': 64, 'fc_hidden_units': 256}\n",
      "Best F1 score for speaker FIDS151, age 9: 0.7107\n"
     ]
    },
    {
     "name": "stderr",
     "output_type": "stream",
     "text": [
      "                                                             \r"
     ]
    },
    {
     "name": "stdout",
     "output_type": "stream",
     "text": [
      "Best trial for speaker FIDS151, age 12: {'batch_size': 16, 'learning_rate': 0.00035463810131387515, 'num_epochs': 48, 'conv1_out_channels': 16, 'conv2_out_channels': 64, 'fc_hidden_units': 128}\n",
      "Best F1 score for speaker FIDS151, age 12: 0.7264\n"
     ]
    },
    {
     "name": "stderr",
     "output_type": "stream",
     "text": [
      "                                                             \r"
     ]
    },
    {
     "name": "stdout",
     "output_type": "stream",
     "text": [
      "Best trial for speaker FIDS151, age 15: {'batch_size': 16, 'learning_rate': 0.000844823724060881, 'num_epochs': 22, 'conv1_out_channels': 16, 'conv2_out_channels': 32, 'fc_hidden_units': 256}\n",
      "Best F1 score for speaker FIDS151, age 15: 0.6459\n"
     ]
    },
    {
     "name": "stderr",
     "output_type": "stream",
     "text": [
      "                                                             \r"
     ]
    },
    {
     "name": "stdout",
     "output_type": "stream",
     "text": [
      "Best trial for speaker FIDS152, age 9: {'batch_size': 32, 'learning_rate': 0.0005631773800014079, 'num_epochs': 50, 'conv1_out_channels': 64, 'conv2_out_channels': 32, 'fc_hidden_units': 128}\n",
      "Best F1 score for speaker FIDS152, age 9: 0.7304\n"
     ]
    },
    {
     "name": "stderr",
     "output_type": "stream",
     "text": [
      "                                                             \r"
     ]
    },
    {
     "name": "stdout",
     "output_type": "stream",
     "text": [
      "Best trial for speaker FIDS152, age 12: {'batch_size': 32, 'learning_rate': 0.0002001342062287998, 'num_epochs': 25, 'conv1_out_channels': 32, 'conv2_out_channels': 64, 'fc_hidden_units': 256}\n",
      "Best F1 score for speaker FIDS152, age 12: 0.6379\n"
     ]
    },
    {
     "name": "stderr",
     "output_type": "stream",
     "text": [
      "                                                             \r"
     ]
    },
    {
     "name": "stdout",
     "output_type": "stream",
     "text": [
      "Best trial for speaker FIDS152, age 15: {'batch_size': 32, 'learning_rate': 0.0002001342062287998, 'num_epochs': 25, 'conv1_out_channels': 32, 'conv2_out_channels': 64, 'fc_hidden_units': 256}\n",
      "Best F1 score for speaker FIDS152, age 15: 0.5522\n"
     ]
    },
    {
     "name": "stderr",
     "output_type": "stream",
     "text": [
      "                                                             \r"
     ]
    },
    {
     "name": "stdout",
     "output_type": "stream",
     "text": [
      "Best trial for speaker FIDS152, age 18: {'batch_size': 32, 'learning_rate': 0.0002001888993887211, 'num_epochs': 19, 'conv1_out_channels': 16, 'conv2_out_channels': 64, 'fc_hidden_units': 128}\n",
      "Best F1 score for speaker FIDS152, age 18: 0.6130\n"
     ]
    },
    {
     "name": "stderr",
     "output_type": "stream",
     "text": [
      "                                                             \r"
     ]
    },
    {
     "name": "stdout",
     "output_type": "stream",
     "text": [
      "Best trial for speaker FIDS153, age 9: {'batch_size': 64, 'learning_rate': 0.003550012525851159, 'num_epochs': 46, 'conv1_out_channels': 64, 'conv2_out_channels': 128, 'fc_hidden_units': 128}\n",
      "Best F1 score for speaker FIDS153, age 9: 0.7195\n"
     ]
    },
    {
     "name": "stderr",
     "output_type": "stream",
     "text": [
      "                                                             \r"
     ]
    },
    {
     "name": "stdout",
     "output_type": "stream",
     "text": [
      "Best trial for speaker FIDS154, age 12: {'batch_size': 64, 'learning_rate': 0.0003419258949837668, 'num_epochs': 50, 'conv1_out_channels': 64, 'conv2_out_channels': 128, 'fc_hidden_units': 128}\n",
      "Best F1 score for speaker FIDS154, age 12: 0.6995\n"
     ]
    },
    {
     "name": "stderr",
     "output_type": "stream",
     "text": [
      "                                                             \r"
     ]
    },
    {
     "name": "stdout",
     "output_type": "stream",
     "text": [
      "Best trial for speaker FIDS155, age 9: {'batch_size': 32, 'learning_rate': 0.0002001342062287998, 'num_epochs': 25, 'conv1_out_channels': 32, 'conv2_out_channels': 64, 'fc_hidden_units': 256}\n",
      "Best F1 score for speaker FIDS155, age 9: 0.6426\n"
     ]
    },
    {
     "name": "stderr",
     "output_type": "stream",
     "text": [
      "                                                             \r"
     ]
    },
    {
     "name": "stdout",
     "output_type": "stream",
     "text": [
      "Best trial for speaker FIDS156, age 9: {'batch_size': 64, 'learning_rate': 4.809461967501571e-05, 'num_epochs': 12, 'conv1_out_channels': 32, 'conv2_out_channels': 128, 'fc_hidden_units': 256}\n",
      "Best F1 score for speaker FIDS156, age 9: 0.6792\n"
     ]
    },
    {
     "name": "stderr",
     "output_type": "stream",
     "text": [
      "                                                             \r"
     ]
    },
    {
     "name": "stdout",
     "output_type": "stream",
     "text": [
      "Best trial for speaker FIDS156, age 12: {'batch_size': 64, 'learning_rate': 0.0012561043700013551, 'num_epochs': 27, 'conv1_out_channels': 32, 'conv2_out_channels': 128, 'fc_hidden_units': 64}\n",
      "Best F1 score for speaker FIDS156, age 12: 0.7328\n"
     ]
    },
    {
     "name": "stderr",
     "output_type": "stream",
     "text": [
      "                                                             \r"
     ]
    },
    {
     "name": "stdout",
     "output_type": "stream",
     "text": [
      "Best trial for speaker FIDS156, age 18: {'batch_size': 32, 'learning_rate': 0.0011040511903162248, 'num_epochs': 27, 'conv1_out_channels': 64, 'conv2_out_channels': 32, 'fc_hidden_units': 256}\n",
      "Best F1 score for speaker FIDS156, age 18: 0.7479\n"
     ]
    },
    {
     "name": "stderr",
     "output_type": "stream",
     "text": [
      "                                                             \r"
     ]
    },
    {
     "name": "stdout",
     "output_type": "stream",
     "text": [
      "Best trial for speaker FIDS157, age 9: {'batch_size': 32, 'learning_rate': 0.0002001342062287998, 'num_epochs': 25, 'conv1_out_channels': 32, 'conv2_out_channels': 64, 'fc_hidden_units': 256}\n",
      "Best F1 score for speaker FIDS157, age 9: 0.6405\n"
     ]
    },
    {
     "name": "stderr",
     "output_type": "stream",
     "text": [
      "                                                             \r"
     ]
    },
    {
     "name": "stdout",
     "output_type": "stream",
     "text": [
      "Best trial for speaker FIDS157, age 12: {'batch_size': 16, 'learning_rate': 0.0003466343621561473, 'num_epochs': 18, 'conv1_out_channels': 32, 'conv2_out_channels': 32, 'fc_hidden_units': 256}\n",
      "Best F1 score for speaker FIDS157, age 12: 0.5907\n"
     ]
    },
    {
     "name": "stderr",
     "output_type": "stream",
     "text": [
      "                                                             \r"
     ]
    },
    {
     "name": "stdout",
     "output_type": "stream",
     "text": [
      "Best trial for speaker FIDS158, age 9: {'batch_size': 16, 'learning_rate': 0.0003466343621561473, 'num_epochs': 18, 'conv1_out_channels': 32, 'conv2_out_channels': 32, 'fc_hidden_units': 256}\n",
      "Best F1 score for speaker FIDS158, age 9: 0.6826\n"
     ]
    },
    {
     "name": "stderr",
     "output_type": "stream",
     "text": [
      "                                                             \r"
     ]
    },
    {
     "name": "stdout",
     "output_type": "stream",
     "text": [
      "Best trial for speaker FIDS158, age 12: {'batch_size': 32, 'learning_rate': 0.0011040511903162248, 'num_epochs': 27, 'conv1_out_channels': 64, 'conv2_out_channels': 32, 'fc_hidden_units': 256}\n",
      "Best F1 score for speaker FIDS158, age 12: 0.6981\n"
     ]
    },
    {
     "name": "stderr",
     "output_type": "stream",
     "text": [
      "                                                             \r"
     ]
    },
    {
     "name": "stdout",
     "output_type": "stream",
     "text": [
      "Best trial for speaker FIDS158, age 15: {'batch_size': 32, 'learning_rate': 0.0002001342062287998, 'num_epochs': 25, 'conv1_out_channels': 32, 'conv2_out_channels': 64, 'fc_hidden_units': 256}\n",
      "Best F1 score for speaker FIDS158, age 15: 0.7053\n"
     ]
    },
    {
     "name": "stderr",
     "output_type": "stream",
     "text": [
      "                                                             \r"
     ]
    },
    {
     "name": "stdout",
     "output_type": "stream",
     "text": [
      "Best trial for speaker FIDS158, age 18: {'batch_size': 16, 'learning_rate': 0.00011685902797511272, 'num_epochs': 42, 'conv1_out_channels': 16, 'conv2_out_channels': 64, 'fc_hidden_units': 128}\n",
      "Best F1 score for speaker FIDS158, age 18: 0.7511\n"
     ]
    },
    {
     "name": "stderr",
     "output_type": "stream",
     "text": [
      "                                                             \r"
     ]
    },
    {
     "name": "stdout",
     "output_type": "stream",
     "text": [
      "Best trial for speaker FIDS159, age 12: {'batch_size': 64, 'learning_rate': 3.2722003050009365e-05, 'num_epochs': 43, 'conv1_out_channels': 16, 'conv2_out_channels': 128, 'fc_hidden_units': 128}\n",
      "Best F1 score for speaker FIDS159, age 12: 0.7072\n"
     ]
    },
    {
     "name": "stderr",
     "output_type": "stream",
     "text": [
      "                                                             \r"
     ]
    },
    {
     "name": "stdout",
     "output_type": "stream",
     "text": [
      "Best trial for speaker FIDS160, age 9: {'batch_size': 32, 'learning_rate': 0.00010572342944517371, 'num_epochs': 37, 'conv1_out_channels': 16, 'conv2_out_channels': 64, 'fc_hidden_units': 256}\n",
      "Best F1 score for speaker FIDS160, age 9: 0.6985\n"
     ]
    },
    {
     "name": "stderr",
     "output_type": "stream",
     "text": [
      "                                                             \r"
     ]
    },
    {
     "name": "stdout",
     "output_type": "stream",
     "text": [
      "Best trial for speaker FIDS160, age 12: {'batch_size': 32, 'learning_rate': 0.0010312036143191542, 'num_epochs': 50, 'conv1_out_channels': 64, 'conv2_out_channels': 128, 'fc_hidden_units': 64}\n",
      "Best F1 score for speaker FIDS160, age 12: 0.7214\n"
     ]
    },
    {
     "name": "stderr",
     "output_type": "stream",
     "text": [
      "                                                             \r"
     ]
    },
    {
     "name": "stdout",
     "output_type": "stream",
     "text": [
      "Best trial for speaker FIDS160, age 18: {'batch_size': 32, 'learning_rate': 0.003512704726270845, 'num_epochs': 22, 'conv1_out_channels': 32, 'conv2_out_channels': 64, 'fc_hidden_units': 128}\n",
      "Best F1 score for speaker FIDS160, age 18: 0.7426\n"
     ]
    },
    {
     "name": "stderr",
     "output_type": "stream",
     "text": [
      "                                                             \r"
     ]
    },
    {
     "name": "stdout",
     "output_type": "stream",
     "text": [
      "Best trial for speaker FIDS163, age 9: {'batch_size': 64, 'learning_rate': 0.0005164063412365877, 'num_epochs': 47, 'conv1_out_channels': 16, 'conv2_out_channels': 128, 'fc_hidden_units': 128}\n",
      "Best F1 score for speaker FIDS163, age 9: 0.6324\n"
     ]
    },
    {
     "name": "stderr",
     "output_type": "stream",
     "text": [
      "                                                             \r"
     ]
    },
    {
     "name": "stdout",
     "output_type": "stream",
     "text": [
      "Best trial for speaker FIDS164, age 9: {'batch_size': 64, 'learning_rate': 0.0008872959833726182, 'num_epochs': 19, 'conv1_out_channels': 16, 'conv2_out_channels': 64, 'fc_hidden_units': 64}\n",
      "Best F1 score for speaker FIDS164, age 9: 0.6947\n"
     ]
    },
    {
     "name": "stderr",
     "output_type": "stream",
     "text": [
      "                                                             \r"
     ]
    },
    {
     "name": "stdout",
     "output_type": "stream",
     "text": [
      "Best trial for speaker FIDS165, age 12: {'batch_size': 32, 'learning_rate': 5.2288915770746376e-05, 'num_epochs': 47, 'conv1_out_channels': 64, 'conv2_out_channels': 32, 'fc_hidden_units': 256}\n",
      "Best F1 score for speaker FIDS165, age 12: 0.6379\n"
     ]
    },
    {
     "name": "stderr",
     "output_type": "stream",
     "text": [
      "                                                             \r"
     ]
    },
    {
     "name": "stdout",
     "output_type": "stream",
     "text": [
      "Best trial for speaker FIDS165, age 18: {'batch_size': 32, 'learning_rate': 0.0002001342062287998, 'num_epochs': 25, 'conv1_out_channels': 32, 'conv2_out_channels': 64, 'fc_hidden_units': 256}\n",
      "Best F1 score for speaker FIDS165, age 18: 0.5360\n"
     ]
    },
    {
     "name": "stderr",
     "output_type": "stream",
     "text": [
      "                                                             \r"
     ]
    },
    {
     "name": "stdout",
     "output_type": "stream",
     "text": [
      "Best trial for speaker FIDS166, age 9: {'batch_size': 16, 'learning_rate': 0.00046526291069022, 'num_epochs': 28, 'conv1_out_channels': 16, 'conv2_out_channels': 64, 'fc_hidden_units': 256}\n",
      "Best F1 score for speaker FIDS166, age 9: 0.6517\n"
     ]
    },
    {
     "name": "stderr",
     "output_type": "stream",
     "text": [
      "                                                             \r"
     ]
    },
    {
     "name": "stdout",
     "output_type": "stream",
     "text": [
      "Best trial for speaker FIDS166, age 12: {'batch_size': 32, 'learning_rate': 0.0011040511903162248, 'num_epochs': 27, 'conv1_out_channels': 64, 'conv2_out_channels': 32, 'fc_hidden_units': 256}\n",
      "Best F1 score for speaker FIDS166, age 12: 0.6810\n"
     ]
    },
    {
     "name": "stderr",
     "output_type": "stream",
     "text": [
      "                                                             \r"
     ]
    },
    {
     "name": "stdout",
     "output_type": "stream",
     "text": [
      "Best trial for speaker FIDS166, age 15: {'batch_size': 32, 'learning_rate': 0.00022842876881114713, 'num_epochs': 24, 'conv1_out_channels': 16, 'conv2_out_channels': 32, 'fc_hidden_units': 256}\n",
      "Best F1 score for speaker FIDS166, age 15: 0.6964\n"
     ]
    },
    {
     "name": "stderr",
     "output_type": "stream",
     "text": [
      "                                                             \r"
     ]
    },
    {
     "name": "stdout",
     "output_type": "stream",
     "text": [
      "Best trial for speaker FIDS167, age 6: {'batch_size': 32, 'learning_rate': 0.0002001342062287998, 'num_epochs': 25, 'conv1_out_channels': 32, 'conv2_out_channels': 64, 'fc_hidden_units': 256}\n",
      "Best F1 score for speaker FIDS167, age 6: 0.6176\n"
     ]
    },
    {
     "name": "stderr",
     "output_type": "stream",
     "text": [
      "                                                             \r"
     ]
    },
    {
     "name": "stdout",
     "output_type": "stream",
     "text": [
      "Best trial for speaker FIDS167, age 9: {'batch_size': 32, 'learning_rate': 0.0003551213771944444, 'num_epochs': 36, 'conv1_out_channels': 64, 'conv2_out_channels': 64, 'fc_hidden_units': 128}\n",
      "Best F1 score for speaker FIDS167, age 9: 0.7246\n",
      "Skipping speaker FIDS167, age 12 due to missing classes.\n"
     ]
    },
    {
     "name": "stderr",
     "output_type": "stream",
     "text": [
      "                                                             \r"
     ]
    },
    {
     "name": "stdout",
     "output_type": "stream",
     "text": [
      "Best trial for speaker FIDS167, age 15: {'batch_size': 32, 'learning_rate': 0.00010572342944517371, 'num_epochs': 37, 'conv1_out_channels': 16, 'conv2_out_channels': 64, 'fc_hidden_units': 256}\n",
      "Best F1 score for speaker FIDS167, age 15: 0.6570\n"
     ]
    },
    {
     "name": "stderr",
     "output_type": "stream",
     "text": [
      "                                                             \r"
     ]
    },
    {
     "name": "stdout",
     "output_type": "stream",
     "text": [
      "Best trial for speaker FIDS167, age 18: {'batch_size': 32, 'learning_rate': 0.0002001342062287998, 'num_epochs': 25, 'conv1_out_channels': 32, 'conv2_out_channels': 64, 'fc_hidden_units': 256}\n",
      "Best F1 score for speaker FIDS167, age 18: 0.6939\n"
     ]
    },
    {
     "name": "stderr",
     "output_type": "stream",
     "text": [
      "                                                             \r"
     ]
    },
    {
     "name": "stdout",
     "output_type": "stream",
     "text": [
      "Best trial for speaker FIDS168, age 9: {'batch_size': 32, 'learning_rate': 0.0002925833553531096, 'num_epochs': 17, 'conv1_out_channels': 16, 'conv2_out_channels': 32, 'fc_hidden_units': 256}\n",
      "Best F1 score for speaker FIDS168, age 9: 0.7218\n"
     ]
    },
    {
     "name": "stderr",
     "output_type": "stream",
     "text": [
      "                                                             \r"
     ]
    },
    {
     "name": "stdout",
     "output_type": "stream",
     "text": [
      "Best trial for speaker FIDS169, age 9: {'batch_size': 64, 'learning_rate': 1.056790089450164e-05, 'num_epochs': 49, 'conv1_out_channels': 16, 'conv2_out_channels': 128, 'fc_hidden_units': 128}\n",
      "Best F1 score for speaker FIDS169, age 9: 0.6506\n"
     ]
    },
    {
     "name": "stderr",
     "output_type": "stream",
     "text": [
      "                                                             \r"
     ]
    },
    {
     "name": "stdout",
     "output_type": "stream",
     "text": [
      "Best trial for speaker FIDS169, age 12: {'batch_size': 32, 'learning_rate': 0.00031152853833357996, 'num_epochs': 24, 'conv1_out_channels': 16, 'conv2_out_channels': 32, 'fc_hidden_units': 256}\n",
      "Best F1 score for speaker FIDS169, age 12: 0.6373\n",
      "mfcc_no_IDS_6_bordervowels_M.csv\n",
      "mfcc_no_ADS_6_bordervowels_M.csv\n"
     ]
    },
    {
     "name": "stderr",
     "output_type": "stream",
     "text": [
      "                                                             \r"
     ]
    },
    {
     "name": "stdout",
     "output_type": "stream",
     "text": [
      "Best trial for speaker MIDS101, age 6: {'batch_size': 32, 'learning_rate': 0.000147554976748068, 'num_epochs': 32, 'conv1_out_channels': 16, 'conv2_out_channels': 32, 'fc_hidden_units': 256}\n",
      "Best F1 score for speaker MIDS101, age 6: 0.6784\n"
     ]
    },
    {
     "name": "stderr",
     "output_type": "stream",
     "text": [
      "                                                             \r"
     ]
    },
    {
     "name": "stdout",
     "output_type": "stream",
     "text": [
      "Best trial for speaker MIDS101, age 12: {'batch_size': 64, 'learning_rate': 0.0003466343621561473, 'num_epochs': 40, 'conv1_out_channels': 64, 'conv2_out_channels': 128, 'fc_hidden_units': 128}\n",
      "Best F1 score for speaker MIDS101, age 12: 0.7292\n"
     ]
    },
    {
     "name": "stderr",
     "output_type": "stream",
     "text": [
      "                                                             \r"
     ]
    },
    {
     "name": "stdout",
     "output_type": "stream",
     "text": [
      "Best trial for speaker MIDS101, age 15: {'batch_size': 32, 'learning_rate': 0.0003487622562432685, 'num_epochs': 41, 'conv1_out_channels': 16, 'conv2_out_channels': 32, 'fc_hidden_units': 256}\n",
      "Best F1 score for speaker MIDS101, age 15: 0.7195\n"
     ]
    },
    {
     "name": "stderr",
     "output_type": "stream",
     "text": [
      "                                                             \r"
     ]
    },
    {
     "name": "stdout",
     "output_type": "stream",
     "text": [
      "Best trial for speaker MIDS102, age 6: {'batch_size': 64, 'learning_rate': 5.9244379514472126e-05, 'num_epochs': 40, 'conv1_out_channels': 16, 'conv2_out_channels': 32, 'fc_hidden_units': 128}\n",
      "Best F1 score for speaker MIDS102, age 6: 0.5418\n"
     ]
    },
    {
     "name": "stderr",
     "output_type": "stream",
     "text": [
      "                                                             \r"
     ]
    },
    {
     "name": "stdout",
     "output_type": "stream",
     "text": [
      "Best trial for speaker MIDS102, age 9: {'batch_size': 16, 'learning_rate': 0.0004893697978199105, 'num_epochs': 30, 'conv1_out_channels': 16, 'conv2_out_channels': 64, 'fc_hidden_units': 128}\n",
      "Best F1 score for speaker MIDS102, age 9: 0.4487\n",
      "Skipping speaker MIDS102, age 15 due to missing classes.\n"
     ]
    },
    {
     "name": "stderr",
     "output_type": "stream",
     "text": [
      "                                                             \r"
     ]
    },
    {
     "name": "stdout",
     "output_type": "stream",
     "text": [
      "Best trial for speaker MIDS102, age 18: {'batch_size': 32, 'learning_rate': 0.000550234527538826, 'num_epochs': 28, 'conv1_out_channels': 32, 'conv2_out_channels': 64, 'fc_hidden_units': 256}\n",
      "Best F1 score for speaker MIDS102, age 18: 0.5844\n"
     ]
    },
    {
     "name": "stderr",
     "output_type": "stream",
     "text": [
      "                                                             \r"
     ]
    },
    {
     "name": "stdout",
     "output_type": "stream",
     "text": [
      "Best trial for speaker MIDS103, age 6: {'batch_size': 32, 'learning_rate': 0.0004782536273900284, 'num_epochs': 39, 'conv1_out_channels': 32, 'conv2_out_channels': 64, 'fc_hidden_units': 128}\n",
      "Best F1 score for speaker MIDS103, age 6: 0.6530\n"
     ]
    },
    {
     "name": "stderr",
     "output_type": "stream",
     "text": [
      "                                                             \r"
     ]
    },
    {
     "name": "stdout",
     "output_type": "stream",
     "text": [
      "Best trial for speaker MIDS103, age 9: {'batch_size': 64, 'learning_rate': 0.00019411926889457772, 'num_epochs': 35, 'conv1_out_channels': 16, 'conv2_out_channels': 128, 'fc_hidden_units': 128}\n",
      "Best F1 score for speaker MIDS103, age 9: 0.6729\n"
     ]
    },
    {
     "name": "stderr",
     "output_type": "stream",
     "text": [
      "                                                             \r"
     ]
    },
    {
     "name": "stdout",
     "output_type": "stream",
     "text": [
      "Best trial for speaker MIDS103, age 12: {'batch_size': 32, 'learning_rate': 0.0002001342062287998, 'num_epochs': 25, 'conv1_out_channels': 32, 'conv2_out_channels': 64, 'fc_hidden_units': 256}\n",
      "Best F1 score for speaker MIDS103, age 12: 0.6386\n"
     ]
    },
    {
     "name": "stderr",
     "output_type": "stream",
     "text": [
      "                                                             \r"
     ]
    },
    {
     "name": "stdout",
     "output_type": "stream",
     "text": [
      "Best trial for speaker MIDS103, age 18: {'batch_size': 64, 'learning_rate': 2.6968227122558923e-05, 'num_epochs': 34, 'conv1_out_channels': 16, 'conv2_out_channels': 128, 'fc_hidden_units': 256}\n",
      "Best F1 score for speaker MIDS103, age 18: 0.6761\n"
     ]
    },
    {
     "name": "stderr",
     "output_type": "stream",
     "text": [
      "                                                             \r"
     ]
    },
    {
     "name": "stdout",
     "output_type": "stream",
     "text": [
      "Best trial for speaker MIDS104, age 6: {'batch_size': 16, 'learning_rate': 6.135332855120384e-05, 'num_epochs': 33, 'conv1_out_channels': 16, 'conv2_out_channels': 64, 'fc_hidden_units': 128}\n",
      "Best F1 score for speaker MIDS104, age 6: 0.6027\n"
     ]
    },
    {
     "name": "stderr",
     "output_type": "stream",
     "text": [
      "                                                             \r"
     ]
    },
    {
     "name": "stdout",
     "output_type": "stream",
     "text": [
      "Best trial for speaker MIDS105, age 6: {'batch_size': 32, 'learning_rate': 0.0011040511903162248, 'num_epochs': 27, 'conv1_out_channels': 64, 'conv2_out_channels': 32, 'fc_hidden_units': 256}\n",
      "Best F1 score for speaker MIDS105, age 6: 0.6476\n"
     ]
    },
    {
     "name": "stderr",
     "output_type": "stream",
     "text": [
      "                                                             \r"
     ]
    },
    {
     "name": "stdout",
     "output_type": "stream",
     "text": [
      "Best trial for speaker MIDS105, age 15: {'batch_size': 32, 'learning_rate': 0.00010572342944517371, 'num_epochs': 37, 'conv1_out_channels': 16, 'conv2_out_channels': 64, 'fc_hidden_units': 256}\n",
      "Best F1 score for speaker MIDS105, age 15: 0.6869\n"
     ]
    },
    {
     "name": "stderr",
     "output_type": "stream",
     "text": [
      "                                                             \r"
     ]
    },
    {
     "name": "stdout",
     "output_type": "stream",
     "text": [
      "Best trial for speaker MIDS106, age 6: {'batch_size': 64, 'learning_rate': 8.638274984813916e-05, 'num_epochs': 49, 'conv1_out_channels': 16, 'conv2_out_channels': 128, 'fc_hidden_units': 128}\n",
      "Best F1 score for speaker MIDS106, age 6: 0.7161\n"
     ]
    },
    {
     "name": "stderr",
     "output_type": "stream",
     "text": [
      "                                                             \r"
     ]
    },
    {
     "name": "stdout",
     "output_type": "stream",
     "text": [
      "Best trial for speaker MIDS106, age 15: {'batch_size': 64, 'learning_rate': 0.00010813432641302312, 'num_epochs': 30, 'conv1_out_channels': 16, 'conv2_out_channels': 64, 'fc_hidden_units': 128}\n",
      "Best F1 score for speaker MIDS106, age 15: 0.6813\n"
     ]
    },
    {
     "name": "stderr",
     "output_type": "stream",
     "text": [
      "                                                             \r"
     ]
    },
    {
     "name": "stdout",
     "output_type": "stream",
     "text": [
      "Best trial for speaker MIDS106, age 18: {'batch_size': 64, 'learning_rate': 4.809461967501571e-05, 'num_epochs': 12, 'conv1_out_channels': 32, 'conv2_out_channels': 128, 'fc_hidden_units': 256}\n",
      "Best F1 score for speaker MIDS106, age 18: 0.6328\n"
     ]
    },
    {
     "name": "stderr",
     "output_type": "stream",
     "text": [
      "                                                             \r"
     ]
    },
    {
     "name": "stdout",
     "output_type": "stream",
     "text": [
      "Best trial for speaker MIDS107, age 6: {'batch_size': 64, 'learning_rate': 0.00048257563689878497, 'num_epochs': 32, 'conv1_out_channels': 64, 'conv2_out_channels': 128, 'fc_hidden_units': 128}\n",
      "Best F1 score for speaker MIDS107, age 6: 0.7093\n"
     ]
    },
    {
     "name": "stderr",
     "output_type": "stream",
     "text": [
      "                                                             \r"
     ]
    },
    {
     "name": "stdout",
     "output_type": "stream",
     "text": [
      "Best trial for speaker MIDS107, age 9: {'batch_size': 32, 'learning_rate': 0.003512704726270845, 'num_epochs': 22, 'conv1_out_channels': 32, 'conv2_out_channels': 64, 'fc_hidden_units': 128}\n",
      "Best F1 score for speaker MIDS107, age 9: 0.6635\n"
     ]
    },
    {
     "name": "stderr",
     "output_type": "stream",
     "text": [
      "                                                             \r"
     ]
    },
    {
     "name": "stdout",
     "output_type": "stream",
     "text": [
      "Best trial for speaker MIDS108, age 6: {'batch_size': 64, 'learning_rate': 0.003550012525851159, 'num_epochs': 46, 'conv1_out_channels': 64, 'conv2_out_channels': 128, 'fc_hidden_units': 128}\n",
      "Best F1 score for speaker MIDS108, age 6: 0.6777\n"
     ]
    },
    {
     "name": "stderr",
     "output_type": "stream",
     "text": [
      "                                                             \r"
     ]
    },
    {
     "name": "stdout",
     "output_type": "stream",
     "text": [
      "Best trial for speaker MIDS108, age 9: {'batch_size': 32, 'learning_rate': 0.00016599424250061235, 'num_epochs': 21, 'conv1_out_channels': 16, 'conv2_out_channels': 64, 'fc_hidden_units': 128}\n",
      "Best F1 score for speaker MIDS108, age 9: 0.7196\n"
     ]
    },
    {
     "name": "stderr",
     "output_type": "stream",
     "text": [
      "                                                             \r"
     ]
    },
    {
     "name": "stdout",
     "output_type": "stream",
     "text": [
      "Best trial for speaker MIDS108, age 15: {'batch_size': 32, 'learning_rate': 0.00039803640722445494, 'num_epochs': 43, 'conv1_out_channels': 16, 'conv2_out_channels': 32, 'fc_hidden_units': 256}\n",
      "Best F1 score for speaker MIDS108, age 15: 0.6914\n"
     ]
    },
    {
     "name": "stderr",
     "output_type": "stream",
     "text": [
      "                                                             \r"
     ]
    },
    {
     "name": "stdout",
     "output_type": "stream",
     "text": [
      "Best trial for speaker MIDS109, age 6: {'batch_size': 32, 'learning_rate': 0.0011040511903162248, 'num_epochs': 27, 'conv1_out_channels': 64, 'conv2_out_channels': 32, 'fc_hidden_units': 256}\n",
      "Best F1 score for speaker MIDS109, age 6: 0.6980\n"
     ]
    },
    {
     "name": "stderr",
     "output_type": "stream",
     "text": [
      "                                                             \r"
     ]
    },
    {
     "name": "stdout",
     "output_type": "stream",
     "text": [
      "Best trial for speaker MIDS109, age 12: {'batch_size': 32, 'learning_rate': 0.0008524087557746962, 'num_epochs': 35, 'conv1_out_channels': 16, 'conv2_out_channels': 32, 'fc_hidden_units': 256}\n",
      "Best F1 score for speaker MIDS109, age 12: 0.7054\n"
     ]
    },
    {
     "name": "stderr",
     "output_type": "stream",
     "text": [
      "                                                             \r"
     ]
    },
    {
     "name": "stdout",
     "output_type": "stream",
     "text": [
      "Best trial for speaker MIDS109, age 15: {'batch_size': 32, 'learning_rate': 0.003512704726270845, 'num_epochs': 22, 'conv1_out_channels': 32, 'conv2_out_channels': 64, 'fc_hidden_units': 128}\n",
      "Best F1 score for speaker MIDS109, age 15: 0.6912\n"
     ]
    },
    {
     "name": "stderr",
     "output_type": "stream",
     "text": [
      "                                                             \r"
     ]
    },
    {
     "name": "stdout",
     "output_type": "stream",
     "text": [
      "Best trial for speaker MIDS110, age 6: {'batch_size': 32, 'learning_rate': 0.0002001342062287998, 'num_epochs': 25, 'conv1_out_channels': 32, 'conv2_out_channels': 64, 'fc_hidden_units': 256}\n",
      "Best F1 score for speaker MIDS110, age 6: 0.6704\n"
     ]
    },
    {
     "name": "stderr",
     "output_type": "stream",
     "text": [
      "                                                             \r"
     ]
    },
    {
     "name": "stdout",
     "output_type": "stream",
     "text": [
      "Best trial for speaker MIDS110, age 12: {'batch_size': 16, 'learning_rate': 0.00034148707273252076, 'num_epochs': 30, 'conv1_out_channels': 16, 'conv2_out_channels': 64, 'fc_hidden_units': 128}\n",
      "Best F1 score for speaker MIDS110, age 12: 0.6606\n"
     ]
    },
    {
     "name": "stderr",
     "output_type": "stream",
     "text": [
      "                                                             \r"
     ]
    },
    {
     "name": "stdout",
     "output_type": "stream",
     "text": [
      "Best trial for speaker MIDS110, age 18: {'batch_size': 16, 'learning_rate': 0.0004737322056461823, 'num_epochs': 19, 'conv1_out_channels': 16, 'conv2_out_channels': 32, 'fc_hidden_units': 128}\n",
      "Best F1 score for speaker MIDS110, age 18: 0.6270\n"
     ]
    },
    {
     "name": "stderr",
     "output_type": "stream",
     "text": [
      "                                                             \r"
     ]
    },
    {
     "name": "stdout",
     "output_type": "stream",
     "text": [
      "Best trial for speaker MIDS111, age 6: {'batch_size': 32, 'learning_rate': 0.0002928879408255178, 'num_epochs': 37, 'conv1_out_channels': 64, 'conv2_out_channels': 64, 'fc_hidden_units': 128}\n",
      "Best F1 score for speaker MIDS111, age 6: 0.6509\n"
     ]
    },
    {
     "name": "stderr",
     "output_type": "stream",
     "text": [
      "                                                             \r"
     ]
    },
    {
     "name": "stdout",
     "output_type": "stream",
     "text": [
      "Best trial for speaker MIDS111, age 18: {'batch_size': 32, 'learning_rate': 0.0011040511903162248, 'num_epochs': 27, 'conv1_out_channels': 64, 'conv2_out_channels': 32, 'fc_hidden_units': 256}\n",
      "Best F1 score for speaker MIDS111, age 18: 0.6460\n"
     ]
    },
    {
     "name": "stderr",
     "output_type": "stream",
     "text": [
      "                                                             \r"
     ]
    },
    {
     "name": "stdout",
     "output_type": "stream",
     "text": [
      "Best trial for speaker MIDS112, age 6: {'batch_size': 32, 'learning_rate': 0.0002001342062287998, 'num_epochs': 25, 'conv1_out_channels': 32, 'conv2_out_channels': 64, 'fc_hidden_units': 256}\n",
      "Best F1 score for speaker MIDS112, age 6: 0.6089\n"
     ]
    },
    {
     "name": "stderr",
     "output_type": "stream",
     "text": [
      "                                                             \r"
     ]
    },
    {
     "name": "stdout",
     "output_type": "stream",
     "text": [
      "Best trial for speaker MIDS112, age 9: {'batch_size': 64, 'learning_rate': 8.253087252344233e-05, 'num_epochs': 35, 'conv1_out_channels': 16, 'conv2_out_channels': 64, 'fc_hidden_units': 256}\n",
      "Best F1 score for speaker MIDS112, age 9: 0.6226\n"
     ]
    },
    {
     "name": "stderr",
     "output_type": "stream",
     "text": [
      "                                                             \r"
     ]
    },
    {
     "name": "stdout",
     "output_type": "stream",
     "text": [
      "Best trial for speaker MIDS112, age 12: {'batch_size': 32, 'learning_rate': 0.0002001342062287998, 'num_epochs': 25, 'conv1_out_channels': 32, 'conv2_out_channels': 64, 'fc_hidden_units': 256}\n",
      "Best F1 score for speaker MIDS112, age 12: 0.5447\n"
     ]
    },
    {
     "name": "stderr",
     "output_type": "stream",
     "text": [
      "                                                             \r"
     ]
    },
    {
     "name": "stdout",
     "output_type": "stream",
     "text": [
      "Best trial for speaker MIDS112, age 18: {'batch_size': 16, 'learning_rate': 0.000254733834184822, 'num_epochs': 27, 'conv1_out_channels': 32, 'conv2_out_channels': 64, 'fc_hidden_units': 128}\n",
      "Best F1 score for speaker MIDS112, age 18: 0.6354\n"
     ]
    },
    {
     "name": "stderr",
     "output_type": "stream",
     "text": [
      "                                                             \r"
     ]
    },
    {
     "name": "stdout",
     "output_type": "stream",
     "text": [
      "Best trial for speaker MIDS113, age 6: {'batch_size': 64, 'learning_rate': 0.000259260179131785, 'num_epochs': 18, 'conv1_out_channels': 16, 'conv2_out_channels': 64, 'fc_hidden_units': 128}\n",
      "Best F1 score for speaker MIDS113, age 6: 0.6177\n"
     ]
    },
    {
     "name": "stderr",
     "output_type": "stream",
     "text": [
      "                                                             \r"
     ]
    },
    {
     "name": "stdout",
     "output_type": "stream",
     "text": [
      "Best trial for speaker MIDS114, age 6: {'batch_size': 32, 'learning_rate': 0.0002001342062287998, 'num_epochs': 25, 'conv1_out_channels': 32, 'conv2_out_channels': 64, 'fc_hidden_units': 256}\n",
      "Best F1 score for speaker MIDS114, age 6: 0.6356\n"
     ]
    },
    {
     "name": "stderr",
     "output_type": "stream",
     "text": [
      "                                                             \r"
     ]
    },
    {
     "name": "stdout",
     "output_type": "stream",
     "text": [
      "Best trial for speaker MIDS114, age 9: {'batch_size': 32, 'learning_rate': 0.00041888115370636303, 'num_epochs': 49, 'conv1_out_channels': 16, 'conv2_out_channels': 32, 'fc_hidden_units': 128}\n",
      "Best F1 score for speaker MIDS114, age 9: 0.5966\n"
     ]
    },
    {
     "name": "stderr",
     "output_type": "stream",
     "text": [
      "                                                             \r"
     ]
    },
    {
     "name": "stdout",
     "output_type": "stream",
     "text": [
      "Best trial for speaker MIDS114, age 12: {'batch_size': 32, 'learning_rate': 0.00031263381546776134, 'num_epochs': 41, 'conv1_out_channels': 16, 'conv2_out_channels': 32, 'fc_hidden_units': 256}\n",
      "Best F1 score for speaker MIDS114, age 12: 0.6640\n"
     ]
    },
    {
     "name": "stderr",
     "output_type": "stream",
     "text": [
      "                                                             \r"
     ]
    },
    {
     "name": "stdout",
     "output_type": "stream",
     "text": [
      "Best trial for speaker MIDS114, age 15: {'batch_size': 32, 'learning_rate': 0.0002001342062287998, 'num_epochs': 25, 'conv1_out_channels': 32, 'conv2_out_channels': 64, 'fc_hidden_units': 256}\n",
      "Best F1 score for speaker MIDS114, age 15: 0.5952\n"
     ]
    },
    {
     "name": "stderr",
     "output_type": "stream",
     "text": [
      "                                                             \r"
     ]
    },
    {
     "name": "stdout",
     "output_type": "stream",
     "text": [
      "Best trial for speaker MIDS114, age 18: {'batch_size': 16, 'learning_rate': 6.249204019970288e-05, 'num_epochs': 49, 'conv1_out_channels': 32, 'conv2_out_channels': 128, 'fc_hidden_units': 128}\n",
      "Best F1 score for speaker MIDS114, age 18: 0.6747\n"
     ]
    },
    {
     "name": "stderr",
     "output_type": "stream",
     "text": [
      "                                                             \r"
     ]
    },
    {
     "name": "stdout",
     "output_type": "stream",
     "text": [
      "Best trial for speaker MIDS115, age 6: {'batch_size': 32, 'learning_rate': 0.00037327688903854175, 'num_epochs': 20, 'conv1_out_channels': 16, 'conv2_out_channels': 128, 'fc_hidden_units': 256}\n",
      "Best F1 score for speaker MIDS115, age 6: 0.6585\n"
     ]
    },
    {
     "name": "stderr",
     "output_type": "stream",
     "text": [
      "                                                             \r"
     ]
    },
    {
     "name": "stdout",
     "output_type": "stream",
     "text": [
      "Best trial for speaker MIDS115, age 9: {'batch_size': 32, 'learning_rate': 0.0002925833553531096, 'num_epochs': 33, 'conv1_out_channels': 64, 'conv2_out_channels': 32, 'fc_hidden_units': 128}\n",
      "Best F1 score for speaker MIDS115, age 9: 0.6343\n"
     ]
    },
    {
     "name": "stderr",
     "output_type": "stream",
     "text": [
      "                                                             \r"
     ]
    },
    {
     "name": "stdout",
     "output_type": "stream",
     "text": [
      "Best trial for speaker MIDS115, age 12: {'batch_size': 32, 'learning_rate': 0.00044818391288943896, 'num_epochs': 10, 'conv1_out_channels': 16, 'conv2_out_channels': 64, 'fc_hidden_units': 128}\n",
      "Best F1 score for speaker MIDS115, age 12: 0.6713\n"
     ]
    },
    {
     "name": "stderr",
     "output_type": "stream",
     "text": [
      "                                                             \r"
     ]
    },
    {
     "name": "stdout",
     "output_type": "stream",
     "text": [
      "Best trial for speaker MIDS115, age 15: {'batch_size': 16, 'learning_rate': 0.00046526291069022, 'num_epochs': 11, 'conv1_out_channels': 16, 'conv2_out_channels': 64, 'fc_hidden_units': 256}\n",
      "Best F1 score for speaker MIDS115, age 15: 0.6557\n"
     ]
    },
    {
     "name": "stderr",
     "output_type": "stream",
     "text": [
      "                                                             \r"
     ]
    },
    {
     "name": "stdout",
     "output_type": "stream",
     "text": [
      "Best trial for speaker MIDS115, age 18: {'batch_size': 32, 'learning_rate': 0.0002001342062287998, 'num_epochs': 25, 'conv1_out_channels': 32, 'conv2_out_channels': 64, 'fc_hidden_units': 256}\n",
      "Best F1 score for speaker MIDS115, age 18: 0.6816\n"
     ]
    },
    {
     "name": "stderr",
     "output_type": "stream",
     "text": [
      "                                                             \r"
     ]
    },
    {
     "name": "stdout",
     "output_type": "stream",
     "text": [
      "Best trial for speaker MIDS116, age 6: {'batch_size': 32, 'learning_rate': 0.000887095538152097, 'num_epochs': 29, 'conv1_out_channels': 16, 'conv2_out_channels': 128, 'fc_hidden_units': 256}\n",
      "Best F1 score for speaker MIDS116, age 6: 0.7007\n"
     ]
    },
    {
     "name": "stderr",
     "output_type": "stream",
     "text": [
      "                                                             \r"
     ]
    },
    {
     "name": "stdout",
     "output_type": "stream",
     "text": [
      "Best trial for speaker MIDS116, age 9: {'batch_size': 64, 'learning_rate': 0.00015753162795571562, 'num_epochs': 18, 'conv1_out_channels': 32, 'conv2_out_channels': 128, 'fc_hidden_units': 256}\n",
      "Best F1 score for speaker MIDS116, age 9: 0.7070\n"
     ]
    },
    {
     "name": "stderr",
     "output_type": "stream",
     "text": [
      "                                                             \r"
     ]
    },
    {
     "name": "stdout",
     "output_type": "stream",
     "text": [
      "Best trial for speaker MIDS116, age 18: {'batch_size': 16, 'learning_rate': 0.000550234527538826, 'num_epochs': 50, 'conv1_out_channels': 64, 'conv2_out_channels': 64, 'fc_hidden_units': 256}\n",
      "Best F1 score for speaker MIDS116, age 18: 0.7060\n"
     ]
    },
    {
     "name": "stderr",
     "output_type": "stream",
     "text": [
      "                                                             \r"
     ]
    },
    {
     "name": "stdout",
     "output_type": "stream",
     "text": [
      "Best trial for speaker MIDS117, age 6: {'batch_size': 64, 'learning_rate': 4.809461967501571e-05, 'num_epochs': 12, 'conv1_out_channels': 32, 'conv2_out_channels': 128, 'fc_hidden_units': 256}\n",
      "Best F1 score for speaker MIDS117, age 6: 0.5405\n"
     ]
    },
    {
     "name": "stderr",
     "output_type": "stream",
     "text": [
      "                                                             \r"
     ]
    },
    {
     "name": "stdout",
     "output_type": "stream",
     "text": [
      "Best trial for speaker MIDS117, age 12: {'batch_size': 32, 'learning_rate': 0.0011040511903162248, 'num_epochs': 27, 'conv1_out_channels': 64, 'conv2_out_channels': 32, 'fc_hidden_units': 256}\n",
      "Best F1 score for speaker MIDS117, age 12: 0.6181\n"
     ]
    },
    {
     "name": "stderr",
     "output_type": "stream",
     "text": [
      "                                                             \r"
     ]
    },
    {
     "name": "stdout",
     "output_type": "stream",
     "text": [
      "Best trial for speaker MIDS117, age 15: {'batch_size': 32, 'learning_rate': 0.003512704726270845, 'num_epochs': 22, 'conv1_out_channels': 32, 'conv2_out_channels': 64, 'fc_hidden_units': 128}\n",
      "Best F1 score for speaker MIDS117, age 15: 0.5979\n"
     ]
    },
    {
     "name": "stderr",
     "output_type": "stream",
     "text": [
      "                                                             \r"
     ]
    },
    {
     "name": "stdout",
     "output_type": "stream",
     "text": [
      "Best trial for speaker MIDS117, age 18: {'batch_size': 32, 'learning_rate': 0.000288815837130929, 'num_epochs': 50, 'conv1_out_channels': 16, 'conv2_out_channels': 64, 'fc_hidden_units': 256}\n",
      "Best F1 score for speaker MIDS117, age 18: 0.6481\n"
     ]
    },
    {
     "name": "stderr",
     "output_type": "stream",
     "text": [
      "                                                             \r"
     ]
    },
    {
     "name": "stdout",
     "output_type": "stream",
     "text": [
      "Best trial for speaker MIDS118, age 6: {'batch_size': 32, 'learning_rate': 0.003512704726270845, 'num_epochs': 22, 'conv1_out_channels': 32, 'conv2_out_channels': 64, 'fc_hidden_units': 128}\n",
      "Best F1 score for speaker MIDS118, age 6: 0.6503\n"
     ]
    },
    {
     "name": "stderr",
     "output_type": "stream",
     "text": [
      "                                                             \r"
     ]
    },
    {
     "name": "stdout",
     "output_type": "stream",
     "text": [
      "Best trial for speaker MIDS118, age 9: {'batch_size': 32, 'learning_rate': 0.0002001342062287998, 'num_epochs': 25, 'conv1_out_channels': 32, 'conv2_out_channels': 64, 'fc_hidden_units': 256}\n",
      "Best F1 score for speaker MIDS118, age 9: 0.6239\n"
     ]
    },
    {
     "name": "stderr",
     "output_type": "stream",
     "text": [
      "                                                             \r"
     ]
    },
    {
     "name": "stdout",
     "output_type": "stream",
     "text": [
      "Best trial for speaker MIDS118, age 18: {'batch_size': 64, 'learning_rate': 0.0001162005469595888, 'num_epochs': 10, 'conv1_out_channels': 16, 'conv2_out_channels': 128, 'fc_hidden_units': 128}\n",
      "Best F1 score for speaker MIDS118, age 18: 0.6472\n"
     ]
    },
    {
     "name": "stderr",
     "output_type": "stream",
     "text": [
      "                                                             \r"
     ]
    },
    {
     "name": "stdout",
     "output_type": "stream",
     "text": [
      "Best trial for speaker MIDS119, age 6: {'batch_size': 32, 'learning_rate': 0.0004149939655298599, 'num_epochs': 46, 'conv1_out_channels': 16, 'conv2_out_channels': 32, 'fc_hidden_units': 256}\n",
      "Best F1 score for speaker MIDS119, age 6: 0.7036\n"
     ]
    },
    {
     "name": "stderr",
     "output_type": "stream",
     "text": [
      "                                                             \r"
     ]
    },
    {
     "name": "stdout",
     "output_type": "stream",
     "text": [
      "Best trial for speaker MIDS119, age 9: {'batch_size': 32, 'learning_rate': 9.386101901907736e-05, 'num_epochs': 35, 'conv1_out_channels': 16, 'conv2_out_channels': 64, 'fc_hidden_units': 256}\n",
      "Best F1 score for speaker MIDS119, age 9: 0.6895\n"
     ]
    },
    {
     "name": "stderr",
     "output_type": "stream",
     "text": [
      "                                                             \r"
     ]
    },
    {
     "name": "stdout",
     "output_type": "stream",
     "text": [
      "Best trial for speaker MIDS119, age 12: {'batch_size': 32, 'learning_rate': 0.0011040511903162248, 'num_epochs': 27, 'conv1_out_channels': 64, 'conv2_out_channels': 32, 'fc_hidden_units': 256}\n",
      "Best F1 score for speaker MIDS119, age 12: 0.6224\n"
     ]
    },
    {
     "name": "stderr",
     "output_type": "stream",
     "text": [
      "                                                             \r"
     ]
    },
    {
     "name": "stdout",
     "output_type": "stream",
     "text": [
      "Best trial for speaker MIDS119, age 15: {'batch_size': 32, 'learning_rate': 0.008403182837794216, 'num_epochs': 19, 'conv1_out_channels': 16, 'conv2_out_channels': 32, 'fc_hidden_units': 128}\n",
      "Best F1 score for speaker MIDS119, age 15: 0.6134\n"
     ]
    },
    {
     "name": "stderr",
     "output_type": "stream",
     "text": [
      "                                                             \r"
     ]
    },
    {
     "name": "stdout",
     "output_type": "stream",
     "text": [
      "Best trial for speaker MIDS119, age 18: {'batch_size': 32, 'learning_rate': 0.00016283026570556506, 'num_epochs': 38, 'conv1_out_channels': 16, 'conv2_out_channels': 64, 'fc_hidden_units': 256}\n",
      "Best F1 score for speaker MIDS119, age 18: 0.6805\n"
     ]
    },
    {
     "name": "stderr",
     "output_type": "stream",
     "text": [
      "                                                             \r"
     ]
    },
    {
     "name": "stdout",
     "output_type": "stream",
     "text": [
      "Best trial for speaker MIDS120, age 6: {'batch_size': 32, 'learning_rate': 0.00010572342944517371, 'num_epochs': 37, 'conv1_out_channels': 16, 'conv2_out_channels': 64, 'fc_hidden_units': 256}\n",
      "Best F1 score for speaker MIDS120, age 6: 0.6961\n"
     ]
    },
    {
     "name": "stderr",
     "output_type": "stream",
     "text": [
      "                                                             \r"
     ]
    },
    {
     "name": "stdout",
     "output_type": "stream",
     "text": [
      "Best trial for speaker MIDS120, age 15: {'batch_size': 64, 'learning_rate': 0.0003713740624438138, 'num_epochs': 19, 'conv1_out_channels': 16, 'conv2_out_channels': 128, 'fc_hidden_units': 64}\n",
      "Best F1 score for speaker MIDS120, age 15: 0.7256\n"
     ]
    },
    {
     "name": "stderr",
     "output_type": "stream",
     "text": [
      "                                                             \r"
     ]
    },
    {
     "name": "stdout",
     "output_type": "stream",
     "text": [
      "Best trial for speaker MIDS121, age 6: {'batch_size': 32, 'learning_rate': 0.0006225757888845665, 'num_epochs': 45, 'conv1_out_channels': 64, 'conv2_out_channels': 64, 'fc_hidden_units': 128}\n",
      "Best F1 score for speaker MIDS121, age 6: 0.5987\n"
     ]
    },
    {
     "name": "stderr",
     "output_type": "stream",
     "text": [
      "                                                             \r"
     ]
    },
    {
     "name": "stdout",
     "output_type": "stream",
     "text": [
      "Best trial for speaker MIDS121, age 18: {'batch_size': 32, 'learning_rate': 0.0002001342062287998, 'num_epochs': 25, 'conv1_out_channels': 32, 'conv2_out_channels': 64, 'fc_hidden_units': 256}\n",
      "Best F1 score for speaker MIDS121, age 18: 0.6908\n"
     ]
    },
    {
     "name": "stderr",
     "output_type": "stream",
     "text": [
      "                                                             \r"
     ]
    },
    {
     "name": "stdout",
     "output_type": "stream",
     "text": [
      "Best trial for speaker MIDS122, age 6: {'batch_size': 32, 'learning_rate': 0.00016599424250061235, 'num_epochs': 21, 'conv1_out_channels': 16, 'conv2_out_channels': 64, 'fc_hidden_units': 128}\n",
      "Best F1 score for speaker MIDS122, age 6: 0.6388\n"
     ]
    },
    {
     "name": "stderr",
     "output_type": "stream",
     "text": [
      "                                                             \r"
     ]
    },
    {
     "name": "stdout",
     "output_type": "stream",
     "text": [
      "Best trial for speaker MIDS122, age 9: {'batch_size': 32, 'learning_rate': 0.0002001888993887211, 'num_epochs': 19, 'conv1_out_channels': 16, 'conv2_out_channels': 64, 'fc_hidden_units': 128}\n",
      "Best F1 score for speaker MIDS122, age 9: 0.6023\n"
     ]
    },
    {
     "name": "stderr",
     "output_type": "stream",
     "text": [
      "                                                             \r"
     ]
    },
    {
     "name": "stdout",
     "output_type": "stream",
     "text": [
      "Best trial for speaker MIDS122, age 12: {'batch_size': 32, 'learning_rate': 0.0002001342062287998, 'num_epochs': 25, 'conv1_out_channels': 32, 'conv2_out_channels': 64, 'fc_hidden_units': 256}\n",
      "Best F1 score for speaker MIDS122, age 12: 0.6361\n"
     ]
    },
    {
     "name": "stderr",
     "output_type": "stream",
     "text": [
      "                                                             \r"
     ]
    },
    {
     "name": "stdout",
     "output_type": "stream",
     "text": [
      "Best trial for speaker MIDS122, age 15: {'batch_size': 32, 'learning_rate': 0.0002001342062287998, 'num_epochs': 25, 'conv1_out_channels': 32, 'conv2_out_channels': 64, 'fc_hidden_units': 256}\n",
      "Best F1 score for speaker MIDS122, age 15: 0.6486\n"
     ]
    },
    {
     "name": "stderr",
     "output_type": "stream",
     "text": [
      "                                                             \r"
     ]
    },
    {
     "name": "stdout",
     "output_type": "stream",
     "text": [
      "Best trial for speaker MIDS122, age 18: {'batch_size': 32, 'learning_rate': 0.00044818391288943896, 'num_epochs': 46, 'conv1_out_channels': 16, 'conv2_out_channels': 64, 'fc_hidden_units': 256}\n",
      "Best F1 score for speaker MIDS122, age 18: 0.6817\n"
     ]
    },
    {
     "name": "stderr",
     "output_type": "stream",
     "text": [
      "                                                             \r"
     ]
    },
    {
     "name": "stdout",
     "output_type": "stream",
     "text": [
      "Best trial for speaker MIDS123, age 6: {'batch_size': 32, 'learning_rate': 0.0024810409748678114, 'num_epochs': 16, 'conv1_out_channels': 64, 'conv2_out_channels': 64, 'fc_hidden_units': 64}\n",
      "Best F1 score for speaker MIDS123, age 6: 0.6647\n"
     ]
    },
    {
     "name": "stderr",
     "output_type": "stream",
     "text": [
      "                                                             \r"
     ]
    },
    {
     "name": "stdout",
     "output_type": "stream",
     "text": [
      "Best trial for speaker MIDS123, age 15: {'batch_size': 32, 'learning_rate': 0.0011040511903162248, 'num_epochs': 27, 'conv1_out_channels': 64, 'conv2_out_channels': 32, 'fc_hidden_units': 256}\n",
      "Best F1 score for speaker MIDS123, age 15: 0.5730\n"
     ]
    },
    {
     "name": "stderr",
     "output_type": "stream",
     "text": [
      "                                                             \r"
     ]
    },
    {
     "name": "stdout",
     "output_type": "stream",
     "text": [
      "Best trial for speaker MIDS124, age 6: {'batch_size': 16, 'learning_rate': 0.00012690179790823488, 'num_epochs': 16, 'conv1_out_channels': 16, 'conv2_out_channels': 64, 'fc_hidden_units': 256}\n",
      "Best F1 score for speaker MIDS124, age 6: 0.7243\n"
     ]
    },
    {
     "name": "stderr",
     "output_type": "stream",
     "text": [
      "                                                             \r"
     ]
    },
    {
     "name": "stdout",
     "output_type": "stream",
     "text": [
      "Best trial for speaker MIDS125, age 6: {'batch_size': 64, 'learning_rate': 0.0001162005469595888, 'num_epochs': 10, 'conv1_out_channels': 16, 'conv2_out_channels': 128, 'fc_hidden_units': 128}\n",
      "Best F1 score for speaker MIDS125, age 6: 0.7189\n"
     ]
    },
    {
     "name": "stderr",
     "output_type": "stream",
     "text": [
      "                                                             \r"
     ]
    },
    {
     "name": "stdout",
     "output_type": "stream",
     "text": [
      "Best trial for speaker MIDS126, age 6: {'batch_size': 16, 'learning_rate': 4.471112918659688e-05, 'num_epochs': 20, 'conv1_out_channels': 64, 'conv2_out_channels': 64, 'fc_hidden_units': 128}\n",
      "Best F1 score for speaker MIDS126, age 6: 0.6231\n"
     ]
    },
    {
     "name": "stderr",
     "output_type": "stream",
     "text": [
      "                                                             \r"
     ]
    },
    {
     "name": "stdout",
     "output_type": "stream",
     "text": [
      "Best trial for speaker MIDS127, age 6: {'batch_size': 64, 'learning_rate': 4.809461967501571e-05, 'num_epochs': 12, 'conv1_out_channels': 32, 'conv2_out_channels': 128, 'fc_hidden_units': 256}\n",
      "Best F1 score for speaker MIDS127, age 6: 0.6882\n"
     ]
    },
    {
     "name": "stderr",
     "output_type": "stream",
     "text": [
      "                                                             \r"
     ]
    },
    {
     "name": "stdout",
     "output_type": "stream",
     "text": [
      "Best trial for speaker MIDS127, age 15: {'batch_size': 64, 'learning_rate': 0.0003713740624438138, 'num_epochs': 19, 'conv1_out_channels': 16, 'conv2_out_channels': 128, 'fc_hidden_units': 64}\n",
      "Best F1 score for speaker MIDS127, age 15: 0.6623\n"
     ]
    },
    {
     "name": "stderr",
     "output_type": "stream",
     "text": [
      "                                                             \r"
     ]
    },
    {
     "name": "stdout",
     "output_type": "stream",
     "text": [
      "Best trial for speaker MIDS127, age 18: {'batch_size': 64, 'learning_rate': 0.000147554976748068, 'num_epochs': 34, 'conv1_out_channels': 16, 'conv2_out_channels': 128, 'fc_hidden_units': 256}\n",
      "Best F1 score for speaker MIDS127, age 18: 0.6582\n"
     ]
    },
    {
     "name": "stderr",
     "output_type": "stream",
     "text": [
      "                                                             \r"
     ]
    },
    {
     "name": "stdout",
     "output_type": "stream",
     "text": [
      "Best trial for speaker MIDS128, age 6: {'batch_size': 32, 'learning_rate': 0.00010572342944517371, 'num_epochs': 37, 'conv1_out_channels': 16, 'conv2_out_channels': 64, 'fc_hidden_units': 256}\n",
      "Best F1 score for speaker MIDS128, age 6: 0.6369\n"
     ]
    },
    {
     "name": "stderr",
     "output_type": "stream",
     "text": [
      "                                                             \r"
     ]
    },
    {
     "name": "stdout",
     "output_type": "stream",
     "text": [
      "Best trial for speaker MIDS128, age 15: {'batch_size': 16, 'learning_rate': 4.4465769607841094e-05, 'num_epochs': 31, 'conv1_out_channels': 16, 'conv2_out_channels': 64, 'fc_hidden_units': 128}\n",
      "Best F1 score for speaker MIDS128, age 15: 0.6181\n"
     ]
    },
    {
     "name": "stderr",
     "output_type": "stream",
     "text": [
      "                                                             \r"
     ]
    },
    {
     "name": "stdout",
     "output_type": "stream",
     "text": [
      "Best trial for speaker MIDS128, age 18: {'batch_size': 32, 'learning_rate': 0.0002254254980014065, 'num_epochs': 19, 'conv1_out_channels': 16, 'conv2_out_channels': 64, 'fc_hidden_units': 128}\n",
      "Best F1 score for speaker MIDS128, age 18: 0.5964\n"
     ]
    },
    {
     "name": "stderr",
     "output_type": "stream",
     "text": [
      "                                                             \r"
     ]
    },
    {
     "name": "stdout",
     "output_type": "stream",
     "text": [
      "Best trial for speaker MIDS129, age 6: {'batch_size': 32, 'learning_rate': 0.000147554976748068, 'num_epochs': 20, 'conv1_out_channels': 16, 'conv2_out_channels': 64, 'fc_hidden_units': 128}\n",
      "Best F1 score for speaker MIDS129, age 6: 0.6575\n"
     ]
    },
    {
     "name": "stderr",
     "output_type": "stream",
     "text": [
      "                                                             \r"
     ]
    },
    {
     "name": "stdout",
     "output_type": "stream",
     "text": [
      "Best trial for speaker MIDS130, age 6: {'batch_size': 32, 'learning_rate': 0.00044818391288943896, 'num_epochs': 19, 'conv1_out_channels': 64, 'conv2_out_channels': 32, 'fc_hidden_units': 256}\n",
      "Best F1 score for speaker MIDS130, age 6: 0.6724\n"
     ]
    },
    {
     "name": "stderr",
     "output_type": "stream",
     "text": [
      "                                                             \r"
     ]
    },
    {
     "name": "stdout",
     "output_type": "stream",
     "text": [
      "Best trial for speaker MIDS130, age 15: {'batch_size': 16, 'learning_rate': 0.0004861635631060982, 'num_epochs': 32, 'conv1_out_channels': 32, 'conv2_out_channels': 32, 'fc_hidden_units': 256}\n",
      "Best F1 score for speaker MIDS130, age 15: 0.6690\n"
     ]
    },
    {
     "name": "stderr",
     "output_type": "stream",
     "text": [
      "                                                             \r"
     ]
    },
    {
     "name": "stdout",
     "output_type": "stream",
     "text": [
      "Best trial for speaker MIDS130, age 18: {'batch_size': 32, 'learning_rate': 0.0002001342062287998, 'num_epochs': 25, 'conv1_out_channels': 32, 'conv2_out_channels': 64, 'fc_hidden_units': 256}\n",
      "Best F1 score for speaker MIDS130, age 18: 0.6998\n"
     ]
    },
    {
     "name": "stderr",
     "output_type": "stream",
     "text": [
      "                                                             \r"
     ]
    },
    {
     "name": "stdout",
     "output_type": "stream",
     "text": [
      "Best trial for speaker MIDS131, age 6: {'batch_size': 32, 'learning_rate': 0.0002001342062287998, 'num_epochs': 25, 'conv1_out_channels': 32, 'conv2_out_channels': 64, 'fc_hidden_units': 256}\n",
      "Best F1 score for speaker MIDS131, age 6: 0.6807\n"
     ]
    },
    {
     "name": "stderr",
     "output_type": "stream",
     "text": [
      "                                                             \r"
     ]
    },
    {
     "name": "stdout",
     "output_type": "stream",
     "text": [
      "Best trial for speaker MIDS131, age 9: {'batch_size': 64, 'learning_rate': 8.253087252344233e-05, 'num_epochs': 35, 'conv1_out_channels': 16, 'conv2_out_channels': 64, 'fc_hidden_units': 256}\n",
      "Best F1 score for speaker MIDS131, age 9: 0.6973\n"
     ]
    },
    {
     "name": "stderr",
     "output_type": "stream",
     "text": [
      "                                                             \r"
     ]
    },
    {
     "name": "stdout",
     "output_type": "stream",
     "text": [
      "Best trial for speaker MIDS131, age 12: {'batch_size': 64, 'learning_rate': 4.809461967501571e-05, 'num_epochs': 12, 'conv1_out_channels': 32, 'conv2_out_channels': 128, 'fc_hidden_units': 256}\n",
      "Best F1 score for speaker MIDS131, age 12: 0.6837\n"
     ]
    },
    {
     "name": "stderr",
     "output_type": "stream",
     "text": [
      "                                                             \r"
     ]
    },
    {
     "name": "stdout",
     "output_type": "stream",
     "text": [
      "Best trial for speaker MIDS131, age 15: {'batch_size': 32, 'learning_rate': 0.0002961019985044714, 'num_epochs': 30, 'conv1_out_channels': 16, 'conv2_out_channels': 64, 'fc_hidden_units': 256}\n",
      "Best F1 score for speaker MIDS131, age 15: 0.7064\n"
     ]
    },
    {
     "name": "stderr",
     "output_type": "stream",
     "text": [
      "                                                             \r"
     ]
    },
    {
     "name": "stdout",
     "output_type": "stream",
     "text": [
      "Best trial for speaker MIDS131, age 18: {'batch_size': 32, 'learning_rate': 0.0003466343621561473, 'num_epochs': 32, 'conv1_out_channels': 16, 'conv2_out_channels': 32, 'fc_hidden_units': 128}\n",
      "Best F1 score for speaker MIDS131, age 18: 0.6676\n"
     ]
    },
    {
     "name": "stderr",
     "output_type": "stream",
     "text": [
      "                                                             \r"
     ]
    },
    {
     "name": "stdout",
     "output_type": "stream",
     "text": [
      "Best trial for speaker MIDS132, age 6: {'batch_size': 32, 'learning_rate': 0.0002961019985044714, 'num_epochs': 30, 'conv1_out_channels': 16, 'conv2_out_channels': 64, 'fc_hidden_units': 256}\n",
      "Best F1 score for speaker MIDS132, age 6: 0.7088\n"
     ]
    },
    {
     "name": "stderr",
     "output_type": "stream",
     "text": [
      "                                                             \r"
     ]
    },
    {
     "name": "stdout",
     "output_type": "stream",
     "text": [
      "Best trial for speaker MIDS132, age 15: {'batch_size': 64, 'learning_rate': 7.433998438869716e-05, 'num_epochs': 36, 'conv1_out_channels': 16, 'conv2_out_channels': 64, 'fc_hidden_units': 256}\n",
      "Best F1 score for speaker MIDS132, age 15: 0.6766\n"
     ]
    },
    {
     "name": "stderr",
     "output_type": "stream",
     "text": [
      "                                                             \r"
     ]
    },
    {
     "name": "stdout",
     "output_type": "stream",
     "text": [
      "Best trial for speaker MIDS132, age 18: {'batch_size': 32, 'learning_rate': 0.0002001342062287998, 'num_epochs': 25, 'conv1_out_channels': 32, 'conv2_out_channels': 64, 'fc_hidden_units': 256}\n",
      "Best F1 score for speaker MIDS132, age 18: 0.6963\n"
     ]
    },
    {
     "name": "stderr",
     "output_type": "stream",
     "text": [
      "                                                             \r"
     ]
    },
    {
     "name": "stdout",
     "output_type": "stream",
     "text": [
      "Best trial for speaker MIDS133, age 6: {'batch_size': 32, 'learning_rate': 9.386101901907736e-05, 'num_epochs': 35, 'conv1_out_channels': 16, 'conv2_out_channels': 64, 'fc_hidden_units': 256}\n",
      "Best F1 score for speaker MIDS133, age 6: 0.6760\n"
     ]
    },
    {
     "name": "stderr",
     "output_type": "stream",
     "text": [
      "                                                             \r"
     ]
    },
    {
     "name": "stdout",
     "output_type": "stream",
     "text": [
      "Best trial for speaker MIDS133, age 15: {'batch_size': 32, 'learning_rate': 0.0002001342062287998, 'num_epochs': 25, 'conv1_out_channels': 32, 'conv2_out_channels': 64, 'fc_hidden_units': 256}\n",
      "Best F1 score for speaker MIDS133, age 15: 0.7194\n"
     ]
    },
    {
     "name": "stderr",
     "output_type": "stream",
     "text": [
      "                                                             \r"
     ]
    },
    {
     "name": "stdout",
     "output_type": "stream",
     "text": [
      "Best trial for speaker MIDS133, age 18: {'batch_size': 32, 'learning_rate': 0.0002001342062287998, 'num_epochs': 25, 'conv1_out_channels': 32, 'conv2_out_channels': 64, 'fc_hidden_units': 256}\n",
      "Best F1 score for speaker MIDS133, age 18: 0.6923\n"
     ]
    },
    {
     "name": "stderr",
     "output_type": "stream",
     "text": [
      "                                                             \r"
     ]
    },
    {
     "name": "stdout",
     "output_type": "stream",
     "text": [
      "Best trial for speaker MIDS134, age 6: {'batch_size': 16, 'learning_rate': 0.00013621829641362676, 'num_epochs': 16, 'conv1_out_channels': 32, 'conv2_out_channels': 64, 'fc_hidden_units': 128}\n",
      "Best F1 score for speaker MIDS134, age 6: 0.6856\n"
     ]
    },
    {
     "name": "stderr",
     "output_type": "stream",
     "text": [
      "                                                             \r"
     ]
    },
    {
     "name": "stdout",
     "output_type": "stream",
     "text": [
      "Best trial for speaker MIDS134, age 9: {'batch_size': 64, 'learning_rate': 4.809461967501571e-05, 'num_epochs': 12, 'conv1_out_channels': 32, 'conv2_out_channels': 128, 'fc_hidden_units': 256}\n",
      "Best F1 score for speaker MIDS134, age 9: 0.6897\n"
     ]
    },
    {
     "name": "stderr",
     "output_type": "stream",
     "text": [
      "                                                             \r"
     ]
    },
    {
     "name": "stdout",
     "output_type": "stream",
     "text": [
      "Best trial for speaker MIDS135, age 6: {'batch_size': 16, 'learning_rate': 0.00044924926571210497, 'num_epochs': 20, 'conv1_out_channels': 16, 'conv2_out_channels': 64, 'fc_hidden_units': 128}\n",
      "Best F1 score for speaker MIDS135, age 6: 0.6691\n"
     ]
    },
    {
     "name": "stderr",
     "output_type": "stream",
     "text": [
      "                                                             \r"
     ]
    },
    {
     "name": "stdout",
     "output_type": "stream",
     "text": [
      "Best trial for speaker MIDS135, age 9: {'batch_size': 64, 'learning_rate': 0.0012561043700013551, 'num_epochs': 27, 'conv1_out_channels': 32, 'conv2_out_channels': 128, 'fc_hidden_units': 64}\n",
      "Best F1 score for speaker MIDS135, age 9: 0.6742\n"
     ]
    },
    {
     "name": "stderr",
     "output_type": "stream",
     "text": [
      "                                                             \r"
     ]
    },
    {
     "name": "stdout",
     "output_type": "stream",
     "text": [
      "Best trial for speaker MIDS135, age 15: {'batch_size': 32, 'learning_rate': 0.0005512763080396745, 'num_epochs': 25, 'conv1_out_channels': 64, 'conv2_out_channels': 32, 'fc_hidden_units': 64}\n",
      "Best F1 score for speaker MIDS135, age 15: 0.6619\n"
     ]
    },
    {
     "name": "stderr",
     "output_type": "stream",
     "text": [
      "                                                             \r"
     ]
    },
    {
     "name": "stdout",
     "output_type": "stream",
     "text": [
      "Best trial for speaker MIDS135, age 18: {'batch_size': 64, 'learning_rate': 0.00027046485596073837, 'num_epochs': 35, 'conv1_out_channels': 16, 'conv2_out_channels': 64, 'fc_hidden_units': 128}\n",
      "Best F1 score for speaker MIDS135, age 18: 0.6829\n"
     ]
    },
    {
     "name": "stderr",
     "output_type": "stream",
     "text": [
      "                                                             \r"
     ]
    },
    {
     "name": "stdout",
     "output_type": "stream",
     "text": [
      "Best trial for speaker MIDS136, age 6: {'batch_size': 64, 'learning_rate': 0.0002001888993887211, 'num_epochs': 48, 'conv1_out_channels': 64, 'conv2_out_channels': 128, 'fc_hidden_units': 128}\n",
      "Best F1 score for speaker MIDS136, age 6: 0.7304\n"
     ]
    },
    {
     "name": "stderr",
     "output_type": "stream",
     "text": [
      "                                                             \r"
     ]
    },
    {
     "name": "stdout",
     "output_type": "stream",
     "text": [
      "Best trial for speaker MIDS136, age 9: {'batch_size': 64, 'learning_rate': 4.809461967501571e-05, 'num_epochs': 12, 'conv1_out_channels': 32, 'conv2_out_channels': 128, 'fc_hidden_units': 256}\n",
      "Best F1 score for speaker MIDS136, age 9: 0.6897\n"
     ]
    },
    {
     "name": "stderr",
     "output_type": "stream",
     "text": [
      "                                                             \r"
     ]
    },
    {
     "name": "stdout",
     "output_type": "stream",
     "text": [
      "Best trial for speaker MIDS136, age 15: {'batch_size': 32, 'learning_rate': 0.0002925833553531096, 'num_epochs': 36, 'conv1_out_channels': 64, 'conv2_out_channels': 32, 'fc_hidden_units': 256}\n",
      "Best F1 score for speaker MIDS136, age 15: 0.7130\n"
     ]
    },
    {
     "name": "stderr",
     "output_type": "stream",
     "text": [
      "                                                             \r"
     ]
    },
    {
     "name": "stdout",
     "output_type": "stream",
     "text": [
      "Best trial for speaker MIDS136, age 18: {'batch_size': 16, 'learning_rate': 0.0002745086921773568, 'num_epochs': 22, 'conv1_out_channels': 16, 'conv2_out_channels': 64, 'fc_hidden_units': 128}\n",
      "Best F1 score for speaker MIDS136, age 18: 0.7076\n"
     ]
    },
    {
     "name": "stderr",
     "output_type": "stream",
     "text": [
      "                                                             \r"
     ]
    },
    {
     "name": "stdout",
     "output_type": "stream",
     "text": [
      "Best trial for speaker MIDS137, age 6: {'batch_size': 64, 'learning_rate': 4.500042279353241e-05, 'num_epochs': 33, 'conv1_out_channels': 16, 'conv2_out_channels': 128, 'fc_hidden_units': 128}\n",
      "Best F1 score for speaker MIDS137, age 6: 0.6903\n"
     ]
    },
    {
     "name": "stderr",
     "output_type": "stream",
     "text": [
      "                                                             \r"
     ]
    },
    {
     "name": "stdout",
     "output_type": "stream",
     "text": [
      "Best trial for speaker MIDS137, age 9: {'batch_size': 32, 'learning_rate': 0.0002001342062287998, 'num_epochs': 25, 'conv1_out_channels': 32, 'conv2_out_channels': 64, 'fc_hidden_units': 256}\n",
      "Best F1 score for speaker MIDS137, age 9: 0.6864\n"
     ]
    },
    {
     "name": "stderr",
     "output_type": "stream",
     "text": [
      "                                                             \r"
     ]
    },
    {
     "name": "stdout",
     "output_type": "stream",
     "text": [
      "Best trial for speaker MIDS137, age 15: {'batch_size': 64, 'learning_rate': 0.00014168112804713784, 'num_epochs': 10, 'conv1_out_channels': 16, 'conv2_out_channels': 32, 'fc_hidden_units': 256}\n",
      "Best F1 score for speaker MIDS137, age 15: 0.5763\n"
     ]
    },
    {
     "name": "stderr",
     "output_type": "stream",
     "text": [
      "                                                             \r"
     ]
    },
    {
     "name": "stdout",
     "output_type": "stream",
     "text": [
      "Best trial for speaker MIDS137, age 18: {'batch_size': 32, 'learning_rate': 0.0002001342062287998, 'num_epochs': 25, 'conv1_out_channels': 32, 'conv2_out_channels': 64, 'fc_hidden_units': 256}\n",
      "Best F1 score for speaker MIDS137, age 18: 0.7023\n"
     ]
    },
    {
     "name": "stderr",
     "output_type": "stream",
     "text": [
      "                                                             \r"
     ]
    },
    {
     "name": "stdout",
     "output_type": "stream",
     "text": [
      "Best trial for speaker MIDS138, age 6: {'batch_size': 32, 'learning_rate': 0.003512704726270845, 'num_epochs': 22, 'conv1_out_channels': 32, 'conv2_out_channels': 64, 'fc_hidden_units': 128}\n",
      "Best F1 score for speaker MIDS138, age 6: 0.6728\n"
     ]
    },
    {
     "name": "stderr",
     "output_type": "stream",
     "text": [
      "                                                             \r"
     ]
    },
    {
     "name": "stdout",
     "output_type": "stream",
     "text": [
      "Best trial for speaker MIDS138, age 9: {'batch_size': 32, 'learning_rate': 0.00016283026570556506, 'num_epochs': 38, 'conv1_out_channels': 16, 'conv2_out_channels': 64, 'fc_hidden_units': 256}\n",
      "Best F1 score for speaker MIDS138, age 9: 0.6452\n"
     ]
    },
    {
     "name": "stderr",
     "output_type": "stream",
     "text": [
      "                                                             \r"
     ]
    },
    {
     "name": "stdout",
     "output_type": "stream",
     "text": [
      "Best trial for speaker MIDS138, age 15: {'batch_size': 64, 'learning_rate': 0.003550012525851159, 'num_epochs': 46, 'conv1_out_channels': 64, 'conv2_out_channels': 128, 'fc_hidden_units': 128}\n",
      "Best F1 score for speaker MIDS138, age 15: 0.6540\n"
     ]
    },
    {
     "name": "stderr",
     "output_type": "stream",
     "text": [
      "                                                             \r"
     ]
    },
    {
     "name": "stdout",
     "output_type": "stream",
     "text": [
      "Best trial for speaker MIDS138, age 18: {'batch_size': 16, 'learning_rate': 0.0007890976148310079, 'num_epochs': 18, 'conv1_out_channels': 64, 'conv2_out_channels': 128, 'fc_hidden_units': 128}\n",
      "Best F1 score for speaker MIDS138, age 18: 0.6809\n"
     ]
    },
    {
     "name": "stderr",
     "output_type": "stream",
     "text": [
      "                                                             \r"
     ]
    },
    {
     "name": "stdout",
     "output_type": "stream",
     "text": [
      "Best trial for speaker MIDS139, age 6: {'batch_size': 16, 'learning_rate': 3.723488200133041e-05, 'num_epochs': 32, 'conv1_out_channels': 16, 'conv2_out_channels': 64, 'fc_hidden_units': 128}\n",
      "Best F1 score for speaker MIDS139, age 6: 0.6383\n"
     ]
    },
    {
     "name": "stderr",
     "output_type": "stream",
     "text": [
      "                                                             \r"
     ]
    },
    {
     "name": "stdout",
     "output_type": "stream",
     "text": [
      "Best trial for speaker MIDS140, age 6: {'batch_size': 64, 'learning_rate': 0.003550012525851159, 'num_epochs': 46, 'conv1_out_channels': 64, 'conv2_out_channels': 128, 'fc_hidden_units': 128}\n",
      "Best F1 score for speaker MIDS140, age 6: 0.5811\n"
     ]
    },
    {
     "name": "stderr",
     "output_type": "stream",
     "text": [
      "                                                             \r"
     ]
    },
    {
     "name": "stdout",
     "output_type": "stream",
     "text": [
      "Best trial for speaker MIDS140, age 15: {'batch_size': 16, 'learning_rate': 0.0004330924996427894, 'num_epochs': 16, 'conv1_out_channels': 16, 'conv2_out_channels': 128, 'fc_hidden_units': 128}\n",
      "Best F1 score for speaker MIDS140, age 15: 0.7165\n"
     ]
    },
    {
     "name": "stderr",
     "output_type": "stream",
     "text": [
      "                                                             \r"
     ]
    },
    {
     "name": "stdout",
     "output_type": "stream",
     "text": [
      "Best trial for speaker MIDS141, age 9: {'batch_size': 32, 'learning_rate': 9.386101901907736e-05, 'num_epochs': 35, 'conv1_out_channels': 16, 'conv2_out_channels': 64, 'fc_hidden_units': 256}\n",
      "Best F1 score for speaker MIDS141, age 9: 0.5944\n"
     ]
    },
    {
     "name": "stderr",
     "output_type": "stream",
     "text": [
      "                                                             \r"
     ]
    },
    {
     "name": "stdout",
     "output_type": "stream",
     "text": [
      "Best trial for speaker MIDS142, age 6: {'batch_size': 32, 'learning_rate': 0.00010572342944517371, 'num_epochs': 37, 'conv1_out_channels': 16, 'conv2_out_channels': 64, 'fc_hidden_units': 256}\n",
      "Best F1 score for speaker MIDS142, age 6: 0.5204\n"
     ]
    },
    {
     "name": "stderr",
     "output_type": "stream",
     "text": [
      "                                                             \r"
     ]
    },
    {
     "name": "stdout",
     "output_type": "stream",
     "text": [
      "Best trial for speaker MIDS142, age 12: {'batch_size': 64, 'learning_rate': 0.003550012525851159, 'num_epochs': 46, 'conv1_out_channels': 64, 'conv2_out_channels': 128, 'fc_hidden_units': 128}\n",
      "Best F1 score for speaker MIDS142, age 12: 0.5165\n"
     ]
    },
    {
     "name": "stderr",
     "output_type": "stream",
     "text": [
      "                                                             \r"
     ]
    },
    {
     "name": "stdout",
     "output_type": "stream",
     "text": [
      "Best trial for speaker MIDS142, age 15: {'batch_size': 32, 'learning_rate': 5.535153350714574e-05, 'num_epochs': 17, 'conv1_out_channels': 64, 'conv2_out_channels': 32, 'fc_hidden_units': 256}\n",
      "Best F1 score for speaker MIDS142, age 15: 0.5284\n",
      "Skipping speaker MIDS142, age 18 due to missing classes.\n"
     ]
    },
    {
     "name": "stderr",
     "output_type": "stream",
     "text": [
      "                                                             \r"
     ]
    },
    {
     "name": "stdout",
     "output_type": "stream",
     "text": [
      "Best trial for speaker MIDS143, age 6: {'batch_size': 16, 'learning_rate': 4.527543406190344e-05, 'num_epochs': 18, 'conv1_out_channels': 64, 'conv2_out_channels': 128, 'fc_hidden_units': 256}\n",
      "Best F1 score for speaker MIDS143, age 6: 0.6743\n"
     ]
    },
    {
     "name": "stderr",
     "output_type": "stream",
     "text": [
      "                                                             \r"
     ]
    },
    {
     "name": "stdout",
     "output_type": "stream",
     "text": [
      "Best trial for speaker MIDS143, age 9: {'batch_size': 32, 'learning_rate': 0.00010572342944517371, 'num_epochs': 37, 'conv1_out_channels': 16, 'conv2_out_channels': 64, 'fc_hidden_units': 256}\n",
      "Best F1 score for speaker MIDS143, age 9: 0.7138\n"
     ]
    },
    {
     "name": "stderr",
     "output_type": "stream",
     "text": [
      "                                                             \r"
     ]
    },
    {
     "name": "stdout",
     "output_type": "stream",
     "text": [
      "Best trial for speaker MIDS144, age 6: {'batch_size': 32, 'learning_rate': 0.0011040511903162248, 'num_epochs': 27, 'conv1_out_channels': 64, 'conv2_out_channels': 32, 'fc_hidden_units': 256}\n",
      "Best F1 score for speaker MIDS144, age 6: 0.6597\n"
     ]
    },
    {
     "name": "stderr",
     "output_type": "stream",
     "text": [
      "                                                             \r"
     ]
    },
    {
     "name": "stdout",
     "output_type": "stream",
     "text": [
      "Best trial for speaker MIDS144, age 15: {'batch_size': 16, 'learning_rate': 0.0003466343621561473, 'num_epochs': 32, 'conv1_out_channels': 16, 'conv2_out_channels': 64, 'fc_hidden_units': 128}\n",
      "Best F1 score for speaker MIDS144, age 15: 0.6835\n"
     ]
    },
    {
     "name": "stderr",
     "output_type": "stream",
     "text": [
      "                                                             \r"
     ]
    },
    {
     "name": "stdout",
     "output_type": "stream",
     "text": [
      "Best trial for speaker MIDS144, age 18: {'batch_size': 32, 'learning_rate': 0.00033222546724381684, 'num_epochs': 31, 'conv1_out_channels': 16, 'conv2_out_channels': 64, 'fc_hidden_units': 256}\n",
      "Best F1 score for speaker MIDS144, age 18: 0.6665\n"
     ]
    },
    {
     "name": "stderr",
     "output_type": "stream",
     "text": [
      "                                                             \r"
     ]
    },
    {
     "name": "stdout",
     "output_type": "stream",
     "text": [
      "Best trial for speaker MIDS145, age 6: {'batch_size': 64, 'learning_rate': 0.00014792484182631695, 'num_epochs': 36, 'conv1_out_channels': 16, 'conv2_out_channels': 32, 'fc_hidden_units': 64}\n",
      "Best F1 score for speaker MIDS145, age 6: 0.6867\n"
     ]
    },
    {
     "name": "stderr",
     "output_type": "stream",
     "text": [
      "                                                             \r"
     ]
    },
    {
     "name": "stdout",
     "output_type": "stream",
     "text": [
      "Best trial for speaker MIDS145, age 9: {'batch_size': 64, 'learning_rate': 7.470766943797431e-05, 'num_epochs': 35, 'conv1_out_channels': 16, 'conv2_out_channels': 32, 'fc_hidden_units': 256}\n",
      "Best F1 score for speaker MIDS145, age 9: 0.7285\n"
     ]
    },
    {
     "name": "stderr",
     "output_type": "stream",
     "text": [
      "                                                             \r"
     ]
    },
    {
     "name": "stdout",
     "output_type": "stream",
     "text": [
      "Best trial for speaker MIDS146, age 6: {'batch_size': 32, 'learning_rate': 0.0003736712392741168, 'num_epochs': 33, 'conv1_out_channels': 32, 'conv2_out_channels': 64, 'fc_hidden_units': 128}\n",
      "Best F1 score for speaker MIDS146, age 6: 0.6198\n"
     ]
    },
    {
     "name": "stderr",
     "output_type": "stream",
     "text": [
      "                                                             \r"
     ]
    },
    {
     "name": "stdout",
     "output_type": "stream",
     "text": [
      "Best trial for speaker MIDS147, age 6: {'batch_size': 32, 'learning_rate': 0.0002001342062287998, 'num_epochs': 25, 'conv1_out_channels': 32, 'conv2_out_channels': 64, 'fc_hidden_units': 256}\n",
      "Best F1 score for speaker MIDS147, age 6: 0.7148\n"
     ]
    },
    {
     "name": "stderr",
     "output_type": "stream",
     "text": [
      "                                                             \r"
     ]
    },
    {
     "name": "stdout",
     "output_type": "stream",
     "text": [
      "Best trial for speaker MIDS147, age 9: {'batch_size': 16, 'learning_rate': 0.0008818418966348081, 'num_epochs': 34, 'conv1_out_channels': 16, 'conv2_out_channels': 32, 'fc_hidden_units': 128}\n",
      "Best F1 score for speaker MIDS147, age 9: 0.6854\n"
     ]
    },
    {
     "name": "stderr",
     "output_type": "stream",
     "text": [
      "                                                             \r"
     ]
    },
    {
     "name": "stdout",
     "output_type": "stream",
     "text": [
      "Best trial for speaker MIDS147, age 12: {'batch_size': 64, 'learning_rate': 0.01073104825301875, 'num_epochs': 24, 'conv1_out_channels': 16, 'conv2_out_channels': 32, 'fc_hidden_units': 64}\n",
      "Best F1 score for speaker MIDS147, age 12: 0.6401\n"
     ]
    },
    {
     "name": "stderr",
     "output_type": "stream",
     "text": [
      "                                                             \r"
     ]
    },
    {
     "name": "stdout",
     "output_type": "stream",
     "text": [
      "Best trial for speaker MIDS147, age 15: {'batch_size': 32, 'learning_rate': 0.0002001342062287998, 'num_epochs': 25, 'conv1_out_channels': 32, 'conv2_out_channels': 64, 'fc_hidden_units': 256}\n",
      "Best F1 score for speaker MIDS147, age 15: 0.6883\n"
     ]
    },
    {
     "name": "stderr",
     "output_type": "stream",
     "text": [
      "                                                             \r"
     ]
    },
    {
     "name": "stdout",
     "output_type": "stream",
     "text": [
      "Best trial for speaker MIDS147, age 18: {'batch_size': 32, 'learning_rate': 0.0011040511903162248, 'num_epochs': 27, 'conv1_out_channels': 64, 'conv2_out_channels': 32, 'fc_hidden_units': 256}\n",
      "Best F1 score for speaker MIDS147, age 18: 0.7290\n"
     ]
    },
    {
     "name": "stderr",
     "output_type": "stream",
     "text": [
      "                                                             \r"
     ]
    },
    {
     "name": "stdout",
     "output_type": "stream",
     "text": [
      "Best trial for speaker MIDS148, age 6: {'batch_size': 16, 'learning_rate': 0.0004782536273900284, 'num_epochs': 16, 'conv1_out_channels': 16, 'conv2_out_channels': 64, 'fc_hidden_units': 128}\n",
      "Best F1 score for speaker MIDS148, age 6: 0.6849\n"
     ]
    },
    {
     "name": "stderr",
     "output_type": "stream",
     "text": [
      "                                                             \r"
     ]
    },
    {
     "name": "stdout",
     "output_type": "stream",
     "text": [
      "Best trial for speaker MIDS148, age 15: {'batch_size': 32, 'learning_rate': 0.0001833927667476097, 'num_epochs': 10, 'conv1_out_channels': 16, 'conv2_out_channels': 32, 'fc_hidden_units': 256}\n",
      "Best F1 score for speaker MIDS148, age 15: 0.6963\n"
     ]
    },
    {
     "name": "stderr",
     "output_type": "stream",
     "text": [
      "                                                             \r"
     ]
    },
    {
     "name": "stdout",
     "output_type": "stream",
     "text": [
      "Best trial for speaker MIDS148, age 18: {'batch_size': 32, 'learning_rate': 0.004467752817973905, 'num_epochs': 22, 'conv1_out_channels': 32, 'conv2_out_channels': 32, 'fc_hidden_units': 256}\n",
      "Best F1 score for speaker MIDS148, age 18: 0.6581\n"
     ]
    },
    {
     "name": "stderr",
     "output_type": "stream",
     "text": [
      "                                                             \r"
     ]
    },
    {
     "name": "stdout",
     "output_type": "stream",
     "text": [
      "Best trial for speaker MIDS149, age 6: {'batch_size': 32, 'learning_rate': 0.0002001342062287998, 'num_epochs': 25, 'conv1_out_channels': 32, 'conv2_out_channels': 64, 'fc_hidden_units': 256}\n",
      "Best F1 score for speaker MIDS149, age 6: 0.5644\n"
     ]
    },
    {
     "name": "stderr",
     "output_type": "stream",
     "text": [
      "                                                             \r"
     ]
    },
    {
     "name": "stdout",
     "output_type": "stream",
     "text": [
      "Best trial for speaker MIDS150, age 6: {'batch_size': 64, 'learning_rate': 9.38028462324788e-05, 'num_epochs': 34, 'conv1_out_channels': 16, 'conv2_out_channels': 128, 'fc_hidden_units': 128}\n",
      "Best F1 score for speaker MIDS150, age 6: 0.5950\n"
     ]
    },
    {
     "name": "stderr",
     "output_type": "stream",
     "text": [
      "                                                             \r"
     ]
    },
    {
     "name": "stdout",
     "output_type": "stream",
     "text": [
      "Best trial for speaker MIDS150, age 12: {'batch_size': 32, 'learning_rate': 0.003512704726270845, 'num_epochs': 22, 'conv1_out_channels': 32, 'conv2_out_channels': 64, 'fc_hidden_units': 128}\n",
      "Best F1 score for speaker MIDS150, age 12: 0.5673\n"
     ]
    },
    {
     "name": "stderr",
     "output_type": "stream",
     "text": [
      "                                                             \r"
     ]
    },
    {
     "name": "stdout",
     "output_type": "stream",
     "text": [
      "Best trial for speaker MIDS150, age 15: {'batch_size': 16, 'learning_rate': 2.4842842733402366e-05, 'num_epochs': 33, 'conv1_out_channels': 32, 'conv2_out_channels': 32, 'fc_hidden_units': 256}\n",
      "Best F1 score for speaker MIDS150, age 15: 0.5512\n"
     ]
    },
    {
     "name": "stderr",
     "output_type": "stream",
     "text": [
      "                                                             \r"
     ]
    },
    {
     "name": "stdout",
     "output_type": "stream",
     "text": [
      "Best trial for speaker MIDS151, age 6: {'batch_size': 64, 'learning_rate': 0.00020345213803922406, 'num_epochs': 18, 'conv1_out_channels': 16, 'conv2_out_channels': 64, 'fc_hidden_units': 128}\n",
      "Best F1 score for speaker MIDS151, age 6: 0.6939\n"
     ]
    },
    {
     "name": "stderr",
     "output_type": "stream",
     "text": [
      "                                                             \r"
     ]
    },
    {
     "name": "stdout",
     "output_type": "stream",
     "text": [
      "Best trial for speaker MIDS151, age 18: {'batch_size': 64, 'learning_rate': 7.761594161440962e-05, 'num_epochs': 10, 'conv1_out_channels': 16, 'conv2_out_channels': 128, 'fc_hidden_units': 256}\n",
      "Best F1 score for speaker MIDS151, age 18: 0.6639\n"
     ]
    },
    {
     "name": "stderr",
     "output_type": "stream",
     "text": [
      "                                                             \r"
     ]
    },
    {
     "name": "stdout",
     "output_type": "stream",
     "text": [
      "Best trial for speaker MIDS152, age 6: {'batch_size': 32, 'learning_rate': 0.003512704726270845, 'num_epochs': 22, 'conv1_out_channels': 32, 'conv2_out_channels': 64, 'fc_hidden_units': 128}\n",
      "Best F1 score for speaker MIDS152, age 6: 0.6146\n"
     ]
    },
    {
     "name": "stderr",
     "output_type": "stream",
     "text": [
      "                                                             \r"
     ]
    },
    {
     "name": "stdout",
     "output_type": "stream",
     "text": [
      "Best trial for speaker MIDS153, age 6: {'batch_size': 32, 'learning_rate': 0.00010572342944517371, 'num_epochs': 37, 'conv1_out_channels': 16, 'conv2_out_channels': 64, 'fc_hidden_units': 256}\n",
      "Best F1 score for speaker MIDS153, age 6: 0.6862\n"
     ]
    },
    {
     "name": "stderr",
     "output_type": "stream",
     "text": [
      "                                                             \r"
     ]
    },
    {
     "name": "stdout",
     "output_type": "stream",
     "text": [
      "Best trial for speaker MIDS153, age 12: {'batch_size': 64, 'learning_rate': 0.00018887255861311535, 'num_epochs': 35, 'conv1_out_channels': 16, 'conv2_out_channels': 64, 'fc_hidden_units': 256}\n",
      "Best F1 score for speaker MIDS153, age 12: 0.6716\n"
     ]
    },
    {
     "name": "stderr",
     "output_type": "stream",
     "text": [
      "                                                             \r"
     ]
    },
    {
     "name": "stdout",
     "output_type": "stream",
     "text": [
      "Best trial for speaker MIDS153, age 15: {'batch_size': 64, 'learning_rate': 7.433998438869716e-05, 'num_epochs': 36, 'conv1_out_channels': 16, 'conv2_out_channels': 64, 'fc_hidden_units': 256}\n",
      "Best F1 score for speaker MIDS153, age 15: 0.7115\n"
     ]
    },
    {
     "name": "stderr",
     "output_type": "stream",
     "text": [
      "                                                             \r"
     ]
    },
    {
     "name": "stdout",
     "output_type": "stream",
     "text": [
      "Best trial for speaker MIDS153, age 18: {'batch_size': 32, 'learning_rate': 0.00010572342944517371, 'num_epochs': 37, 'conv1_out_channels': 16, 'conv2_out_channels': 64, 'fc_hidden_units': 256}\n",
      "Best F1 score for speaker MIDS153, age 18: 0.6623\n"
     ]
    },
    {
     "name": "stderr",
     "output_type": "stream",
     "text": [
      "                                                             \r"
     ]
    },
    {
     "name": "stdout",
     "output_type": "stream",
     "text": [
      "Best trial for speaker MIDS154, age 6: {'batch_size': 32, 'learning_rate': 0.00010572342944517371, 'num_epochs': 37, 'conv1_out_channels': 16, 'conv2_out_channels': 64, 'fc_hidden_units': 256}\n",
      "Best F1 score for speaker MIDS154, age 6: 0.7052\n"
     ]
    },
    {
     "name": "stderr",
     "output_type": "stream",
     "text": [
      "                                                             \r"
     ]
    },
    {
     "name": "stdout",
     "output_type": "stream",
     "text": [
      "Best trial for speaker MIDS154, age 9: {'batch_size': 32, 'learning_rate': 0.003512704726270845, 'num_epochs': 22, 'conv1_out_channels': 32, 'conv2_out_channels': 64, 'fc_hidden_units': 128}\n",
      "Best F1 score for speaker MIDS154, age 9: 0.7072\n"
     ]
    },
    {
     "name": "stderr",
     "output_type": "stream",
     "text": [
      "                                                             \r"
     ]
    },
    {
     "name": "stdout",
     "output_type": "stream",
     "text": [
      "Best trial for speaker MIDS154, age 15: {'batch_size': 16, 'learning_rate': 0.0006734779720127743, 'num_epochs': 47, 'conv1_out_channels': 16, 'conv2_out_channels': 32, 'fc_hidden_units': 128}\n",
      "Best F1 score for speaker MIDS154, age 15: 0.6783\n"
     ]
    },
    {
     "name": "stderr",
     "output_type": "stream",
     "text": [
      "                                                             \r"
     ]
    },
    {
     "name": "stdout",
     "output_type": "stream",
     "text": [
      "Best trial for speaker MIDS154, age 18: {'batch_size': 16, 'learning_rate': 0.0004656492842026573, 'num_epochs': 50, 'conv1_out_channels': 64, 'conv2_out_channels': 32, 'fc_hidden_units': 128}\n",
      "Best F1 score for speaker MIDS154, age 18: 0.6943\n"
     ]
    },
    {
     "name": "stderr",
     "output_type": "stream",
     "text": [
      "                                                             \r"
     ]
    },
    {
     "name": "stdout",
     "output_type": "stream",
     "text": [
      "Best trial for speaker MIDS155, age 6: {'batch_size': 16, 'learning_rate': 2.5918401244167573e-05, 'num_epochs': 20, 'conv1_out_channels': 64, 'conv2_out_channels': 128, 'fc_hidden_units': 128}\n",
      "Best F1 score for speaker MIDS155, age 6: 0.6584\n"
     ]
    },
    {
     "name": "stderr",
     "output_type": "stream",
     "text": [
      "                                                             \r"
     ]
    },
    {
     "name": "stdout",
     "output_type": "stream",
     "text": [
      "Best trial for speaker MIDS155, age 12: {'batch_size': 64, 'learning_rate': 8.253087252344233e-05, 'num_epochs': 35, 'conv1_out_channels': 16, 'conv2_out_channels': 64, 'fc_hidden_units': 256}\n",
      "Best F1 score for speaker MIDS155, age 12: 0.6793\n"
     ]
    },
    {
     "name": "stderr",
     "output_type": "stream",
     "text": [
      "                                                             \r"
     ]
    },
    {
     "name": "stdout",
     "output_type": "stream",
     "text": [
      "Best trial for speaker MIDS155, age 15: {'batch_size': 64, 'learning_rate': 0.00039803640722445494, 'num_epochs': 14, 'conv1_out_channels': 32, 'conv2_out_channels': 128, 'fc_hidden_units': 256}\n",
      "Best F1 score for speaker MIDS155, age 15: 0.6885\n"
     ]
    },
    {
     "name": "stderr",
     "output_type": "stream",
     "text": [
      "                                                             \r"
     ]
    },
    {
     "name": "stdout",
     "output_type": "stream",
     "text": [
      "Best trial for speaker MIDS155, age 18: {'batch_size': 32, 'learning_rate': 0.00026769395834114787, 'num_epochs': 32, 'conv1_out_channels': 16, 'conv2_out_channels': 128, 'fc_hidden_units': 128}\n",
      "Best F1 score for speaker MIDS155, age 18: 0.6966\n"
     ]
    },
    {
     "name": "stderr",
     "output_type": "stream",
     "text": [
      "                                                             \r"
     ]
    },
    {
     "name": "stdout",
     "output_type": "stream",
     "text": [
      "Best trial for speaker MIDS156, age 6: {'batch_size': 64, 'learning_rate': 0.0002199460960216832, 'num_epochs': 18, 'conv1_out_channels': 16, 'conv2_out_channels': 128, 'fc_hidden_units': 256}\n",
      "Best F1 score for speaker MIDS156, age 6: 0.7240\n"
     ]
    },
    {
     "name": "stderr",
     "output_type": "stream",
     "text": [
      "                                                             \r"
     ]
    },
    {
     "name": "stdout",
     "output_type": "stream",
     "text": [
      "Best trial for speaker MIDS156, age 15: {'batch_size': 64, 'learning_rate': 0.00016881438082183217, 'num_epochs': 34, 'conv1_out_channels': 64, 'conv2_out_channels': 32, 'fc_hidden_units': 256}\n",
      "Best F1 score for speaker MIDS156, age 15: 0.6978\n"
     ]
    },
    {
     "name": "stderr",
     "output_type": "stream",
     "text": [
      "                                                             \r"
     ]
    },
    {
     "name": "stdout",
     "output_type": "stream",
     "text": [
      "Best trial for speaker MIDS157, age 6: {'batch_size': 32, 'learning_rate': 0.0011040511903162248, 'num_epochs': 27, 'conv1_out_channels': 64, 'conv2_out_channels': 32, 'fc_hidden_units': 256}\n",
      "Best F1 score for speaker MIDS157, age 6: 0.7032\n"
     ]
    },
    {
     "name": "stderr",
     "output_type": "stream",
     "text": [
      "                                                             \r"
     ]
    },
    {
     "name": "stdout",
     "output_type": "stream",
     "text": [
      "Best trial for speaker MIDS157, age 15: {'batch_size': 32, 'learning_rate': 0.0002001342062287998, 'num_epochs': 25, 'conv1_out_channels': 32, 'conv2_out_channels': 64, 'fc_hidden_units': 256}\n",
      "Best F1 score for speaker MIDS157, age 15: 0.6468\n"
     ]
    },
    {
     "name": "stderr",
     "output_type": "stream",
     "text": [
      "                                                             \r"
     ]
    },
    {
     "name": "stdout",
     "output_type": "stream",
     "text": [
      "Best trial for speaker MIDS157, age 18: {'batch_size': 32, 'learning_rate': 0.0006016397835374195, 'num_epochs': 50, 'conv1_out_channels': 64, 'conv2_out_channels': 32, 'fc_hidden_units': 256}\n",
      "Best F1 score for speaker MIDS157, age 18: 0.6611\n"
     ]
    },
    {
     "name": "stderr",
     "output_type": "stream",
     "text": [
      "                                                             \r"
     ]
    },
    {
     "name": "stdout",
     "output_type": "stream",
     "text": [
      "Best trial for speaker MIDS158, age 6: {'batch_size': 32, 'learning_rate': 0.000147554976748068, 'num_epochs': 18, 'conv1_out_channels': 32, 'conv2_out_channels': 128, 'fc_hidden_units': 128}\n",
      "Best F1 score for speaker MIDS158, age 6: 0.6052\n"
     ]
    },
    {
     "name": "stderr",
     "output_type": "stream",
     "text": [
      "                                                             \r"
     ]
    },
    {
     "name": "stdout",
     "output_type": "stream",
     "text": [
      "Best trial for speaker MIDS159, age 6: {'batch_size': 64, 'learning_rate': 0.0002207306150446444, 'num_epochs': 34, 'conv1_out_channels': 64, 'conv2_out_channels': 64, 'fc_hidden_units': 256}\n",
      "Best F1 score for speaker MIDS159, age 6: 0.6799\n"
     ]
    },
    {
     "name": "stderr",
     "output_type": "stream",
     "text": [
      "                                                             \r"
     ]
    },
    {
     "name": "stdout",
     "output_type": "stream",
     "text": [
      "Best trial for speaker MIDS159, age 9: {'batch_size': 64, 'learning_rate': 4.809461967501571e-05, 'num_epochs': 12, 'conv1_out_channels': 32, 'conv2_out_channels': 128, 'fc_hidden_units': 256}\n",
      "Best F1 score for speaker MIDS159, age 9: 0.6848\n"
     ]
    },
    {
     "name": "stderr",
     "output_type": "stream",
     "text": [
      "                                                             \r"
     ]
    },
    {
     "name": "stdout",
     "output_type": "stream",
     "text": [
      "Best trial for speaker MIDS159, age 15: {'batch_size': 32, 'learning_rate': 0.000147554976748068, 'num_epochs': 20, 'conv1_out_channels': 16, 'conv2_out_channels': 64, 'fc_hidden_units': 128}\n",
      "Best F1 score for speaker MIDS159, age 15: 0.6909\n"
     ]
    },
    {
     "name": "stderr",
     "output_type": "stream",
     "text": [
      "                                                             \r"
     ]
    },
    {
     "name": "stdout",
     "output_type": "stream",
     "text": [
      "Best trial for speaker MIDS159, age 18: {'batch_size': 64, 'learning_rate': 0.00032181572306875996, 'num_epochs': 13, 'conv1_out_channels': 32, 'conv2_out_channels': 128, 'fc_hidden_units': 256}\n",
      "Best F1 score for speaker MIDS159, age 18: 0.6796\n"
     ]
    },
    {
     "name": "stderr",
     "output_type": "stream",
     "text": [
      "                                                             \r"
     ]
    },
    {
     "name": "stdout",
     "output_type": "stream",
     "text": [
      "Best trial for speaker MIDS160, age 6: {'batch_size': 64, 'learning_rate': 0.00039803640722445494, 'num_epochs': 34, 'conv1_out_channels': 64, 'conv2_out_channels': 32, 'fc_hidden_units': 256}\n",
      "Best F1 score for speaker MIDS160, age 6: 0.6522\n"
     ]
    },
    {
     "name": "stderr",
     "output_type": "stream",
     "text": [
      "                                                             \r"
     ]
    },
    {
     "name": "stdout",
     "output_type": "stream",
     "text": [
      "Best trial for speaker MIDS160, age 15: {'batch_size': 16, 'learning_rate': 0.00034291786577325293, 'num_epochs': 17, 'conv1_out_channels': 32, 'conv2_out_channels': 128, 'fc_hidden_units': 256}\n",
      "Best F1 score for speaker MIDS160, age 15: 0.6887\n"
     ]
    },
    {
     "name": "stderr",
     "output_type": "stream",
     "text": [
      "                                                             \r"
     ]
    },
    {
     "name": "stdout",
     "output_type": "stream",
     "text": [
      "Best trial for speaker MIDS161, age 6: {'batch_size': 64, 'learning_rate': 7.433998438869716e-05, 'num_epochs': 36, 'conv1_out_channels': 16, 'conv2_out_channels': 64, 'fc_hidden_units': 256}\n",
      "Best F1 score for speaker MIDS161, age 6: 0.5485\n"
     ]
    },
    {
     "name": "stderr",
     "output_type": "stream",
     "text": [
      "                                                             \r"
     ]
    },
    {
     "name": "stdout",
     "output_type": "stream",
     "text": [
      "Best trial for speaker MIDS162, age 6: {'batch_size': 32, 'learning_rate': 0.0002001342062287998, 'num_epochs': 25, 'conv1_out_channels': 32, 'conv2_out_channels': 64, 'fc_hidden_units': 256}\n",
      "Best F1 score for speaker MIDS162, age 6: 0.7019\n"
     ]
    },
    {
     "name": "stderr",
     "output_type": "stream",
     "text": [
      "                                                             \r"
     ]
    },
    {
     "name": "stdout",
     "output_type": "stream",
     "text": [
      "Best trial for speaker MIDS163, age 6: {'batch_size': 32, 'learning_rate': 0.0002961019985044714, 'num_epochs': 30, 'conv1_out_channels': 16, 'conv2_out_channels': 64, 'fc_hidden_units': 256}\n",
      "Best F1 score for speaker MIDS163, age 6: 0.6819\n"
     ]
    },
    {
     "name": "stderr",
     "output_type": "stream",
     "text": [
      "                                                             \r"
     ]
    },
    {
     "name": "stdout",
     "output_type": "stream",
     "text": [
      "Best trial for speaker MIDS163, age 12: {'batch_size': 32, 'learning_rate': 0.00010572342944517371, 'num_epochs': 37, 'conv1_out_channels': 16, 'conv2_out_channels': 64, 'fc_hidden_units': 256}\n",
      "Best F1 score for speaker MIDS163, age 12: 0.6796\n"
     ]
    },
    {
     "name": "stderr",
     "output_type": "stream",
     "text": [
      "                                                             \r"
     ]
    },
    {
     "name": "stdout",
     "output_type": "stream",
     "text": [
      "Best trial for speaker MIDS163, age 15: {'batch_size': 32, 'learning_rate': 9.386101901907736e-05, 'num_epochs': 35, 'conv1_out_channels': 16, 'conv2_out_channels': 64, 'fc_hidden_units': 256}\n",
      "Best F1 score for speaker MIDS163, age 15: 0.6792\n"
     ]
    },
    {
     "name": "stderr",
     "output_type": "stream",
     "text": [
      "                                                             \r"
     ]
    },
    {
     "name": "stdout",
     "output_type": "stream",
     "text": [
      "Best trial for speaker MIDS163, age 18: {'batch_size': 32, 'learning_rate': 9.928065791191443e-05, 'num_epochs': 50, 'conv1_out_channels': 16, 'conv2_out_channels': 64, 'fc_hidden_units': 256}\n",
      "Best F1 score for speaker MIDS163, age 18: 0.7035\n"
     ]
    },
    {
     "name": "stderr",
     "output_type": "stream",
     "text": [
      "                                                             \r"
     ]
    },
    {
     "name": "stdout",
     "output_type": "stream",
     "text": [
      "Best trial for speaker MIDS164, age 6: {'batch_size': 32, 'learning_rate': 0.00036309111715907575, 'num_epochs': 46, 'conv1_out_channels': 16, 'conv2_out_channels': 64, 'fc_hidden_units': 256}\n",
      "Best F1 score for speaker MIDS164, age 6: 0.6448\n"
     ]
    },
    {
     "name": "stderr",
     "output_type": "stream",
     "text": [
      "                                                             \r"
     ]
    },
    {
     "name": "stdout",
     "output_type": "stream",
     "text": [
      "Best trial for speaker MIDS164, age 12: {'batch_size': 64, 'learning_rate': 4.809461967501571e-05, 'num_epochs': 12, 'conv1_out_channels': 32, 'conv2_out_channels': 128, 'fc_hidden_units': 256}\n",
      "Best F1 score for speaker MIDS164, age 12: 0.6672\n"
     ]
    },
    {
     "name": "stderr",
     "output_type": "stream",
     "text": [
      "                                                             \r"
     ]
    },
    {
     "name": "stdout",
     "output_type": "stream",
     "text": [
      "Best trial for speaker MIDS164, age 15: {'batch_size': 32, 'learning_rate': 0.0002001342062287998, 'num_epochs': 25, 'conv1_out_channels': 32, 'conv2_out_channels': 64, 'fc_hidden_units': 256}\n",
      "Best F1 score for speaker MIDS164, age 15: 0.6882\n"
     ]
    },
    {
     "name": "stderr",
     "output_type": "stream",
     "text": [
      "                                                             \r"
     ]
    },
    {
     "name": "stdout",
     "output_type": "stream",
     "text": [
      "Best trial for speaker MIDS164, age 18: {'batch_size': 64, 'learning_rate': 0.0012561043700013551, 'num_epochs': 27, 'conv1_out_channels': 32, 'conv2_out_channels': 128, 'fc_hidden_units': 64}\n",
      "Best F1 score for speaker MIDS164, age 18: 0.6093\n"
     ]
    },
    {
     "name": "stderr",
     "output_type": "stream",
     "text": [
      "                                                             \r"
     ]
    },
    {
     "name": "stdout",
     "output_type": "stream",
     "text": [
      "Best trial for speaker MIDS165, age 6: {'batch_size': 32, 'learning_rate': 0.0002001342062287998, 'num_epochs': 25, 'conv1_out_channels': 32, 'conv2_out_channels': 64, 'fc_hidden_units': 256}\n",
      "Best F1 score for speaker MIDS165, age 6: 0.6938\n"
     ]
    },
    {
     "name": "stderr",
     "output_type": "stream",
     "text": [
      "                                                             \r"
     ]
    },
    {
     "name": "stdout",
     "output_type": "stream",
     "text": [
      "Best trial for speaker MIDS165, age 9: {'batch_size': 16, 'learning_rate': 7.710028186445009e-05, 'num_epochs': 15, 'conv1_out_channels': 16, 'conv2_out_channels': 128, 'fc_hidden_units': 128}\n",
      "Best F1 score for speaker MIDS165, age 9: 0.6764\n"
     ]
    },
    {
     "name": "stderr",
     "output_type": "stream",
     "text": [
      "                                                             \r"
     ]
    },
    {
     "name": "stdout",
     "output_type": "stream",
     "text": [
      "Best trial for speaker MIDS165, age 15: {'batch_size': 16, 'learning_rate': 2.693528547857426e-05, 'num_epochs': 22, 'conv1_out_channels': 16, 'conv2_out_channels': 64, 'fc_hidden_units': 128}\n",
      "Best F1 score for speaker MIDS165, age 15: 0.6492\n"
     ]
    },
    {
     "name": "stderr",
     "output_type": "stream",
     "text": [
      "                                                             \r"
     ]
    },
    {
     "name": "stdout",
     "output_type": "stream",
     "text": [
      "Best trial for speaker MIDS166, age 6: {'batch_size': 32, 'learning_rate': 0.00016283026570556506, 'num_epochs': 38, 'conv1_out_channels': 16, 'conv2_out_channels': 64, 'fc_hidden_units': 256}\n",
      "Best F1 score for speaker MIDS166, age 6: 0.7265\n"
     ]
    },
    {
     "name": "stderr",
     "output_type": "stream",
     "text": [
      "                                                             \r"
     ]
    },
    {
     "name": "stdout",
     "output_type": "stream",
     "text": [
      "Best trial for speaker MIDS166, age 18: {'batch_size': 32, 'learning_rate': 0.00039803640722445494, 'num_epochs': 39, 'conv1_out_channels': 32, 'conv2_out_channels': 64, 'fc_hidden_units': 256}\n",
      "Best F1 score for speaker MIDS166, age 18: 0.6689\n"
     ]
    },
    {
     "name": "stderr",
     "output_type": "stream",
     "text": [
      "                                                             \r"
     ]
    },
    {
     "name": "stdout",
     "output_type": "stream",
     "text": [
      "Best trial for speaker MIDS168, age 6: {'batch_size': 16, 'learning_rate': 0.00039100739006582693, 'num_epochs': 48, 'conv1_out_channels': 16, 'conv2_out_channels': 64, 'fc_hidden_units': 128}\n",
      "Best F1 score for speaker MIDS168, age 6: 0.6791\n"
     ]
    },
    {
     "name": "stderr",
     "output_type": "stream",
     "text": [
      "                                                             \r"
     ]
    },
    {
     "name": "stdout",
     "output_type": "stream",
     "text": [
      "Best trial for speaker MIDS168, age 12: {'batch_size': 64, 'learning_rate': 0.00013603760050057788, 'num_epochs': 33, 'conv1_out_channels': 64, 'conv2_out_channels': 32, 'fc_hidden_units': 256}\n",
      "Best F1 score for speaker MIDS168, age 12: 0.6739\n"
     ]
    },
    {
     "name": "stderr",
     "output_type": "stream",
     "text": [
      "                                                             \r"
     ]
    },
    {
     "name": "stdout",
     "output_type": "stream",
     "text": [
      "Best trial for speaker MIDS168, age 15: {'batch_size': 64, 'learning_rate': 0.00048394224523692095, 'num_epochs': 18, 'conv1_out_channels': 32, 'conv2_out_channels': 64, 'fc_hidden_units': 128}\n",
      "Best F1 score for speaker MIDS168, age 15: 0.6540\n"
     ]
    },
    {
     "name": "stderr",
     "output_type": "stream",
     "text": [
      "                                                             \r"
     ]
    },
    {
     "name": "stdout",
     "output_type": "stream",
     "text": [
      "Best trial for speaker MIDS168, age 18: {'batch_size': 64, 'learning_rate': 0.0003466343621561473, 'num_epochs': 15, 'conv1_out_channels': 16, 'conv2_out_channels': 128, 'fc_hidden_units': 256}\n",
      "Best F1 score for speaker MIDS168, age 18: 0.6545\n"
     ]
    },
    {
     "name": "stderr",
     "output_type": "stream",
     "text": [
      "                                                             \r"
     ]
    },
    {
     "name": "stdout",
     "output_type": "stream",
     "text": [
      "Best trial for speaker MIDS169, age 6: {'batch_size': 32, 'learning_rate': 0.0002001342062287998, 'num_epochs': 25, 'conv1_out_channels': 32, 'conv2_out_channels': 64, 'fc_hidden_units': 256}\n",
      "Best F1 score for speaker MIDS169, age 6: 0.6788\n"
     ]
    },
    {
     "name": "stderr",
     "output_type": "stream",
     "text": [
      "                                                             \r"
     ]
    },
    {
     "name": "stdout",
     "output_type": "stream",
     "text": [
      "Best trial for speaker MIDS169, age 15: {'batch_size': 64, 'learning_rate': 0.0004330924996427894, 'num_epochs': 18, 'conv1_out_channels': 16, 'conv2_out_channels': 128, 'fc_hidden_units': 128}\n",
      "Best F1 score for speaker MIDS169, age 15: 0.6662\n"
     ]
    },
    {
     "name": "stderr",
     "output_type": "stream",
     "text": [
      "                                                             \r"
     ]
    },
    {
     "name": "stdout",
     "output_type": "stream",
     "text": [
      "Best trial for speaker MIDS169, age 18: {'batch_size': 64, 'learning_rate': 7.761594161440962e-05, 'num_epochs': 10, 'conv1_out_channels': 16, 'conv2_out_channels': 128, 'fc_hidden_units': 256}\n",
      "Best F1 score for speaker MIDS169, age 18: 0.6079\n"
     ]
    },
    {
     "name": "stderr",
     "output_type": "stream",
     "text": [
      "                                                             \r"
     ]
    },
    {
     "name": "stdout",
     "output_type": "stream",
     "text": [
      "Best trial for speaker MIDS170, age 6: {'batch_size': 64, 'learning_rate': 0.00015753162795571562, 'num_epochs': 18, 'conv1_out_channels': 32, 'conv2_out_channels': 64, 'fc_hidden_units': 256}\n",
      "Best F1 score for speaker MIDS170, age 6: 0.6123\n"
     ]
    },
    {
     "name": "stderr",
     "output_type": "stream",
     "text": [
      "                                                             \r"
     ]
    },
    {
     "name": "stdout",
     "output_type": "stream",
     "text": [
      "Best trial for speaker MIDS170, age 9: {'batch_size': 64, 'learning_rate': 4.809461967501571e-05, 'num_epochs': 12, 'conv1_out_channels': 32, 'conv2_out_channels': 128, 'fc_hidden_units': 256}\n",
      "Best F1 score for speaker MIDS170, age 9: 0.5161\n"
     ]
    },
    {
     "name": "stderr",
     "output_type": "stream",
     "text": [
      "                                                             \r"
     ]
    },
    {
     "name": "stdout",
     "output_type": "stream",
     "text": [
      "Best trial for speaker MIDS170, age 12: {'batch_size': 32, 'learning_rate': 0.003512704726270845, 'num_epochs': 22, 'conv1_out_channels': 32, 'conv2_out_channels': 64, 'fc_hidden_units': 128}\n",
      "Best F1 score for speaker MIDS170, age 12: 0.6074\n"
     ]
    },
    {
     "name": "stderr",
     "output_type": "stream",
     "text": [
      "                                                             \r"
     ]
    },
    {
     "name": "stdout",
     "output_type": "stream",
     "text": [
      "Best trial for speaker MIDS170, age 15: {'batch_size': 32, 'learning_rate': 0.004467752817973905, 'num_epochs': 22, 'conv1_out_channels': 32, 'conv2_out_channels': 32, 'fc_hidden_units': 256}\n",
      "Best F1 score for speaker MIDS170, age 15: 0.4250\n"
     ]
    },
    {
     "name": "stderr",
     "output_type": "stream",
     "text": [
      "                                                             \r"
     ]
    },
    {
     "name": "stdout",
     "output_type": "stream",
     "text": [
      "Best trial for speaker MIDS170, age 18: {'batch_size': 32, 'learning_rate': 0.0002001342062287998, 'num_epochs': 25, 'conv1_out_channels': 32, 'conv2_out_channels': 64, 'fc_hidden_units': 256}\n",
      "Best F1 score for speaker MIDS170, age 18: 0.6416\n"
     ]
    },
    {
     "name": "stderr",
     "output_type": "stream",
     "text": [
      "                                                             \r"
     ]
    },
    {
     "name": "stdout",
     "output_type": "stream",
     "text": [
      "Best trial for speaker MIDS171, age 6: {'batch_size': 32, 'learning_rate': 9.386101901907736e-05, 'num_epochs': 35, 'conv1_out_channels': 16, 'conv2_out_channels': 64, 'fc_hidden_units': 256}\n",
      "Best F1 score for speaker MIDS171, age 6: 0.6420\n"
     ]
    },
    {
     "name": "stderr",
     "output_type": "stream",
     "text": [
      "                                                             \r"
     ]
    },
    {
     "name": "stdout",
     "output_type": "stream",
     "text": [
      "Best trial for speaker MIDS171, age 9: {'batch_size': 32, 'learning_rate': 0.00010572342944517371, 'num_epochs': 37, 'conv1_out_channels': 16, 'conv2_out_channels': 64, 'fc_hidden_units': 256}\n",
      "Best F1 score for speaker MIDS171, age 9: 0.7010\n"
     ]
    },
    {
     "name": "stderr",
     "output_type": "stream",
     "text": [
      "                                                             \r"
     ]
    },
    {
     "name": "stdout",
     "output_type": "stream",
     "text": [
      "Best trial for speaker MIDS171, age 12: {'batch_size': 32, 'learning_rate': 0.0002001342062287998, 'num_epochs': 25, 'conv1_out_channels': 32, 'conv2_out_channels': 64, 'fc_hidden_units': 256}\n",
      "Best F1 score for speaker MIDS171, age 12: 0.6654\n"
     ]
    },
    {
     "name": "stderr",
     "output_type": "stream",
     "text": [
      "                                                             \r"
     ]
    },
    {
     "name": "stdout",
     "output_type": "stream",
     "text": [
      "Best trial for speaker MIDS171, age 15: {'batch_size': 64, 'learning_rate': 0.0001716752843236918, 'num_epochs': 19, 'conv1_out_channels': 32, 'conv2_out_channels': 64, 'fc_hidden_units': 256}\n",
      "Best F1 score for speaker MIDS171, age 15: 0.6924\n"
     ]
    },
    {
     "name": "stderr",
     "output_type": "stream",
     "text": [
      "                                                             \r"
     ]
    },
    {
     "name": "stdout",
     "output_type": "stream",
     "text": [
      "Best trial for speaker MIDS171, age 18: {'batch_size': 32, 'learning_rate': 2.234732924203056e-05, 'num_epochs': 50, 'conv1_out_channels': 16, 'conv2_out_channels': 32, 'fc_hidden_units': 256}\n",
      "Best F1 score for speaker MIDS171, age 18: 0.6724\n"
     ]
    }
   ],
   "source": [
    "for file in os.listdir(out_dir_ML):\n",
    "    print(file)\n",
    "    if file.split('.csv')[0].split('_')[2] == 'ADS':\n",
    "        continue\n",
    "    train_csv_file_path = os.path.join(out_dir_ML, file)\n",
    "    file_split = file.split('.csv')[0].split('_')\n",
    "    if file.split('.csv')[0].split('_')[1] == 'da':\n",
    "        test_file_name = file_split[0] + '_' + file_split[1] + '_' + 'ADS' + '_' + file_split[3] + '_' + file_split[4] + '.csv'\n",
    "    if file.split('.csv')[0].split('_')[1] == 'no':\n",
    "        test_file_name = file_split[0] + '_' + file_split[1] + '_' + 'ADS' + '_' + file_split[3] + '_' + file_split[4] + '_' + file_split[5] + '.csv'\n",
    "    print(test_file_name)\n",
    "    test_csv_file_path = os.path.join(out_dir_ML, test_file_name)\n",
    "    if file.split('.csv')[0].split('_')[0] == 'formant':\n",
    "        feature_column_names = ['F1', 'F2', 'dF1', 'dF2', 'ddF1', 'ddF2']\n",
    "        df = cnn_load_data_compute_f1score_for_speaker_age(train_csv_file_path, test_csv_file_path, feature_column_names, 'IPA', [2, 2])\n",
    "    if file.split('.csv')[0].split('_')[0] == 'mfcc':\n",
    "        feature_column_names = [f'mfcc{i+1}' for i in range(13)] + [f'dmfcc{i+1}' for i in range(13)]\n",
    "        df = cnn_load_data_compute_f1score_for_speaker_age(train_csv_file_path, test_csv_file_path, feature_column_names, 'IPA', [3, 5])\n",
    "    df['Register'] = file.split('.csv')[0].split('_')[2]\n",
    "    df['Language'] = file.split('.csv')[0].split('_')[1]\n",
    "    df.to_excel(os.path.join(out_dir_path, file.split('.csv')[0] + '.xlsx'), index=False)"
   ]
  }
 ],
 "metadata": {
  "kernelspec": {
   "display_name": "torch",
   "language": "python",
   "name": "python3"
  },
  "language_info": {
   "codemirror_mode": {
    "name": "ipython",
    "version": 3
   },
   "file_extension": ".py",
   "mimetype": "text/x-python",
   "name": "python",
   "nbconvert_exporter": "python",
   "pygments_lexer": "ipython3",
   "version": "3.10.5"
  }
 },
 "nbformat": 4,
 "nbformat_minor": 2
}
